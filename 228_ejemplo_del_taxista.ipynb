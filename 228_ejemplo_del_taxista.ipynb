{
 "cells": [
  {
   "cell_type": "markdown",
   "id": "e981f646-6b12-4092-89c4-b0c4d33760a0",
   "metadata": {
    "id": "YSz1R0Uxf8c_"
   },
   "source": [
    "### Ejemplo del taxista\n",
    "[Hoja de cálculo](https://docs.google.com/spreadsheets/d/1RHwkhmq2qKMV5LIjMt43g0VHawsT6M0-rjk0UhjqsC4/edit?usp=sharing)\n",
    "\n",
    "Deseamos conocer la facturación que raliza un taxi en cuatro carreras en las que ha realizado estos kilometrajes: 10, 4, 25, 20.\n",
    "\n",
    "Sabemos que:\n",
    "1. Por bajada de bander se cobra 2,5 euros\n",
    "2. Por kilómetro recorrido se cobra 1,3 euros\n",
    "\n",
    "La ecuación para calcular el importe de una carrera de taxi es una línea recta:\n",
    "$$y = 2,5 + 1,3 x$$\n",
    "\n",
    "donde:\n",
    "- $x$ son los kilómetros recorridos\n",
    "- $y$ es el importe de la carrera, lo que se ha de pagar\n",
    "\n",
    "Al compararlo con el producto matricial que se hace en un perceptrón al multiplicar la matriz de pesos $W$ por los valores de la variable independiente $X$, se añade un 1 correspondiente al **bias** o sesgo. Así la recta puede verse como:\n",
    "\n",
    "$$y = 1 \\cdot 2,5 + 1,3 \\cdot x$$\n",
    "\n",
    "Podemos resolverlo de forma matricial, para lo cual necesitamos añadir una columna de unos a la matriz $W$.\n",
    "\n",
    "El 1 hace referencia a que en cada carrera únicamente se cobra una vez la bajada de bandera.\n",
    "\n",
    "$$Y = W \\cdot X$$\n",
    "\n",
    "Con nuestros datos:\n",
    "\n",
    "$$Y = \\begin{bmatrix}\n",
    "1 & 10 \\\\\n",
    "1 & 4 \\\\\n",
    "1 & 25 \\\\\n",
    "1 & 20\n",
    "\\end{bmatrix}_{4 \\times 2}\n",
    "\\begin{bmatrix}\n",
    "2.5 \\\\\n",
    "1.3\n",
    "\\end{bmatrix}_{2 \\times 1}\n",
    "=\n",
    "\\begin{bmatrix}\n",
    "15.5 \\\\\n",
    "7.7 \\\\\n",
    "35 \\\\\n",
    "28.5\n",
    "\\end{bmatrix}_{4 \\times 1}$$\n",
    "\n",
    "Para calcular la facturación total simplemente sumamos los importes de estas cuatro carreras.\n",
    "\n",
    "Facturación Total = 15,50 + 7,70 + 35,00 + 28,50 = 86,70 €."
   ]
  },
  {
   "cell_type": "code",
   "execution_count": null,
   "id": "2525886c-f935-4625-9d11-bfdd4034e8e6",
   "metadata": {
    "colab": {
     "base_uri": "https://localhost:8080/"
    },
    "id": "9owq6TzRaEJw",
    "outputId": "b9fcb8d9-3888-4ad5-ea40-2c9e074737e4"
   },
   "outputs": [
    {
     "name": "stdout",
     "output_type": "stream",
     "text": [
      "X_ampliado:\n",
      "[[ 1.  1.  1.  1.]\n",
      " [10.  4. 25. 20.]]\n",
      "\n",
      "Vector: Importes facturados en cada carrera\n",
      "[15.5  7.7 35.  28.5]\n",
      "\n",
      "Total Facturado:\n",
      "86.7\n"
     ]
    }
   ],
   "source": [
    "import numpy as np\n",
    "\n",
    "# Definir el array con los kilómetros recorridos por el taxi en 4 carreras\n",
    "X = np.array([10, 4, 25, 20])\n",
    "\n",
    "# Ampliar X añadiendo una fila de unos (para la bajada de bandera)\n",
    "X_ampliado = np.vstack([np.ones(X.shape), X])\n",
    "\n",
    "# Definir los pesos, bajada de bandera y precio por kilómetro recorrido\n",
    "W = np.array([2.5, 1.3])\n",
    "\n",
    "# Multiplicamos las dos matrices\n",
    "# Calcular el vector: Importes facturados en cada carrera\n",
    "importes = np.dot(W, X_ampliado)\n",
    "\n",
    "print(\"X_ampliado:\")\n",
    "print(X_ampliado)\n",
    "print(\"\\nVector: Importes facturados en cada carrera\")\n",
    "print(importes)\n",
    "print(\"\\nTotal Facturado:\")\n",
    "print(np.sum(importes))"
   ]
  },
  {
   "cell_type": "markdown",
   "id": "2f2a4721-3654-48bb-87f3-385b731200b4",
   "metadata": {
    "id": "P7KI6S0hfB7V"
   },
   "source": [
    "#### Numpy es flexible al multiplicar\n",
    "- Si multiplicamos usando la W Transpuesta no da error ya que Numpy es flexible\n",
    "- Además el resultado que se obtiene es idéntico. Numpy se encarga de encajar las dimensiones"
   ]
  },
  {
   "cell_type": "code",
   "execution_count": 4,
   "id": "a44fdf95-96d3-40c6-9129-f367ffe7fd96",
   "metadata": {
    "colab": {
     "base_uri": "https://localhost:8080/"
    },
    "id": "ph9VJ-BwgQn_",
    "outputId": "11cbc279-1858-4d74-a92c-43d470cee5eb"
   },
   "outputs": [
    {
     "name": "stdout",
     "output_type": "stream",
     "text": [
      "[22.25  7.7  37.25 33.  ]\n",
      "[22.25  7.7  37.25 33.  ]\n"
     ]
    }
   ],
   "source": [
    "print(np.dot(W, X_ampliado))\n",
    "print(np.dot(W.T, X_ampliado))  # usamos la transpuesta de W"
   ]
  },
  {
   "cell_type": "markdown",
   "id": "a294977b-eac6-446a-b1cf-e84fb1c4c7b5",
   "metadata": {
    "id": "5Fq5fcaPI4tZ"
   },
   "source": [
    "## Añadimos una nueva variable\n",
    "Consideremos que en la tarifa del taxi también hay que añadir 0,50 € por cada minuto de espera.\n",
    "\n",
    "La nueva ecuación para calcular el importe de una carrera de taxi también es lineal, pero ahora es un plano en 3D.\n",
    "\n",
    "$$y = 2,5 + 1,3 x_1 + 0,5 x_2$$\n",
    "\n",
    "donde:\n",
    "- $x_1$ son los kilómetros recorridos\n",
    "- $x_2$ son los minutos de espera\n",
    "- $y$ es el importe de la carrera\n",
    "\n",
    "La ecuación matricial no varía, pero ahora las matrices son mayores.\n",
    "\n",
    "$$Y = W \\cdot X$$\n",
    "\n",
    "$$Y = \\begin{bmatrix}\n",
    "1 & 10 & 15\\\\\n",
    "1 & 4 & 0\\\\\n",
    "1 & 25 & 5\\\\\n",
    "1 & 20 & 10\n",
    "\\end{bmatrix}_{4 \\times 3}\n",
    "\\begin{bmatrix}\n",
    "2.5 \\\\\n",
    "1.3 \\\\\n",
    "0.5\n",
    "\\end{bmatrix}_{3 \\times 1}\n",
    "=\n",
    "\\begin{bmatrix}\n",
    "23 \\\\\n",
    "7.7 \\\\\n",
    "37.5 \\\\\n",
    "33.5\n",
    "\\end{bmatrix}_{4 \\times 1}$$\n",
    "\n",
    "Para calcular la facturación total simplemente sumamos los importes de estas cuatro carreras.\n",
    "\n",
    "Facturación Total = 23,00 + 7,70 + 37,50+ 33,50 = 101,70 €."
   ]
  },
  {
   "cell_type": "code",
   "execution_count": 5,
   "id": "b6c31d29-59b7-4888-96e2-7fb14e3437da",
   "metadata": {
    "colab": {
     "base_uri": "https://localhost:8080/"
    },
    "id": "HF-3qoQIKsVH",
    "outputId": "d89b0d1d-9906-4e8c-88ff-039087499f80"
   },
   "outputs": [
    {
     "name": "stdout",
     "output_type": "stream",
     "text": [
      "X_ampliado:\n",
      "[[ 1.  1.  1.  1.]\n",
      " [10.  4. 25. 20.]\n",
      " [15.  0.  5. 10.]]\n",
      "\n",
      "Vector: Importes facturados en cada carrera\n",
      "[23.   7.7 37.5 33.5]\n",
      "\n",
      "Total Facturado:\n",
      "101.7\n"
     ]
    }
   ],
   "source": [
    "import numpy as np\n",
    "\n",
    "# Definir la matriz con los km. y minutos de las 4 carreras del taxi\n",
    "X = np.array([[10, 4, 25, 20],  # kilómetros recorridos\n",
    "              [15, 0, 5, 10]])  # minutos de espera\n",
    "\n",
    "# Ampliar X añadiendo una fila de unos (para la bajada de bandera)\n",
    "X_ampliado = np.vstack([np.ones(X.shape[1]), X])\n",
    "\n",
    "# Pesos: bajada de bandera, precio por kilómetro recorrido y minuto de espera\n",
    "W = np.array([2.5, 1.3, 0.5])\n",
    "\n",
    "# Multiplicamos las dos matrices\n",
    "# Calcular el vector: Importes facturados en cada carrera\n",
    "importes = np.dot(W, X_ampliado)\n",
    "\n",
    "print(\"X_ampliado:\")\n",
    "print(X_ampliado)\n",
    "\n",
    "print(\"\\nVector: Importes facturados en cada carrera\")\n",
    "print(importes)\n",
    "\n",
    "print(\"\\nTotal Facturado:\")\n",
    "print(np.sum(importes))"
   ]
  }
 ],
 "metadata": {
  "kernelspec": {
   "display_name": "Python 3 (ipykernel)",
   "language": "python",
   "name": "python3"
  },
  "language_info": {
   "codemirror_mode": {
    "name": "ipython",
    "version": 3
   },
   "file_extension": ".py",
   "mimetype": "text/x-python",
   "name": "python",
   "nbconvert_exporter": "python",
   "pygments_lexer": "ipython3",
   "version": "3.12.2"
  }
 },
 "nbformat": 4,
 "nbformat_minor": 5
}
