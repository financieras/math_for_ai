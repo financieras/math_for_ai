{
  "cells": [
    {
      "cell_type": "markdown",
      "metadata": {
        "id": "view-in-github",
        "colab_type": "text"
      },
      "source": [
        "<a href=\"https://colab.research.google.com/github/financieras/math_for_ai/blob/main/228_ejemplo_del_taxista.ipynb\" target=\"_parent\"><img src=\"https://colab.research.google.com/assets/colab-badge.svg\" alt=\"Open In Colab\"/></a>"
      ]
    },
    {
      "cell_type": "markdown",
      "source": [
        "# El misterio del \"1\" en Machine Learning\n",
        "\n",
        "Una de las cosas que más confunde a quienes aprenden Machine Learning es **¿de dónde sale ese \"1\" que multiplicamos por el bias?**\n",
        "\n",
        "Vamos a resolverlo con un ejemplo muy intuitivo: calculando el precio de la carrera de un taxi.\n",
        "\n",
        "---\n",
        "\n",
        "## El problema: Tarifas de taxi\n",
        "\n",
        "Un taxi cobra según esta fórmula:\n",
        "\n",
        "$$\\text{Precio} = 2.5 + 1.3 \\times \\text{km}$$\n",
        "\n",
        "Es una línea recta:\n",
        "$$y = b + m x$$\n",
        "O bien, en notación de Machine Learning, la recta es:\n",
        "\n",
        "$$y = w_0 + w_1 x$$\n",
        "\n",
        "Donde:\n",
        "- **2.5€** es la **bajada de bandera** (coste fijo, independiente de los km). En la recta es el término independiente, intercepto o bias.\n",
        "- **1.3€/km** es el precio por kilómetro recorrido. En la recta es la pendiente o coeficiente de la variable independiente $x$.\n",
        "\n",
        "### La pregunta clave\n",
        "\n",
        "¿Cómo expresamos esto en forma matricial para calcular **múltiples carreras a la vez**?\n",
        "\n",
        "El problema es que la bajada de bandera (2.5€) **no depende de ninguna variable**. Es un término constante. Pero en una multiplicación matricial, necesitamos multiplicar cada peso por algo.\n",
        "\n",
        "**Solución:** Multiplicamos el término constante por 1.\n",
        "\n",
        "$$\\text{Precio} = 2.5 \\times \\boxed{1} + 1.3 \\times \\text{km}$$\n",
        "\n",
        "Este \"1\" es lo que nos permite incluir el término independiente en la notación matricial.\n",
        "\n",
        "---\n",
        "\n",
        "## Caso 1: Una sola carrera\n",
        "\n",
        "Empecemos calculando el precio de una carrera de 10 km usando notación matricial."
      ],
      "metadata": {
        "id": "L2toJnudEX9l"
      },
      "id": "L2toJnudEX9l"
    },
    {
      "cell_type": "code",
      "source": [
        "import numpy as np\n",
        "\n",
        "# Una carrera: [1, km]\n",
        "# El 1 es para multiplicar por la bajada de bandera\n",
        "x = np.array([1, 10])  # [bias, kilómetros]\n",
        "\n",
        "# Pesos: [bajada_bandera, precio_por_km]\n",
        "w = np.array([2.5, 1.3])\n",
        "\n",
        "# Calculamos el precio\n",
        "precio = x @ w  # Equivalente a: x.dot(w)\n",
        "\n",
        "print(f\"Carrera de {x[1]} km\")\n",
        "print(f\"Precio: {precio}€\")\n",
        "print(f\"\\nDesglose:\")\n",
        "print(f\"  Bajada de bandera: {w[0]} × {x[0]}  =  {w[0] * x[0]}€\")\n",
        "print(f\"  Kilómetros:        {w[1]} × {x[1]} = {w[1] * x[1]}€\")\n",
        "print(f\"  Total:                        {precio}€\")"
      ],
      "metadata": {
        "id": "Y6bYKhe-Ew3z",
        "colab": {
          "base_uri": "https://localhost:8080/"
        },
        "outputId": "4df4a525-07bd-471e-8e2e-16c45b868c81"
      },
      "id": "Y6bYKhe-Ew3z",
      "execution_count": 4,
      "outputs": [
        {
          "output_type": "stream",
          "name": "stdout",
          "text": [
            "Carrera de 10 km\n",
            "Precio: 15.5€\n",
            "\n",
            "Desglose:\n",
            "  Bajada de bandera: 2.5 × 1  =  2.5€\n",
            "  Kilómetros:        1.3 × 10 = 13.0€\n",
            "  Total:                        15.5€\n"
          ]
        }
      ]
    },
    {
      "cell_type": "markdown",
      "source": [
        "### Notación matricial\n",
        "\n",
        "Para una sola observación:\n",
        "\n",
        "$$\\hat{y} = \\mathbf{x}^T \\mathbf{w} = \\begin{bmatrix} 1 & 10 \\end{bmatrix} \\begin{bmatrix} 2.5 \\\\ 1.3 \\end{bmatrix} = 15.5$$\n",
        "\n",
        "**Dimensiones:** $\\mathbf{x}^T_{1 \\times 2} \\cdot \\mathbf{w}_{2 \\times 1} = \\hat{y}$ (escalar)\n",
        "\n",
        "---\n",
        "\n",
        "## Caso 2: Múltiples carreras (Batch Processing)\n",
        "\n",
        "En Machine Learning, **nunca procesamos datos de uno en uno**. Siempre trabajamos con **batches** (lotes) de datos.\n",
        "\n",
        "Supongamos que tenemos 4 carreras diferentes:\n",
        "\n",
        "| Carrera | Kilómetros |\n",
        "|---------|------------|\n",
        "| 1       | 10         |\n",
        "| 2       | 4          |\n",
        "| 3       | 25         |\n",
        "| 4       | 20         |\n",
        "\n",
        "Queremos calcular los 4 precios **simultáneamente**."
      ],
      "metadata": {
        "id": "zaqFeT0gE45s"
      },
      "id": "zaqFeT0gE45s"
    },
    {
      "cell_type": "code",
      "source": [
        "# Kilómetros de 4 carreras\n",
        "kilometros = np.array([10, 4, 25, 20])\n",
        "\n",
        "# Construimos la matriz X: cada FILA es una carrera\n",
        "# Añadimos columna de unos para la bajada de bandera\n",
        "X = np.column_stack([np.ones(4), kilometros])\n",
        "\n",
        "# Pesos\n",
        "w = np.array([2.5, 1.3])\n",
        "\n",
        "# Calculamos los 4 precios a la vez\n",
        "precios = X @ w\n",
        "\n",
        "print(\"Matriz X (cada fila es una carrera):\")\n",
        "print(X)\n",
        "print(\"\\nVector de pesos w:\")\n",
        "print(w)\n",
        "print(\"\\nPrecios de cada carrera:\")\n",
        "for i, precio in enumerate(precios, 1):\n",
        "    print(f\"  Carrera {i} ({X[i-1, 1]:.0f} km): {precio}€\")\n",
        "print(f\"\\nTotal facturado:     {np.sum(precios)}€\")"
      ],
      "metadata": {
        "id": "pwaQfErjFBC3",
        "colab": {
          "base_uri": "https://localhost:8080/"
        },
        "outputId": "1ca4a097-4cdf-456f-a090-efe3d5f75a9d"
      },
      "id": "pwaQfErjFBC3",
      "execution_count": 6,
      "outputs": [
        {
          "output_type": "stream",
          "name": "stdout",
          "text": [
            "Matriz X (cada fila es una carrera):\n",
            "[[ 1. 10.]\n",
            " [ 1.  4.]\n",
            " [ 1. 25.]\n",
            " [ 1. 20.]]\n",
            "\n",
            "Vector de pesos w:\n",
            "[2.5 1.3]\n",
            "\n",
            "Precios de cada carrera:\n",
            "  Carrera 1 (10 km): 15.5€\n",
            "  Carrera 2 (4 km): 7.7€\n",
            "  Carrera 3 (25 km): 35.0€\n",
            "  Carrera 4 (20 km): 28.5€\n",
            "\n",
            "Total facturado:     86.7€\n"
          ]
        }
      ]
    },
    {
      "cell_type": "markdown",
      "source": [
        "### Notación matricial para batch\n",
        "\n",
        "$$\\hat{\\mathbf{y}} = \\mathbf{X} \\mathbf{w} = \\begin{bmatrix}\n",
        "1 & 10 \\\\\n",
        "1 & 4 \\\\\n",
        "1 & 25 \\\\\n",
        "1 & 20\n",
        "\\end{bmatrix}\n",
        "\\begin{bmatrix}\n",
        "2.5 \\\\\n",
        "1.3\n",
        "\\end{bmatrix}\n",
        "=\n",
        "\\begin{bmatrix}\n",
        "15.5 \\\\\n",
        "7.7 \\\\\n",
        "35.0 \\\\\n",
        "28.5\n",
        "\\end{bmatrix}$$\n",
        "\n",
        "**Dimensiones:** $\\mathbf{X}_{4 \\times 2} \\cdot \\mathbf{w}_{2 \\times 1} = \\hat{\\mathbf{y}}_{4 \\times 1}$\n",
        "\n",
        "**Observa:**\n",
        "- Cada **fila** de $\\mathbf{X}$ es una observación (una carrera)\n",
        "- La **primera columna** contiene solo unos (para el bias)\n",
        "- Obtenemos **4 predicciones** con una sola operación matricial\n",
        "\n",
        "---\n",
        "\n",
        "## Caso 3: Múltiples características\n",
        "\n",
        "Ahora añadimos una segunda variable: **minutos de espera** (coste: 0.5€/min)\n",
        "\n",
        "$$\\text{Precio} = 2.5 + 1.3 \\times \\text{km} + 0.5 \\times \\text{min}$$\n",
        "\n",
        "Es la ecuación de un plano:\n",
        "$$y = w_0 + w_1 x_1 + w_2 x_2$$\n",
        "\n",
        "### Una carrera con dos características"
      ],
      "metadata": {
        "id": "BqxnCe5KIozJ"
      },
      "id": "BqxnCe5KIozJ"
    },
    {
      "cell_type": "code",
      "source": [
        "# Una carrera: 10 km y 15 minutos de espera\n",
        "x = np.array([1, 10, 15])  # [bias, km, minutos]\n",
        "\n",
        "# Pesos: [bajada_bandera, precio_km, precio_minuto]\n",
        "w = np.array([2.5, 1.3, 0.5])\n",
        "\n",
        "# Calculamos el precio\n",
        "precio = x @ w\n",
        "\n",
        "print(f\"Carrera: {x[1]} km, {x[2]} min\")\n",
        "print(f\"Precio: {precio}€\")\n",
        "print(f\"\\nDesglose:\")\n",
        "print(f\"  Bajada de bandera: {w[0]} × {x[0]}  =  {w[0] * x[0]}€\")\n",
        "print(f\"  Kilómetros:        {w[1]} × {x[1]} = {w[1] * x[1]}€\")\n",
        "print(f\"  Minutos:           {w[2]} × {x[2]} =  {w[2] * x[2]}€\")\n",
        "print(f\"  Total:                        {precio}€\")"
      ],
      "metadata": {
        "id": "Y_cacmEQFfeK",
        "colab": {
          "base_uri": "https://localhost:8080/"
        },
        "outputId": "ad26a175-47b4-46e3-d0f0-8ef5d4eb33e2"
      },
      "id": "Y_cacmEQFfeK",
      "execution_count": 12,
      "outputs": [
        {
          "output_type": "stream",
          "name": "stdout",
          "text": [
            "Carrera: 10 km, 15 min\n",
            "Precio: 23.0€\n",
            "\n",
            "Desglose:\n",
            "  Bajada de bandera: 2.5 × 1  =  2.5€\n",
            "  Kilómetros:        1.3 × 10 = 13.0€\n",
            "  Minutos:           0.5 × 15 =  7.5€\n",
            "  Total:                        23.0€\n"
          ]
        }
      ]
    },
    {
      "cell_type": "markdown",
      "source": [
        "### Batch de 4 carreras con dos características\n",
        "\n",
        "Ahora tenemos:\n",
        "\n",
        "| Carrera | Kilómetros | Minutos |\n",
        "|---------|------------|----------|\n",
        "| 1       | 10         | 15       |\n",
        "| 2       | 4          | 0        |\n",
        "| 3       | 25         | 5        |\n",
        "| 4       | 20         | 10       |"
      ],
      "metadata": {
        "id": "5IqKvKQLFklg"
      },
      "id": "5IqKvKQLFklg"
    },
    {
      "cell_type": "code",
      "source": [
        "# Datos de las 4 carreras\n",
        "kilometros = np.array([10, 4, 25, 20])\n",
        "minutos = np.array([15, 0, 5, 10])\n",
        "\n",
        "# Construimos X: cada fila es una carrera [1, km, min]\n",
        "X = np.column_stack([np.ones(4), kilometros, minutos])\n",
        "\n",
        "# Pesos: [bajada_bandera, precio_km, precio_minuto]\n",
        "w = np.array([2.5, 1.3, 0.5])\n",
        "\n",
        "# Calculamos los 4 precios\n",
        "precios = X @ w\n",
        "\n",
        "print(\"Matriz X (cada fila es una carrera):\")\n",
        "print(\"  [bias, km, min]\")\n",
        "print(X)\n",
        "print(\"\\nVector de pesos w:\")\n",
        "print(\"  [bajada, €/km, €/min]\")\n",
        "print(w)\n",
        "print(\"\\nPrecios calculados:\")\n",
        "for i in range(len(precios)):\n",
        "    print(f\"  Carrera {i+1} ({X[i,1]:.0f} km, {X[i,2]:.0f} min): {precios[i]}€\")\n",
        "print(f\"\\nTotal facturado: {np.sum(precios)}€\")"
      ],
      "metadata": {
        "id": "esS6dmTYFlU7",
        "colab": {
          "base_uri": "https://localhost:8080/"
        },
        "outputId": "a31c936d-91b1-415f-eaa6-694a2db3a57a"
      },
      "id": "esS6dmTYFlU7",
      "execution_count": 13,
      "outputs": [
        {
          "output_type": "stream",
          "name": "stdout",
          "text": [
            "Matriz X (cada fila es una carrera):\n",
            "  [bias, km, min]\n",
            "[[ 1. 10. 15.]\n",
            " [ 1.  4.  0.]\n",
            " [ 1. 25.  5.]\n",
            " [ 1. 20. 10.]]\n",
            "\n",
            "Vector de pesos w:\n",
            "  [bajada, €/km, €/min]\n",
            "[2.5 1.3 0.5]\n",
            "\n",
            "Precios calculados:\n",
            "  Carrera 1 (10 km, 15 min): 23.0€\n",
            "  Carrera 2 (4 km, 0 min): 7.7€\n",
            "  Carrera 3 (25 km, 5 min): 37.5€\n",
            "  Carrera 4 (20 km, 10 min): 33.5€\n",
            "\n",
            "Total facturado: 101.7€\n"
          ]
        }
      ]
    },
    {
      "cell_type": "markdown",
      "source": [
        "### Notación matricial\n",
        "\n",
        "$$\\hat{\\mathbf{y}} = \\mathbf{X} \\mathbf{w} = \\begin{bmatrix}\n",
        "1 & 10 & 15 \\\\\n",
        "1 & 4 & 0 \\\\\n",
        "1 & 25 & 5 \\\\\n",
        "1 & 20 & 10\n",
        "\\end{bmatrix}\n",
        "\\begin{bmatrix}\n",
        "2.5 \\\\\n",
        "1.3 \\\\\n",
        "0.5\n",
        "\\end{bmatrix}\n",
        "=\n",
        "\\begin{bmatrix}\n",
        "23.0 \\\\\n",
        "7.7 \\\\\n",
        "37.5 \\\\\n",
        "33.5\n",
        "\\end{bmatrix}$$\n",
        "\n",
        "**Dimensiones:** $\\mathbf{X}_{4 \\times 3} \\cdot \\mathbf{w}_{3 \\times 1} = \\hat{\\mathbf{y}}_{4 \\times 1}$\n",
        "\n",
        "---\n",
        "\n",
        "## 🎯 Conexión con Machine Learning\n",
        "\n",
        "### Regresión Lineal\n",
        "\n",
        "Podemos ver el paralelismo con la regresión lineal, que para $n$ características se expresa como un hiperplano:\n",
        "\n",
        "$$\\hat{y} = w_0 + w_1 x_1 + w_2 x_2 + \\cdots + w_n x_n$$\n",
        "\n",
        "En forma matricial:\n",
        "\n",
        "$$\\hat{\\mathbf{y}} = \\mathbf{X} \\mathbf{w}$$\n",
        "\n",
        "Donde:\n",
        "- $\\mathbf{X}$: matriz de características $(m \\times (n+1))$\n",
        "  - $m$ = número de observaciones (muestras)\n",
        "  - $n$ = número de features (características)\n",
        "  - La **primera columna** son unos (para el bias $w_0$)\n",
        "- $\\mathbf{w}$: vector de pesos $((n+1) \\times 1)$\n",
        "- $\\hat{\\mathbf{y}}$: vector de predicciones $(m \\times 1)$\n",
        "\n",
        "### Ejemplo con scikit-learn"
      ],
      "metadata": {
        "id": "lzO79bWKEYo3"
      },
      "id": "lzO79bWKEYo3"
    },
    {
      "cell_type": "code",
      "source": [
        "from sklearn.linear_model import LinearRegression\n",
        "\n",
        "# Datos (sin incluir columna de unos, sklearn lo hace automáticamente)\n",
        "X_train = np.array([[10, 15],\n",
        "                    [4, 0],\n",
        "                    [25, 5],\n",
        "                    [20, 10]])\n",
        "y_train = np.array([23.0, 7.7, 37.5, 33.5])\n",
        "\n",
        "# Entrenar modelo\n",
        "modelo = LinearRegression()\n",
        "modelo.fit(X_train, y_train)\n",
        "\n",
        "print(\"Parámetros aprendidos por sklearn:\")\n",
        "print(f\"  Bias (w₀): {modelo.intercept_:.12f}\")\n",
        "print(f\"  Coeficientes (w₁, w₂): {modelo.coef_}\")\n",
        "\n",
        "print(\"\\nComparando con nuestros pesos originales:\")\n",
        "print(f\"  w₀ (bajada): {w[0]}\")\n",
        "print(f\"  w₁ (€/km):   {w[1]}\")\n",
        "print(f\"  w₂ (€/min):  {w[2]}\")\n",
        "\n",
        "# Predecir nueva carrera: 30 km, 8 minutos\n",
        "nueva_carrera = np.array([[30, 8]])\n",
        "precio_predicho = modelo.predict(nueva_carrera)[0]\n",
        "precio_manual = 2.5 + 1.3*30 + 0.5*8\n",
        "\n",
        "print(f\"\\nNueva carrera (30 km, 8 min):\")\n",
        "print(f\"  Predicción sklearn: {precio_predicho:.12f}€\")\n",
        "print(f\"  Cálculo manual:     {precio_manual}€\")"
      ],
      "metadata": {
        "id": "1vBuKBCsIvPL",
        "colab": {
          "base_uri": "https://localhost:8080/"
        },
        "outputId": "d3557aa5-d7c0-48ac-bb98-9a8fcd7fb64b"
      },
      "id": "1vBuKBCsIvPL",
      "execution_count": 17,
      "outputs": [
        {
          "output_type": "stream",
          "name": "stdout",
          "text": [
            "Parámetros aprendidos por sklearn:\n",
            "  Bias (w₀): 2.500000000000\n",
            "  Coeficientes (w₁, w₂): [1.3 0.5]\n",
            "\n",
            "Comparando con nuestros pesos originales:\n",
            "  w₀ (bajada): 2.5\n",
            "  w₁ (€/km):   1.3\n",
            "  w₂ (€/min):  0.5\n",
            "\n",
            "Nueva carrera (30 km, 8 min):\n",
            "  Predicción sklearn: 45.500000000000€\n",
            "  Cálculo manual:     45.5€\n"
          ]
        }
      ]
    },
    {
      "cell_type": "markdown",
      "source": [
        "---\n",
        "\n",
        "## 🧠 Ventajas del procesamiento en batch\n",
        "\n",
        "El procesamiento en batch (múltiples observaciones a la vez) es **fundamental** en Machine Learning:\n",
        "\n",
        "### 1. **Eficiencia computacional**\n",
        "Procesar 100 muestras simultáneamente es **muchísimo más rápido** que procesarlas una por una."
      ],
      "metadata": {
        "id": "nuevo_markdown_1"
      },
      "id": "nuevo_markdown_1"
    },
    {
      "cell_type": "code",
      "source": [
        "import time\n",
        "\n",
        "# Generamos 1 millón de carreras aleatorias\n",
        "n_carreras = 1_000_000\n",
        "X_grande = np.column_stack([\n",
        "    np.ones(n_carreras),\n",
        "    np.random.uniform(1, 50, n_carreras),  # km\n",
        "    np.random.uniform(0, 30, n_carreras)   # minutos\n",
        "])\n",
        "\n",
        "# Método 1: Una por una (loop)\n",
        "start = time.time()\n",
        "precios_loop = []\n",
        "for i in range(n_carreras):\n",
        "    precio = X_grande[i] @ w\n",
        "    precios_loop.append(precio)\n",
        "tiempo_loop = time.time() - start\n",
        "\n",
        "# Método 2: Todas a la vez (vectorizado)\n",
        "start = time.time()\n",
        "precios_vectorizado = X_grande @ w\n",
        "tiempo_vectorizado = time.time() - start\n",
        "\n",
        "print(f\"Procesando {n_carreras:,} carreras:\")\n",
        "print(f\"  Método loop (una por una): {tiempo_loop*1000:.2f} ms\")\n",
        "print(f\"  Método vectorizado (batch): {tiempo_vectorizado*1000:.2f} ms\")\n",
        "print(f\"  Speedup: {tiempo_loop/tiempo_vectorizado:.1f}x más rápido\")"
      ],
      "metadata": {
        "id": "codigo_benchmark",
        "colab": {
          "base_uri": "https://localhost:8080/"
        },
        "outputId": "20c7d100-f6c8-4c04-be8b-17dceb1ec7c9"
      },
      "id": "codigo_benchmark",
      "execution_count": 24,
      "outputs": [
        {
          "output_type": "stream",
          "name": "stdout",
          "text": [
            "Procesando 1,000,000 carreras:\n",
            "  Método loop (una por una): 3063.47 ms\n",
            "  Método vectorizado (batch): 4.01 ms\n",
            "  Speedup: 764.4x más rápido\n"
          ]
        }
      ]
    },
    {
      "cell_type": "markdown",
      "source": [
        "### 2. **Aprovechamiento del hardware**\n",
        "\n",
        "Las GPUs están optimizadas para operaciones matriciales grandes. Por eso los frameworks de Deep Learning (PyTorch, TensorFlow) trabajan siempre con batches.\n",
        "\n",
        "### 3. **Estabilidad en entrenamiento**\n",
        "\n",
        "En redes neuronales, calcular gradientes sobre un batch es más estable que sobre una sola muestra.\n",
        "\n",
        "Los tamaños de batch típicos para entrenamiento son: 32, 64, 128, 256, ..., para optimizar los productos matriciales en las tarjetas gráficas.\n",
        "\n",
        "---\n",
        "\n",
        "## 📐 Fórmula general\n",
        "\n",
        "Para $n$ características (features) y $m$ observaciones (muestras):\n",
        "\n",
        "### Una observación:\n",
        "\n",
        "$$\\hat{y} = \\mathbf{x}^T \\mathbf{w} = \\begin{bmatrix} 1 & x_1 & x_2 & \\cdots & x_n \\end{bmatrix} \\begin{bmatrix} w_0 \\\\ w_1 \\\\ w_2 \\\\ \\vdots \\\\ w_n \\end{bmatrix}$$\n",
        "\n",
        "**Dimensiones:** $\\mathbf{x}^T_{1 \\times (n+1)} \\cdot \\mathbf{w}_{(n+1) \\times 1} = \\hat{y}$ (escalar)\n",
        "\n",
        "### Batch de $m$ observaciones:\n",
        "\n",
        "$$\\hat{\\mathbf{y}} = \\mathbf{X} \\mathbf{w} = \\begin{bmatrix}\n",
        "1 & x_{11} & x_{12} & \\cdots & x_{1n} \\\\\n",
        "1 & x_{21} & x_{22} & \\cdots & x_{2n} \\\\\n",
        "\\vdots & \\vdots & \\vdots & \\ddots & \\vdots \\\\\n",
        "1 & x_{m1} & x_{m2} & \\cdots & x_{mn}\n",
        "\\end{bmatrix}\n",
        "\\begin{bmatrix}\n",
        "w_0 \\\\ w_1 \\\\ w_2 \\\\ \\vdots \\\\ w_n\n",
        "\\end{bmatrix}$$\n",
        "\n",
        "**Dimensiones:** $\\mathbf{X}_{m \\times (n+1)} \\cdot \\mathbf{w}_{(n+1) \\times 1} = \\hat{\\mathbf{y}}_{m \\times 1}$\n",
        "\n",
        "---\n",
        "\n",
        "En este artículo hemos realizado un recorrido por los motivos que hacen interesante trabajar de forma matricial con lotes de datos. Esto muestra el origen del misterioso **1** que aparece en las fórmulas matriciales."
      ],
      "metadata": {
        "id": "resumen_final"
      },
      "id": "resumen_final"
    }
  ],
  "metadata": {
    "kernelspec": {
      "display_name": "Python 3 (ipykernel)",
      "language": "python",
      "name": "python3"
    },
    "language_info": {
      "codemirror_mode": {
        "name": "ipython",
        "version": 3
      },
      "file_extension": ".py",
      "mimetype": "text/x-python",
      "name": "python",
      "nbconvert_exporter": "python",
      "pygments_lexer": "ipython3",
      "version": "3.12.2"
    },
    "colab": {
      "provenance": [],
      "include_colab_link": true
    }
  },
  "nbformat": 4,
  "nbformat_minor": 5
}