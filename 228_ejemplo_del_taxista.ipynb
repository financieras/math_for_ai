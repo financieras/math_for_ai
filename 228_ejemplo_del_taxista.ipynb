{
  "cells": [
    {
      "cell_type": "markdown",
      "metadata": {
        "id": "view-in-github",
        "colab_type": "text"
      },
      "source": [
        "<a href=\"https://colab.research.google.com/github/financieras/math_for_ai/blob/main/228_ejemplo_del_taxista.ipynb\" target=\"_parent\"><img src=\"https://colab.research.google.com/assets/colab-badge.svg\" alt=\"Open In Colab\"/></a>"
      ]
    },
    {
      "cell_type": "markdown",
      "source": [
        "# Fórmula del perceptrón\n",
        "\n",
        "En el perceptrón, la operación principal consiste en multiplicar los pesos $W$ por las entradas $X$ y sumar los resultados, lo que se conoce como producto escalar o suma ponderada. Esto determina el grado de activación de la neurona artificial.\n",
        "\n",
        "## Motivo para añadir el 1 a $X$\n",
        "\n",
        "Se añade un \"1\" extra al vector de entrada $X$ para incorporar el sesgo o bias en la fórmula del perceptrón. El sesgo permite desplazar el umbral de activación y, matemáticamente, se representa como un peso adicional multiplicado por ese \"1\". Esto simplifica la notación y permite expresar toda la operación como un único producto matricial.\n",
        "\n",
        "## Dimensiones de $W$ y $X$\n",
        "\n",
        "- Si $X$ es un vector columna con $m$ características, entonces, al añadir el sesgo, $X$ tendrá dimensión $(m+1) \\times 1$. Es decir, es una columna con todas las características más el valor 1 añadido al inicio.\n",
        "- El vector de pesos $W$ debe tener también dimensión $(m+1) \\times 1$: un peso para cada característica más uno para el sesgo.\n",
        "\n",
        "## ¿Es necesario usar la transpuesta?\n",
        "\n",
        "La transpuesta es necesaria en la notación matricial para asegurar que las dimensiones sean compatibles en el producto. Por ejemplo, la operación se expresa como:\n",
        "\n",
        "$$y = W^T X$$\n",
        "\n",
        "Donde $W^T$ (transpuesta de $W$) es un vector fila de dimensión $1 \\times (m+1)$ y $X$ es un vector columna de dimensión $(m+1) \\times 1$, lo que resulta en un escalar.\n",
        "\n",
        "## Resumen de la operación\n",
        "\n",
        "- Se multiplica cada entrada por su peso correspondiente y se suma el resultado.\n",
        "- El sesgo se añade multiplicando un peso extra por 1, dando flexibilidad para ajustar el umbral.\n",
        "- Tanto $W$ como $X$ deben tener dimensiones compatibles tras añadir el sesgo.\n",
        "- La notación con transpuesta es estándar en machine learning para operaciones matriciales.\n",
        "\n",
        "Esto convierte la fórmula completa en:\n",
        "\n",
        "$$y = W^T X$$\n",
        "\n",
        "donde:\n",
        "- $X = [1, x_1, x_2, \\ldots, x_m]^T$\n",
        "- $W = [w_0, w_1, w_2, \\ldots, w_m]^T$\n",
        "\n",
        "donde $w_0$ es el sesgo (bias).\n",
        "\n",
        "Así, la suma de los pesos de entrada y el sesgo se combinan en un solo producto escalar.\n",
        "\n",
        "---\n",
        "\n",
        "## Ejemplo del taxista: Una carrera (una muestra)\n",
        "\n",
        "[Hoja de Cálculo](https://docs.google.com/spreadsheets/d/1RHwkhmq2qKMV5LIjMt43g0VHawsT6M0-rjk0UhjqsC4/edit?usp=sharing)\n",
        "\n",
        "Vamos a ilustrar cómo funciona un perceptrón usando el ejemplo de calcular el importe de una carrera de taxi.\n",
        "\n",
        "### Tarifa del taxi\n",
        "\n",
        "La tarifa tiene dos componentes:\n",
        "- **Bajada de bandera:** 2,50 €\n",
        "- **Precio por kilómetro:** 1,30 €\n",
        "\n",
        "La ecuación para calcular el importe es:\n",
        "\n",
        "$$y = 2.5 + 1.3 \\cdot x$$\n",
        "\n",
        "donde $x$ son los kilómetros recorridos e $y$ es el importe de la carrera.\n",
        "\n",
        "### Representación matricial para una carrera\n",
        "\n",
        "Supongamos una carrera de 10 km:"
      ],
      "metadata": {
        "id": "L2toJnudEX9l"
      },
      "id": "L2toJnudEX9l"
    },
    {
      "cell_type": "code",
      "source": [
        "import numpy as np\n",
        "\n",
        "# Una carrera de 10 km\n",
        "x = np.array([10])\n",
        "\n",
        "# Añadimos el 1 para la bajada de bandera\n",
        "x_ampliado = np.array([1, 10])  # shape: (2,)\n",
        "\n",
        "# Pesos: [bajada_bandera, precio_por_km]\n",
        "W = np.array([2.5, 1.3])  # shape: (2,)\n",
        "\n",
        "# Calculamos el importe\n",
        "importe = W @ x_ampliado\n",
        "\n",
        "print(\"Importe de la carrera:\", importe)  # 15.5 €"
      ],
      "metadata": {
        "id": "Y6bYKhe-Ew3z",
        "outputId": "ef157520-328b-40a0-9239-5d7e0b5c5abd",
        "colab": {
          "base_uri": "https://localhost:8080/"
        }
      },
      "id": "Y6bYKhe-Ew3z",
      "execution_count": null,
      "outputs": [
        {
          "output_type": "stream",
          "name": "stdout",
          "text": [
            "Importe de la carrera: 15.5\n"
          ]
        }
      ]
    },
    {
      "cell_type": "markdown",
      "source": [
        "En notación matricial:\n",
        "\n",
        "$$y = W^T X = \\begin{bmatrix} 2.5 & 1.3 \\end{bmatrix} \\begin{bmatrix} 1 \\\\ 10 \\end{bmatrix} = 15.5$$\n",
        "\n",
        "**Dimensiones:** $W^T_{1 \\times 2} \\cdot X_{2 \\times 1} = y_{1 \\times 1}$ (un escalar)\n",
        "\n",
        "Este es el caso fundamental: **un perceptrón procesando una entrada para producir una salida**.\n",
        "\n",
        "---\n",
        "\n",
        "## Múltiples carreras: Procesamiento en batch\n",
        "\n",
        "En machine learning, rara vez procesamos una sola muestra a la vez. En la práctica, procesamos **mini-batches** (lotes) de múltiples muestras simultáneamente. Esto es mucho más eficiente computacionalmente y es fundamental para el entrenamiento de redes neuronales.\n",
        "\n",
        "Veamos cómo se vería con 4 carreras de taxi:"
      ],
      "metadata": {
        "id": "zaqFeT0gE45s"
      },
      "id": "zaqFeT0gE45s"
    },
    {
      "cell_type": "code",
      "source": [
        "import numpy as np\n",
        "\n",
        "# Kilómetros recorridos en 4 carreras diferentes\n",
        "X = np.array([10, 4, 25, 20])\n",
        "\n",
        "# Ampliamos X añadiendo una fila de unos (para la bajada de bandera)\n",
        "X_ampliado = np.vstack([np.ones(X.shape), X])\n",
        "\n",
        "# Pesos: [bajada_bandera, precio_por_km]\n",
        "W = np.array([2.5, 1.3])\n",
        "\n",
        "# Calculamos los importes de las 4 carreras simultáneamente\n",
        "importes = W @ X_ampliado\n",
        "\n",
        "print(\"X_ampliado:\")\n",
        "print(X_ampliado)\n",
        "print(\"\\nImportes de cada carrera:\")\n",
        "print(importes)\n",
        "print(\"\\nTotal facturado:\")\n",
        "print(np.sum(importes))"
      ],
      "metadata": {
        "id": "pwaQfErjFBC3",
        "outputId": "8df1531e-a78c-4cae-91e3-75d69e4c0529",
        "colab": {
          "base_uri": "https://localhost:8080/"
        }
      },
      "id": "pwaQfErjFBC3",
      "execution_count": null,
      "outputs": [
        {
          "output_type": "stream",
          "name": "stdout",
          "text": [
            "X_ampliado:\n",
            "[[ 1.  1.  1.  1.]\n",
            " [10.  4. 25. 20.]]\n",
            "\n",
            "Importes de cada carrera:\n",
            "[15.5  7.7 35.  28.5]\n",
            "\n",
            "Total facturado:\n",
            "86.7\n"
          ]
        }
      ]
    },
    {
      "cell_type": "markdown",
      "source": [
        "En notación matricial:\n",
        "\n",
        "$$Y = W^T X = \\begin{bmatrix} 2.5 & 1.3 \\end{bmatrix} \\begin{bmatrix} 1 & 1 & 1 & 1 \\\\ 10 & 4 & 25 & 20 \\end{bmatrix} = \\begin{bmatrix} 15.5 & 7.7 & 35 & 28.5 \\end{bmatrix}$$\n",
        "\n",
        "**Dimensiones:** $W^T_{1 \\times 2} \\cdot X_{2 \\times 4} = Y_{1 \\times 4}$\n",
        "\n",
        "Ahora obtenemos 4 salidas (una por cada carrera), calculadas todas al mismo tiempo.\n",
        "\n",
        "### Nota sobre NumPy y la transpuesta\n",
        "\n",
        "NumPy es flexible con vectores 1D. Por eso, tanto `W @ X_ampliado` como `W.T @ X_ampliado` funcionan y dan el mismo resultado:"
      ],
      "metadata": {
        "id": "lmO_J0UFFJGo"
      },
      "id": "lmO_J0UFFJGo"
    },
    {
      "cell_type": "code",
      "source": [
        "print(\"Importes:\", W @ X_ampliado)\n",
        "print(\"Importes:\", W.T @ X_ampliado)"
      ],
      "metadata": {
        "id": "QWFdHbABFRa_",
        "outputId": "85243127-018c-4176-ea07-367e70b809c4",
        "colab": {
          "base_uri": "https://localhost:8080/"
        }
      },
      "id": "QWFdHbABFRa_",
      "execution_count": null,
      "outputs": [
        {
          "output_type": "stream",
          "name": "stdout",
          "text": [
            "Importes: [15.5  7.7 35.  28.5]\n",
            "Importes: [15.5  7.7 35.  28.5]\n"
          ]
        }
      ]
    },
    {
      "cell_type": "markdown",
      "source": [
        "Sin embargo, la notación formal en machine learning usa la transpuesta $W^T$ para mantener la consistencia matemática, especialmente cuando trabajamos con matrices multidimensionales.\n",
        "\n",
        "---\n",
        "\n",
        "## Añadiendo más características: Múltiples variables\n",
        "\n",
        "Ahora consideremos que la tarifa del taxi también incluye un cargo de 0,50 € por cada minuto de espera.\n",
        "\n",
        "La nueva ecuación es:\n",
        "\n",
        "$$y = 2.5 + 1.3 x_1 + 0.5 x_2$$\n",
        "\n",
        "donde:\n",
        "- $x_1$ son los kilómetros recorridos\n",
        "- $x_2$ son los minutos de espera\n",
        "- $y$ es el importe de la carrera\n",
        "\n",
        "Esta ecuación sigue siendo lineal, pero ahora representa un plano en 3D.\n",
        "\n",
        "### Una carrera con dos características"
      ],
      "metadata": {
        "id": "cuRY1XfhFaWZ"
      },
      "id": "cuRY1XfhFaWZ"
    },
    {
      "cell_type": "code",
      "source": [
        "import numpy as np\n",
        "\n",
        "# Una carrera: 10 km y 15 minutos de espera\n",
        "x = np.array([10, 15])\n",
        "\n",
        "# Añadimos el 1 para el sesgo\n",
        "x_ampliado = np.array([1, 10, 15])\n",
        "\n",
        "# Pesos: [bajada_bandera, precio_km, precio_minuto]\n",
        "W = np.array([2.5, 1.3, 0.5])\n",
        "\n",
        "# Calculamos el importe\n",
        "importe = W @ x_ampliado\n",
        "\n",
        "print(\"Importe de la carrera:\", importe)  # 23.0 €"
      ],
      "metadata": {
        "id": "Y_cacmEQFfeK",
        "outputId": "fa502d23-bf02-4f76-cc2d-e0ba0ca06ede",
        "colab": {
          "base_uri": "https://localhost:8080/"
        }
      },
      "id": "Y_cacmEQFfeK",
      "execution_count": null,
      "outputs": [
        {
          "output_type": "stream",
          "name": "stdout",
          "text": [
            "Importe de la carrera: 23.0\n"
          ]
        }
      ]
    },
    {
      "cell_type": "markdown",
      "source": [
        "### Batch de 4 carreras con dos características"
      ],
      "metadata": {
        "id": "5IqKvKQLFklg"
      },
      "id": "5IqKvKQLFklg"
    },
    {
      "cell_type": "code",
      "source": [
        "# Matriz con km y minutos de 4 carreras diferentes\n",
        "X = np.array([[10, 4, 25, 20],   # kilómetros\n",
        "              [15, 0,  5, 10]])   # minutos de espera\n",
        "\n",
        "# Ampliamos X añadiendo una fila de unos\n",
        "X_ampliado = np.vstack([np.ones(X.shape[1]), X])\n",
        "\n",
        "# Pesos: [bajada_bandera, precio_km, precio_minuto]\n",
        "W = np.array([2.5, 1.3, 0.5])\n",
        "\n",
        "# Calculamos los importes de las 4 carreras\n",
        "importes = W @ X_ampliado\n",
        "\n",
        "print(\"X_ampliado:\")\n",
        "print(X_ampliado)\n",
        "print(\"\\nImportes de cada carrera:\")\n",
        "print(importes)\n",
        "print(\"\\nTotal facturado:\")\n",
        "print(np.sum(importes))"
      ],
      "metadata": {
        "id": "esS6dmTYFlU7",
        "outputId": "00dfc099-9070-4de2-918e-289523534648",
        "colab": {
          "base_uri": "https://localhost:8080/"
        }
      },
      "id": "esS6dmTYFlU7",
      "execution_count": null,
      "outputs": [
        {
          "output_type": "stream",
          "name": "stdout",
          "text": [
            "X_ampliado:\n",
            "[[ 1.  1.  1.  1.]\n",
            " [10.  4. 25. 20.]\n",
            " [15.  0.  5. 10.]]\n",
            "\n",
            "Importes de cada carrera:\n",
            "[23.   7.7 37.5 33.5]\n",
            "\n",
            "Total facturado:\n",
            "101.7\n"
          ]
        }
      ]
    },
    {
      "cell_type": "markdown",
      "source": [
        "En notación matricial:\n",
        "\n",
        "$$Y = W^T X = \\begin{bmatrix} 2.5 & 1.3 & 0.5 \\end{bmatrix} \\begin{bmatrix} 1 & 1 & 1 & 1 \\\\ 10 & 4 & 25 & 20 \\\\ 15 & 0 & 5 & 10 \\end{bmatrix} = \\begin{bmatrix} 23 & 7.7 & 37.5 & 33.5 \\end{bmatrix}$$\n",
        "\n",
        "**Dimensiones:** $W^T_{1 \\times 3} \\cdot X_{3 \\times 4} = Y_{1 \\times 4}$\n",
        "\n",
        "---\n",
        "\n",
        "## Paralelismo con Machine Learning\n",
        "\n",
        "El procesamiento en batch que hemos visto con las múltiples carreras de taxi es **exactamente** cómo funcionan las redes neuronales en la práctica:\n",
        "\n",
        "### Ejemplo: Clasificación de imágenes en batch"
      ],
      "metadata": {
        "id": "BqxnCe5KIozJ"
      },
      "id": "BqxnCe5KIozJ"
    },
    {
      "cell_type": "code",
      "source": [
        "# Batch de 32 imágenes (cada imagen aplanada tiene 784 píxeles)\n",
        "X_batch = np.random.rand(785, 32)  # 784 características + 1 para bias, 32 muestras\n",
        "W = np.random.rand(1, 785)         # Una neurona con 785 pesos\n",
        "\n",
        "Y_batch = W @ X_batch              # shape: (1, 32)\n",
        "# Obtenemos 32 predicciones simultáneamente, una por cada imagen"
      ],
      "metadata": {
        "id": "1vBuKBCsIvPL"
      },
      "id": "1vBuKBCsIvPL",
      "execution_count": null,
      "outputs": []
    },
    {
      "cell_type": "markdown",
      "source": [
        "**Ventajas del procesamiento en batch:**\n",
        "- **Eficiencia computacional:** Procesar 100 muestras a la vez es mucho más rápido que procesarlas una por una\n",
        "- **Estabilidad en el entrenamiento:** Los gradientes calculados sobre un batch son más estables que los de una sola muestra\n",
        "- **Aprovechamiento del hardware:** GPUs están optimizadas para operaciones matriciales grandes\n",
        "\n",
        "En el entrenamiento de redes neuronales, los tamaños de batch típicos son 32, 64, 128 o 256 muestras. El concepto es idéntico a nuestro ejemplo de las 4 carreras de taxi, solo que a mayor escala.\n",
        "\n",
        "---\n",
        "\n",
        "## Fórmula general\n",
        "\n",
        "Para procesar $m$ características necesitamos $m$ pesos más un peso adicional para el sesgo:\n",
        "\n",
        "$$y = w_0 + w_1 x_1 + w_2 x_2 + \\cdots + w_m x_m$$\n",
        "\n",
        "Para expresar esto en forma matricial, añadimos un 1 al vector de características:\n",
        "\n",
        "$$y = w_0 \\cdot 1 + w_1 \\cdot x_1 + w_2 \\cdot x_2 + \\cdots + w_m \\cdot x_m$$\n",
        "\n",
        "En notación matricial:\n",
        "\n",
        "$$y = W^T X = \\begin{bmatrix} w_0 & w_1 & w_2 & \\cdots & w_m \\end{bmatrix} \\begin{bmatrix} 1 \\\\ x_1 \\\\ x_2 \\\\ \\vdots \\\\ x_m \\end{bmatrix}$$\n",
        "\n",
        "### Dimensiones para una sola muestra:\n",
        "\n",
        "$$W^T_{1 \\times (m+1)} \\cdot X_{(m+1) \\times 1} = y_{1 \\times 1}$$\n",
        "\n",
        "El resultado es un escalar (un número).\n",
        "\n",
        "### Dimensiones para un batch de $n$ muestras:\n",
        "\n",
        "$$W^T_{1 \\times (m+1)} \\cdot X_{(m+1) \\times n} = Y_{1 \\times n}$$\n",
        "\n",
        "El resultado es un vector con $n$ predicciones, una para cada muestra del batch.\n",
        "\n",
        "---\n",
        "\n",
        "## Resumen conceptual\n",
        "\n",
        "1. **Un perceptrón** es una neurona artificial que procesa entradas mediante una suma ponderada\n",
        "2. **Una muestra:** El perceptrón toma $m$ características y produce una salida\n",
        "3. **Batch de muestras:** Podemos procesar $n$ muestras simultáneamente usando la misma operación matricial\n",
        "4. **El sesgo (bias)** se incorpora añadiendo un 1 a las entradas, lo que simplifica la notación\n",
        "5. **En ML real:** Siempre se procesan batches de datos, no muestras individuales, por eficiencia y estabilidad\n",
        "\n",
        "El ejemplo del taxista ilustra perfectamente estos conceptos: desde calcular el importe de una carrera (una muestra) hasta calcular los importes de múltiples carreras simultáneamente (batch processing), que es exactamente cómo funcionan las redes neuronales modernas."
      ],
      "metadata": {
        "id": "lzO79bWKEYo3"
      },
      "id": "lzO79bWKEYo3"
    }
  ],
  "metadata": {
    "kernelspec": {
      "display_name": "Python 3 (ipykernel)",
      "language": "python",
      "name": "python3"
    },
    "language_info": {
      "codemirror_mode": {
        "name": "ipython",
        "version": 3
      },
      "file_extension": ".py",
      "mimetype": "text/x-python",
      "name": "python",
      "nbconvert_exporter": "python",
      "pygments_lexer": "ipython3",
      "version": "3.12.2"
    },
    "colab": {
      "provenance": [],
      "include_colab_link": true
    }
  },
  "nbformat": 4,
  "nbformat_minor": 5
}