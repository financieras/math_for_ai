{
  "nbformat": 4,
  "nbformat_minor": 0,
  "metadata": {
    "colab": {
      "provenance": [],
      "authorship_tag": "ABX9TyNL+d0OfvqwzLSdPwCF5GZX",
      "include_colab_link": true
    },
    "kernelspec": {
      "name": "python3",
      "display_name": "Python 3"
    },
    "language_info": {
      "name": "python"
    }
  },
  "cells": [
    {
      "cell_type": "markdown",
      "metadata": {
        "id": "view-in-github",
        "colab_type": "text"
      },
      "source": [
        "<a href=\"https://colab.research.google.com/github/financieras/math_for_ai/blob/main/020_geometria_analitica.ipynb\" target=\"_parent\"><img src=\"https://colab.research.google.com/assets/colab-badge.svg\" alt=\"Open In Colab\"/></a>"
      ]
    },
    {
      "cell_type": "markdown",
      "source": [
        "# Geometría analítica"
      ],
      "metadata": {
        "id": "dS6rjMsFUj4F"
      }
    },
    {
      "cell_type": "markdown",
      "source": [
        "## Plano cartesiano\n",
        "\n",
        "El plano cartesiano es un sistema de referencia formado por dos rectas perpendiculares que se intersectan en un punto llamado origen. Este sistema fue creado por el matemático y filósofo René Descartes, de ahí su nombre.\n",
        "\n",
        "### Elementos principales\n",
        "\n",
        "- **Ejes coordenados**: Dos líneas numeradas perpendiculares entre sí.\n",
        "  - Eje x (abscisas): Línea horizontal\n",
        "  - Eje y (ordenadas): Línea vertical\n",
        "\n",
        "- **Origen**: Punto de intersección de los ejes, representado como (0,0).\n",
        "\n",
        "- **Cuadrantes**: El plano se divide en cuatro regiones llamadas cuadrantes.\n",
        "\n",
        "### Características\n",
        "\n",
        "1. Los ejes se extienden infinitamente en ambas direcciones.\n",
        "2. Las escalas en ambos ejes son iguales.\n",
        "3. Los números positivos se ubican a la derecha y arriba del origen, los negativos a la izquierda y abajo.\n",
        "\n",
        "## Representación de puntos en el espacio bidimensional\n",
        "\n",
        "En el plano cartesiano, la posición de un punto se describe mediante un par ordenado de coordenadas (x, y).\n",
        "\n",
        "- La coordenada x indica la distancia horizontal desde el origen.\n",
        "- La coordenada y indica la distancia vertical desde el origen.\n",
        "\n",
        "Por ejemplo, el punto (3, 2) se ubica 3 unidades a la derecha del origen y 2 unidades hacia arriba.\n",
        "\n",
        "### Importancia en matemáticas y ciencias\n",
        "\n",
        "El plano cartesiano es fundamental para:\n",
        "\n",
        "1. Analizar figuras geométricas como parábolas, hipérbolas y circunferencias.\n",
        "2. Representar funciones matemáticas.\n",
        "3. Visualizar datos en estadística y ciencias.\n",
        "\n",
        "Este sistema bidimensional proporciona una base para entender conceptos más avanzados en matemáticas y su aplicación en campos como la física y la ingeniería."
      ],
      "metadata": {
        "id": "NWdchUD5MzCB"
      }
    },
    {
      "cell_type": "markdown",
      "source": [
        "## Coordenadas cartesianas y su interpretación en espacios de características\n",
        "\n",
        "Las coordenadas cartesianas no solo son fundamentales en geometría, sino que también juegan un papel crucial en el campo de la Inteligencia Artificial, especialmente en Machine Learning. A continuación, se describen sus características y aplicaciones.\n",
        "\n",
        "### Definición de coordenadas cartesianas\n",
        "\n",
        "Las coordenadas cartesianas se expresan como un par ordenado (x, y) en un plano bidimensional. En un espacio tridimensional, se utilizan tres coordenadas (x, y, z). En el contexto de Machine Learning, cada dimensión puede representar una característica o atributo de los datos.\n",
        "\n",
        "### Interpretación en espacios de características\n",
        "\n",
        "1. **Espacios multidimensionales**: En Machine Learning, los datos se representan en un espacio de características donde cada dimensión corresponde a una variable. Por ejemplo, en un conjunto de datos sobre flores, las dimensiones podrían ser el tamaño del pétalo, el tamaño del sépalo y el color.\n",
        "\n",
        "2. **Visualización**: La representación gráfica de los datos en un espacio cartesiano permite identificar patrones y relaciones entre características. Esto es especialmente útil en algoritmos de clasificación y clustering.\n",
        "\n",
        "3. **Distancia entre puntos**: La distancia euclidiana entre puntos en este espacio es fundamental para muchos algoritmos de Machine Learning, como K-vecinos más cercanos (K-NN), donde se utilizan distancias para clasificar nuevos datos basándose en su proximidad a ejemplos conocidos.\n",
        "\n",
        "4. **Transformaciones**: Las coordenadas pueden ser transformadas (escalado, rotación) para mejorar la eficiencia de los algoritmos y la calidad de los resultados.\n",
        "\n",
        "### Conclusión\n",
        "\n",
        "Las coordenadas cartesianas son esenciales para entender cómo se estructuran los datos en Machine Learning. Su interpretación en espacios de características permite a los modelos aprender patrones y hacer predicciones basadas en la relación entre diferentes atributos."
      ],
      "metadata": {
        "id": "y3-y0x0CNOfy"
      }
    },
    {
      "cell_type": "markdown",
      "source": [
        "## Coordenadas cartesianas y su interpretación en espacios de características\n",
        "\n",
        "Las coordenadas cartesianas no solo son fundamentales en geometría, sino que también juegan un papel crucial en el campo de la Inteligencia Artificial, especialmente en Machine Learning. A continuación, se describen sus características y aplicaciones.\n",
        "\n",
        "### Definición de coordenadas cartesianas\n",
        "\n",
        "Las coordenadas cartesianas se expresan como un par ordenado (x, y) en un plano bidimensional. En un espacio tridimensional, se utilizan tres coordenadas (x, y, z). En el contexto de Machine Learning, cada dimensión puede representar una característica o atributo de los datos.\n",
        "\n",
        "### Interpretación en espacios de características\n",
        "\n",
        "1. **Espacios multidimensionales**: En Machine Learning, los datos se representan en un espacio de características donde cada dimensión corresponde a una variable. Por ejemplo, en un conjunto de datos sobre flores, las dimensiones podrían ser el tamaño del pétalo, el tamaño del sépalo y el color.\n",
        "\n",
        "2. **Visualización**: La representación gráfica de los datos en un espacio cartesiano permite identificar patrones y relaciones entre características. Esto es especialmente útil en algoritmos de clasificación y clustering.\n",
        "\n",
        "3. **Distancia entre puntos**: La distancia euclidiana entre puntos en este espacio es fundamental para muchos algoritmos de Machine Learning, como K-vecinos más cercanos (K-NN), donde se utilizan distancias para clasificar nuevos datos basándose en su proximidad a ejemplos conocidos.\n",
        "\n",
        "4. **Transformaciones**: Las coordenadas pueden ser transformadas (escalado, rotación) para mejorar la eficiencia de los algoritmos y la calidad de los resultados.\n",
        "\n",
        "### Conclusión\n",
        "\n",
        "Las coordenadas cartesianas son esenciales para entender cómo se estructuran los datos en Machine Learning. Su interpretación en espacios de características permite a los modelos aprender patrones y hacer predicciones basadas en la relación entre diferentes atributos."
      ],
      "metadata": {
        "id": "4FY5smHoNQuK"
      }
    },
    {
      "cell_type": "markdown",
      "source": [
        "## Aplicación en algoritmos de clustering y clasificación\n",
        "\n",
        "La distancia euclidiana es fundamental en varios algoritmos de Machine Learning, especialmente en clustering y clasificación. A continuación, se detallan algunas de sus aplicaciones más relevantes:\n",
        "\n",
        "### 1. K-means clustering\n",
        "\n",
        "K-means es uno de los algoritmos de clustering más populares. Utiliza la distancia euclidiana para:\n",
        "\n",
        "- Asignar puntos al centroide más cercano\n",
        "- Recalcular la posición de los centroides\n",
        "\n",
        "El algoritmo minimiza la suma de las distancias euclidianas al cuadrado entre los puntos y sus centroides asignados:\n",
        "\n",
        "$$J = \\sum_{i=1}^{n} \\sum_{j=1}^{k} w_{ij} \\|x_i - \\mu_j\\|^2$$\n",
        "\n",
        "Donde:\n",
        "- $x_i$ es el i-ésimo punto de datos\n",
        "- $\\mu_j$ es el centroide del j-ésimo cluster\n",
        "- $w_{ij}$ es 1 si $x_i$ pertenece al cluster j, 0 en caso contrario\n",
        "\n",
        "### 2. DBSCAN (Density-Based Spatial Clustering of Applications with Noise)\n",
        "\n",
        "DBSCAN utiliza la distancia euclidiana para:\n",
        "\n",
        "- Definir la vecindad de un punto\n",
        "- Determinar la densidad de una región\n",
        "\n",
        "El algoritmo agrupa puntos que están estrechamente empaquetados (puntos con muchos vecinos cercanos), marcando como outliers los puntos que se encuentran solos en regiones de baja densidad.\n",
        "\n",
        "### 3. Clasificación K-Nearest Neighbors (K-NN)\n",
        "\n",
        "K-NN es un algoritmo de clasificación que utiliza la distancia euclidiana para:\n",
        "\n",
        "- Encontrar los K vecinos más cercanos a un punto de datos\n",
        "- Asignar la clase mayoritaria entre estos vecinos al punto en cuestión\n",
        "\n",
        "La fórmula para calcular la distancia entre un punto de prueba $p$ y un punto de entrenamiento $q$ en un espacio n-dimensional es:\n",
        "\n",
        "$$d(p,q) = \\sqrt{\\sum_{i=1}^{n} (p_i - q_i)^2}$$\n",
        "\n",
        "### 4. Support Vector Machines (SVM)\n",
        "\n",
        "Aunque SVM utiliza principalmente el producto escalar, la distancia euclidiana se aplica en:\n",
        "\n",
        "- La formulación del problema de optimización\n",
        "- La definición del margen máximo entre clases\n",
        "\n",
        "### Consideraciones importantes\n",
        "\n",
        "1. **Normalización**: Es crucial normalizar las características antes de aplicar estos algoritmos, ya que la distancia euclidiana es sensible a la escala.\n",
        "\n",
        "2. **Maldición de la dimensionalidad**: En espacios de alta dimensión, la distancia euclidiana puede perder significado, afectando el rendimiento de estos algoritmos.\n",
        "\n",
        "3. **Alternativas**: En algunos casos, otras métricas como la distancia de Manhattan o la similitud del coseno pueden ser más apropiadas, dependiendo de la naturaleza de los datos y el problema específico."
      ],
      "metadata": {
        "id": "kpNpKg9lNfdJ"
      }
    }
  ]
}