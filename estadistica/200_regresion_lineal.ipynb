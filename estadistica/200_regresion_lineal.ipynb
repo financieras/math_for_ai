{
  "nbformat": 4,
  "nbformat_minor": 0,
  "metadata": {
    "colab": {
      "provenance": [],
      "authorship_tag": "ABX9TyOrU9OtrmGGngLigfQEmuVZ",
      "include_colab_link": true
    },
    "kernelspec": {
      "name": "python3",
      "display_name": "Python 3"
    },
    "language_info": {
      "name": "python"
    }
  },
  "cells": [
    {
      "cell_type": "markdown",
      "metadata": {
        "id": "view-in-github",
        "colab_type": "text"
      },
      "source": [
        "<a href=\"https://colab.research.google.com/github/financieras/math_for_ai/blob/main/estadistica/200_regresion_lineal.ipynb\" target=\"_parent\"><img src=\"https://colab.research.google.com/assets/colab-badge.svg\" alt=\"Open In Colab\"/></a>"
      ]
    },
    {
      "cell_type": "markdown",
      "source": [
        "# Regresión Lineal para Data Science\n",
        "\n",
        "## Contenido\n",
        "\n",
        "**1. Introducción**\n",
        "   - Importancia de la regresión lineal en Data Science\n",
        "   - ¿Qué problema resuelve el método de mínimos cuadrados?\n",
        "\n",
        "**2. Planteamiento general del problema de Regresión**\n",
        "   - Formulación del problema: minimizar el error cuadrático\n",
        "   - Derivación de la solución analítica (ecuaciones normales)\n",
        "   - Notación matricial\n",
        "\n",
        "**3. Implementación desde Cero en Python**\n",
        "   - Dataset sintético de ejemplo\n",
        "   - Cálculo manual con NumPy\n",
        "   - Visualización con Matplotlib\n",
        "\n",
        "**4. Comparación con Scikit-learn**\n",
        "   - Uso de `LinearRegression()`\n",
        "   - Verificación de resultados\n",
        "\n",
        "**5. Métricas de Evaluación**\n",
        "   - MSE, RMSE, R²\n",
        "   - Interpretación práctica\n",
        "\n",
        "**6. Mínimos Cuadrados vs. Descenso del Gradiente**\n",
        "   - Convexidad de la función de coste en regresión lineal\n",
        "   - Solución analítica vs. solución iterativa\n",
        "   - Cuándo usar Descenso del Gradiente: funciones no convexas y múltiples mínimos locales\n",
        "   - Relevancia en Deep Learning y modelos complejos\n",
        "\n",
        "**7. Limitaciones y Consideraciones**\n",
        "   - Supuestos del modelo\n",
        "   - Cuándo usar (y no usar) regresión lineal\n",
        "\n",
        "**8. Conclusiones**\n",
        "   - Aplicaciones en proyectos reales de Data Science"
      ],
      "metadata": {
        "id": "E84_4hGqWu0_"
      }
    },
    {
      "cell_type": "markdown",
      "source": [
        "# **1. Introducción**\n",
        "\n",
        "En Machine Learning, se aconseja comenzar programando un algoritmo de regresión lineal, ya que además de formativo se continúa usando a nivel empresarial en Data Science. Pero ¿por qué sigue siendo tan relevante en la era de los chat bots y las redes neuronales?\n",
        "\n",
        "La respuesta es simple: **efectividad y interpretabilidad**. Mientras que modelos más complejos pueden actuar como \"cajas negras\", la regresión lineal nos permite entender exactamente cómo cada variable afecta a nuestro resultado. Es nuestro punto de partida natural para cualquier problema de predicción numérica.\n",
        "\n",
        "## ¿Qué problema resuelve realmente?\n",
        "\n",
        "Imagina que tienes datos históricos de precios de viviendas y quieres predecir cuánto costará una nueva casa. Tienes variables como metros cuadrados, número de habitaciones, ubicación... La regresión lineal te permite encontrar una relación matemática entre estas características y el precio."
      ],
      "metadata": {
        "id": "N-arE5vUcMZZ"
      }
    },
    {
      "cell_type": "code",
      "source": [
        "import numpy as np\n",
        "import matplotlib.pyplot as plt\n",
        "\n",
        "# Datos de ejemplo: tamaño de casa vs precio\n",
        "superficie = np.array([50, 55, 60, 64, 70, 78, 80, 89, 90, 100])\n",
        "precio = np.array([150000, 175000, 180000, 200000, 210000, 212000 ,240000, 260000 ,270000, 300000])\n",
        "\n",
        "plt.figure(figsize=(4, 3))\n",
        "plt.scatter(superficie, precio/1000)\n",
        "plt.xlabel('superficie (m²)')\n",
        "plt.ylabel('Precio (miles €)')\n",
        "plt.title('Relación tamaño-precio de viviendas')\n",
        "plt.show()"
      ],
      "metadata": {
        "id": "tL9kBiqHiEvh",
        "outputId": "65192a47-e098-4ea2-dcdf-0f0807e5ec3a",
        "colab": {
          "base_uri": "https://localhost:8080/",
          "height": 334
        }
      },
      "execution_count": 5,
      "outputs": [
        {
          "output_type": "display_data",
          "data": {
            "text/plain": [
              "<Figure size 400x300 with 1 Axes>"
            ],
            "image/png": "[encoded data removed]"
          },
          "metadata": {}
        }
      ]
    },
    {
      "cell_type": "markdown",
      "source": [
        "El **método de mínimos cuadrados** (Ordinary Least Squares, OLS) resuelve un problema aparentemente sencillo: dada una nube de puntos, queremos encontrar la recta (o hiperplano) que mejor se ajuste a los datos. \"Mejor\" aquí significa minimizar la suma de los errores cuadráticos entre las predicciones y los valores reales."
      ],
      "metadata": {
        "id": "_bArB6FAjtIb"
      }
    },
    {
      "cell_type": "markdown",
      "source": [
        "# **2. Planteamiento general del problema de Regresión**\n",
        "\n",
        "Ahora que entendemos por qué la regresión lineal es tan útil, vamos a formalizar matemáticamente el problema. Comenzaremos con el caso más simple una sola variable ($x$) para construir la intuición antes de generalizar al caso multivariable.\n",
        "\n",
        "## Caso simple: una variable independiente\n",
        "\n",
        "Empecemos con lo básico. Cuando tenemos solo una variable predictora $x$, queremos encontrar la recta que mejor se ajuste a nuestros datos:\n",
        "\n",
        "$$\n",
        "\\begin{array}{lcl}\n",
        "y = w_0 + w_1 x + e         & \\longrightarrow & \\text{modelo real con error} \\\\\n",
        "\\hat{y} = w_0 + w_1 x       & \\longrightarrow & \\text{modelo estimado}\n",
        "\\end{array}\n",
        "$$\n",
        "\n",
        "\n",
        "Donde:\n",
        "- $\\hat{y}$ es el **valor predicho** por el modelo (nuestra mejor estimación de $y$)\n",
        "- $w_0$ es el **intercepto** (término independiente o bias)\n",
        "- $w_1$ es la **pendiente** (coeficiente de la variable)\n",
        "- $e$ es el **error o residuo**: la diferencia entre el valor real y lo que predice el modelo\n",
        "\n",
        "El error de cada predicción es:\n",
        "\n",
        "$$e_i = y_i - \\hat{y}_i = y_i - (w_0 + w_1 x_i)$$\n",
        "\n",
        "Nuestro objetivo es encontrar $w_0$ y $w_1$ que minimicen estos errores.\n",
        "\n",
        "## El método de Mínimos Cuadrados\n",
        "\n",
        "En lugar de usar los errores directamente (que se cancelarían entre positivos y negativos), trabajamos con los **errores al cuadrado**. Definimos la función de coste:\n",
        "\n",
        "$$J(w_0, w_1) = \\sum_{i=1}^{n} e_i^2 = \\sum_{i=1}^{n} [y_i - (w_0 + w_1 x_i)]^2$$\n",
        "\n",
        "El método de mínimos cuadrados encuentra los valores óptimos derivando e igualando a cero:\n",
        "\n",
        "$$\\frac{\\partial J}{\\partial w_0} = 0, \\quad \\frac{\\partial J}{\\partial w_1} = 0$$\n",
        "\n",
        "Esto nos da las **ecuaciones normales**, cuya solución es:\n",
        "\n",
        "$$w_1 = \\frac{\\sum_{i=1}^{n} (x_i - \\bar{x})(y_i - \\bar{y})}{\\sum_{i=1}^{n} (x_i - \\bar{x})^2}$$\n",
        "\n",
        "$$w_0 = \\bar{y} - w_1 \\bar{x}$$\n",
        "\n",
        "Donde $\\bar{x}$ y $\\bar{y}$ son las medias de $x$ e $y$ respectivamente.\n",
        "\n",
        "## Generalización a múltiples variables: notación matricial\n",
        "\n",
        "Cuando tenemos múltiples variables predictoras $(x_1, x_2, \\dots, x_p)$, el modelo se extiende naturalmente. En lugar de una recta, ahora buscamos un **hiperplano**:\n",
        "\n",
        "$$\\hat{y} = w_0 + w_1 x_1 + w_2 x_2 + \\dots + w_p x_p$$\n",
        "\n",
        "Aquí es donde la **notación matricial** hace la vida más fácil. Representamos nuestros datos como:\n",
        "\n",
        "$$\\mathbf{X} = \\begin{bmatrix}\n",
        "1 & x_{11} & x_{12} & \\dots & x_{1p} \\\\\n",
        "1 & x_{21} & x_{22} & \\dots & x_{2p} \\\\\n",
        "\\vdots & \\vdots & \\vdots & \\ddots & \\vdots \\\\\n",
        "1 & x_{n1} & x_{n2} & \\dots & x_{np}\n",
        "\\end{bmatrix}, \\quad\n",
        "\\mathbf{w} = \\begin{bmatrix}\n",
        "w_0 \\\\\n",
        "w_1 \\\\\n",
        "\\vdots \\\\\n",
        "w_p\n",
        "\\end{bmatrix}, \\quad\n",
        "\\mathbf{y} = \\begin{bmatrix}\n",
        "y_1 \\\\\n",
        "y_2 \\\\\n",
        "\\vdots \\\\\n",
        "y_n\n",
        "\\end{bmatrix}$$\n",
        "\n",
        "**¡Ojo con la columna de unos!** Es crucial incluirla en $\\mathbf{X}$ para representar el término independiente $w_0$.\n",
        "\n",
        "Nuestro modelo se escribe elegantemente como:\n",
        "\n",
        "$$\\hat{\\mathbf{y}} = \\mathbf{X} \\mathbf{w}$$\n",
        "\n",
        "Y la solución óptima viene dada por las **ecuaciones normales** en forma matricial:\n",
        "\n",
        "$$\\mathbf{w} = (\\mathbf{X}^T \\mathbf{X})^{-1} \\mathbf{X}^T \\mathbf{y}$$\n",
        "\n",
        "Esta fórmula es exactamente la misma que derivamos antes, solo que ahora funciona para cualquier número de variables.\n",
        "\n",
        "```python\n",
        "# Ejemplo: construyendo la matriz X correctamente\n",
        "X_simple = superficie.reshape(-1, 1)  # Una sola variable\n",
        "X_con_intercept = np.column_stack([np.ones(len(superficie)), X_simple])\n",
        "\n",
        "print(\"Matriz X con columna de unos:\")\n",
        "print(X_con_intercept[:5])  # Primeras 5 filas\n",
        "print(f\"\\nDimensiones: {X_con_intercept.shape[0]} muestras, {X_con_intercept.shape[1]} características (incluyendo intercept)\")\n",
        "```\n",
        "\n",
        "**¿Por qué esta notación es tan poderosa?** Porque nos permite tratar casos simples y complejos con el mismo framework matemático, y porque las operaciones matriciales son computacionalmente eficientes en NumPy.\n",
        "\n",
        "---\n",
        "\n",
        "**Cambios principales que hice:**\n",
        "\n",
        "1. Simplifiqué la explicación del método de mínimos cuadrados (mencionando derivadas sin desarrollarlas completamente)\n",
        "2. Ajusté el código de ejemplo para que sea más didáctico y conecte con los datos ya definidos\n",
        "3. Eliminé las funciones preview (mejor dejarlas para el epígrafe 3)\n",
        "4. Mantuve tu estructura y flujo narrativo"
      ],
      "metadata": {
        "id": "k0y-ZCzjYb4R"
      }
    },
    {
      "cell_type": "markdown",
      "source": [
        "## Generalización a múltiples variables: notación matricial\n",
        "\n",
        "Cuando tenemos múltiples variables predictoras $(x_1, x_2, \\dots, x_n)$, el modelo se extiende naturalmente. En lugar de una recta, ahora buscamos un **hiperplano**:\n",
        "\n",
        "$$\\hat{y} = w_0 + w_1 x_1 + w_2 x_2 + \\dots + w_n x_n$$\n",
        "\n",
        "Aquí es donde la **notación matricial** hace la vida más fácil. Podemos expresar esta ecuación como el producto de dos vectores:\n",
        "\n",
        "$$\\hat{y} = \\begin{bmatrix}\n",
        "w_0 & w_1 & w_2 & \\cdots & w_n\n",
        "\\end{bmatrix}\n",
        "\\begin{bmatrix}\n",
        "1 \\\\\n",
        "x_1 \\\\\n",
        "x_2 \\\\\n",
        "\\vdots \\\\\n",
        "x_n\n",
        "\\end{bmatrix} =\n",
        "\\mathbf{w}^T\\mathbf{x}\n",
        "$$\n",
        "Observe que ha sido necesario introducir un $1$ en el vector de las $x$ para que el producto se pueda realizar, ya que el término $w_0$ (*bias*) es constante y no varía con $x$.\n",
        "\n",
        "Ahora extendemos el modelo a múltiples observaciones. Disponemos de un lote de $m$ datos, lo que nos permite trabajar con $X$ como una matriz de $n$ filas y $n$ columnas.\n",
        "\n",
        "$$\\mathbf{X} = \\begin{bmatrix}\n",
        "1 & x_{11} & x_{12} & \\dots & x_{1p} \\\\\n",
        "1 & x_{21} & x_{22} & \\dots & x_{2p} \\\\\n",
        "\\vdots & \\vdots & \\vdots & \\ddots & \\vdots \\\\\n",
        "1 & x_{n1} & x_{n2} & \\dots & x_{np}\n",
        "\\end{bmatrix}, \\quad\n",
        "\\mathbf{w} = \\begin{bmatrix}\n",
        "w_0 \\\\\n",
        "w_1 \\\\\n",
        "\\vdots \\\\\n",
        "w_p\n",
        "\\end{bmatrix}, \\quad\n",
        "\\mathbf{y} = \\begin{bmatrix}\n",
        "y_1 \\\\\n",
        "y_2 \\\\\n",
        "\\vdots \\\\\n",
        "y_n\n",
        "\\end{bmatrix}$$\n",
        "\n",
        "**¡Ojo con la columna de unos!** Es crucial incluirla en $\\mathbf{X}$ para representar el término independiente $w_0$.\n",
        "\n",
        "Nuestro modelo se escribe elegantemente como:\n",
        "\n",
        "$$\\hat{\\mathbf{y}} = \\mathbf{X} \\mathbf{w}$$"
      ],
      "metadata": {
        "id": "k49vOAlHiaV0"
      }
    }
  ]
}