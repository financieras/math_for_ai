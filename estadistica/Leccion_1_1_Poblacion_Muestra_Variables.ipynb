{
  "cells": [
    {
      "cell_type": "markdown",
      "metadata": {
        "id": "view-in-github",
        "colab_type": "text"
      },
      "source": [
        "<a href=\"https://colab.research.google.com/github/financieras/math_for_ai/blob/main/estadistica/Leccion_1_1_Poblacion_Muestra_Variables.ipynb\" target=\"_parent\"><img src=\"https://colab.research.google.com/assets/colab-badge.svg\" alt=\"Open In Colab\"/></a>"
      ]
    },
    {
      "cell_type": "markdown",
      "metadata": {
        "id": "OVZgFOT139FO"
      },
      "source": [
        "# Lección 1.1. Población, muestra y tipos de variables\n",
        "\n",
        "---"
      ]
    },
    {
      "cell_type": "markdown",
      "metadata": {
        "id": "djWwFB1T39FS"
      },
      "source": [
        "## 1. ¿Qué es la Estadística?\n",
        "\n",
        "Imagina que trabajas en una empresa de streaming y quieres saber cuánto tiempo pasan los usuarios viendo series. ¿Preguntarías a todos los usuarios del planeta? Imposible, ¿verdad? Aquí es donde entra la **estadística**.\n",
        "\n",
        "La **estadística** es la ciencia que se encarga de **recopilar, organizar, analizar e interpretar datos** para tomar decisiones informadas en situaciones de incertidumbre. Es el lenguaje fundamental de Data Science y Machine Learning, ya que nos permite:\n",
        "\n",
        "- **Describir** patrones en los datos (estadística descriptiva)\n",
        "- **Inferir** características de grandes poblaciones a partir de muestras pequeñas (estadística inferencial)\n",
        "- **Predecir** comportamientos futuros basándonos en datos históricos\n",
        "- **Tomar decisiones** basadas en evidencia, no en intuición\n",
        "\n",
        "En el mundo del Machine Learning, la estadística es la base teórica que sustenta los algoritmos. Cada vez que entrenas un modelo, estás usando conceptos estadísticos, aunque no te des cuenta."
      ]
    },
    {
      "cell_type": "markdown",
      "metadata": {
        "id": "7avI78wG39FT"
      },
      "source": [
        "---\n",
        "\n",
        "## 2. Población y muestra\n",
        "\n",
        "### 2.1. Población\n",
        "\n",
        "La **población** (denotada como $N$) es el **conjunto completo** de todos los elementos que queremos estudiar. Puede ser finita o infinita.\n",
        "\n",
        "**Ejemplos:**\n",
        "- Todos los usuarios registrados en Netflix\n",
        "- Todas las transacciones bancarias realizadas en España en 2024\n",
        "- Todos los tweets publicados sobre un tema específico\n",
        "- Todas las imágenes de perros que existen en internet\n",
        "\n",
        "**Importante:** Rara vez tenemos acceso a toda la población. Sería costoso, lento y, en muchos casos, imposible.\n",
        "\n",
        "### 2.2. Muestra\n",
        "\n",
        "Una **muestra** (denotada como $n$) es un **subconjunto** de la población que seleccionamos para estudiar. La idea es que este subconjunto sea **representativo** de la población completa.\n",
        "\n",
        "**Ejemplos:**\n",
        "- 10,000 usuarios de Netflix seleccionados aleatoriamente\n",
        "- 5,000 transacciones bancarias de un mes específico\n",
        "- 1,000 tweets sobre un tema\n",
        "- 50,000 imágenes de perros para entrenar un modelo de clasificación\n",
        "\n",
        "### 2.3. ¿Por qué trabajamos con muestras?\n",
        "\n",
        "| Razón | Explicación |\n",
        "|-------|-------------|\n",
        "| **Coste** | Estudiar toda la población puede ser extremadamente caro |\n",
        "| **Tiempo** | Recopilar datos de toda la población puede llevar años |\n",
        "| **Imposibilidad práctica** | A veces la población es infinita o inaccesible |\n",
        "| **Destrucción** | En pruebas de calidad (ej: probar bombillas hasta que se fundan) |\n",
        "\n",
        "### 2.4. Relación entre población y muestra\n",
        "\n",
        "```\n",
        "┌─────────────────────────────────────────┐\n",
        "│         POBLACIÓN (N)                   │\n",
        "│  ┌───────────────────────────┐          │\n",
        "│  │   MUESTRA (n)             │          │\n",
        "│  │                           │          │\n",
        "│  │   • n << N                │          │\n",
        "│  │   • Debe ser              │          │\n",
        "│  │     representativa        │          │\n",
        "│  └───────────────────────────┘          │\n",
        "└─────────────────────────────────────────┘\n",
        "```\n",
        "\n",
        "**Notación:**\n",
        "- Usamos letras **griegas** para parámetros poblacionales: $\\mu$ (media), $\\sigma$ (desviación estándar)\n",
        "- Usamos letras **latinas** para estadísticos muestrales: $\\bar{x}$ (media muestral), $s$ (desviación estándar muestral)"
      ]
    },
    {
      "cell_type": "markdown",
      "metadata": {
        "id": "zPxAGRFM39FU"
      },
      "source": [
        "---\n",
        "\n",
        "## 3. Tipos de variables\n",
        "\n",
        "Una **variable** es una característica o propiedad que puede tomar diferentes valores en los elementos de nuestra población o muestra.\n",
        "\n",
        "### 3.1. Clasificación general\n",
        "\n",
        "```\n",
        "                    VARIABLES\n",
        "                        |\n",
        "        ┌───────────────┴───────────────┐\n",
        "        |                               |\n",
        "   CUALITATIVAS                    CUANTITATIVAS\n",
        "   (Categóricas)                     (Numéricas)\n",
        "        |                               |\n",
        "   ┌────┴────┐                    ┌─────┴─────┐\n",
        "   |         |                    |           |\n",
        "Nominal  Ordinal              Discretas   Continuas\n",
        "```"
      ]
    },
    {
      "cell_type": "markdown",
      "metadata": {
        "id": "vlYkH-xd39FV"
      },
      "source": [
        "### 3.2. Variables cualitativas (categóricas)\n",
        "\n",
        "Son variables que describen **cualidades o categorías** no numéricas.\n",
        "\n",
        "#### a) Variables nominales\n",
        "\n",
        "No tienen un orden natural entre las categorías.\n",
        "\n",
        "**Ejemplos:**\n",
        "- Color de ojos: {azul, verde, marrón, negro}\n",
        "- Género de película: {acción, comedia, drama, terror}\n",
        "- Sistema operativo: {Windows, Mac, Linux}\n",
        "- Método de pago: {tarjeta, efectivo, transferencia}"
      ]
    },
    {
      "cell_type": "code",
      "execution_count": 1,
      "metadata": {
        "colab": {
          "base_uri": "https://localhost:8080/"
        },
        "id": "f9XJs33O39FW",
        "outputId": "981c31c1-6c41-4382-83c0-2366cdbeab34"
      },
      "outputs": [
        {
          "output_type": "stream",
          "name": "stdout",
          "text": [
            "genero_favorito\n",
            "acción     2\n",
            "comedia    1\n",
            "drama      1\n",
            "terror     1\n",
            "Name: count, dtype: int64\n"
          ]
        }
      ],
      "source": [
        "import pandas as pd\n",
        "\n",
        "datos = pd.DataFrame({\n",
        "    'usuario_id': [1, 2, 3, 4, 5],\n",
        "    'genero_favorito': ['acción', 'comedia', 'drama', 'acción', 'terror']\n",
        "})\n",
        "\n",
        "# Las variables nominales se suelen codificar con pd.Categorical o con One-Hot Encoding\n",
        "print(datos['genero_favorito'].value_counts())"
      ]
    },
    {
      "cell_type": "markdown",
      "metadata": {
        "id": "6hlPPK3T39FX"
      },
      "source": [
        "#### b) Variables ordinales\n",
        "\n",
        "Tienen un **orden natural** entre las categorías, pero la distancia entre ellas no es necesariamente igual.\n",
        "\n",
        "**Ejemplos:**\n",
        "- Nivel educativo: {primaria < secundaria < universidad < posgrado}\n",
        "- Satisfacción del cliente: {muy insatisfecho < insatisfecho < neutral < satisfecho < muy satisfecho}\n",
        "- Talla de ropa: {XS < S < M < L < XL}"
      ]
    },
    {
      "cell_type": "code",
      "execution_count": 2,
      "metadata": {
        "colab": {
          "base_uri": "https://localhost:8080/"
        },
        "id": "RI8rX4yI39FY",
        "outputId": "8bec9a64-27de-4dd8-8407-c58d634c23d9"
      },
      "outputs": [
        {
          "output_type": "stream",
          "name": "stdout",
          "text": [
            "['satisfecho', 'muy satisfecho', 'neutral', 'insatisfecho']\n",
            "Categories (5, object): ['muy insatisfecho' < 'insatisfecho' < 'neutral' < 'satisfecho' < 'muy satisfecho']\n"
          ]
        }
      ],
      "source": [
        "# Variable ordinal con orden definido\n",
        "satisfaccion = pd.Categorical(\n",
        "    ['satisfecho', 'muy satisfecho', 'neutral', 'insatisfecho'],\n",
        "    categories=['muy insatisfecho', 'insatisfecho', 'neutral', 'satisfecho', 'muy satisfecho'],\n",
        "    ordered=True\n",
        ")\n",
        "\n",
        "print(satisfaccion)\n",
        "# Se puede comparar: satisfaccion[0] > satisfaccion[2]"
      ]
    },
    {
      "cell_type": "markdown",
      "metadata": {
        "id": "Z0A6QM2Q39FY"
      },
      "source": [
        "### 3.3. Variables cuantitativas (numéricas)\n",
        "\n",
        "Son variables que toman **valores numéricos** y sobre las que tiene sentido realizar operaciones matemáticas.\n",
        "\n",
        "#### a) Variables discretas\n",
        "\n",
        "Toman valores **contables** y aislados (generalmente números enteros).\n",
        "\n",
        "**Ejemplos:**\n",
        "- Número de hijos: {0, 1, 2, 3, ...}\n",
        "- Número de clicks en una web: {0, 1, 2, 3, ...}\n",
        "- Cantidad de productos vendidos: {0, 1, 2, 3, ...}\n",
        "- Número de errores en un código"
      ]
    },
    {
      "cell_type": "code",
      "execution_count": 3,
      "metadata": {
        "colab": {
          "base_uri": "https://localhost:8080/"
        },
        "id": "cX5CboAX39FZ",
        "outputId": "4e615452-1d9a-45f4-f7cc-d9da506dfa3e"
      },
      "outputs": [
        {
          "output_type": "stream",
          "name": "stdout",
          "text": [
            "Valores únicos: [35 36 37 38 39 40 41 42 43 45 46 47 48 49 50 51 52 53 54 55 56 57 59 60\n",
            " 61 62 63 67]\n",
            "Media de clicks: 49.27\n"
          ]
        }
      ],
      "source": [
        "import numpy as np\n",
        "\n",
        "# Simulamos número de clicks diarios (variable discreta)\n",
        "clicks_diarios = np.random.poisson(lam=50, size=100)  # Media de 50 clicks/día\n",
        "\n",
        "print(f\"Valores únicos: {np.unique(clicks_diarios)}\")\n",
        "print(f\"Media de clicks: {clicks_diarios.mean():.2f}\")"
      ]
    },
    {
      "cell_type": "markdown",
      "metadata": {
        "id": "iPoukHnM39FZ"
      },
      "source": [
        "#### b) Variables continuas\n",
        "\n",
        "Pueden tomar **cualquier valor** dentro de un intervalo (incluyen decimales).\n",
        "\n",
        "**Ejemplos:**\n",
        "- Peso: 65.5 kg, 70.234 kg, ...\n",
        "- Temperatura: 23.5°C, 24.1°C, ...\n",
        "- Tiempo de respuesta de una API: 0.234 segundos, 1.567 segundos, ...\n",
        "- Precio de una acción: 45.67€, 45.68€, ..."
      ]
    },
    {
      "cell_type": "code",
      "execution_count": 4,
      "metadata": {
        "colab": {
          "base_uri": "https://localhost:8080/"
        },
        "id": "HYgRrOEb39Fa",
        "outputId": "55f8dfc7-4d30-464f-b4ad-51fdd69c0afb"
      },
      "outputs": [
        {
          "output_type": "stream",
          "name": "stdout",
          "text": [
            "Algunos valores: [2.67060614 2.2075716  1.96483878 1.85642936 2.75495812]\n",
            "Tiempo medio de carga: 2.512 segundos\n"
          ]
        }
      ],
      "source": [
        "# Simulamos tiempos de carga de una página web (variable continua)\n",
        "tiempos_carga = np.random.normal(loc=2.5, scale=0.5, size=1000)  # Media 2.5s, SD 0.5s\n",
        "\n",
        "print(f\"Algunos valores: {tiempos_carga[:5]}\")\n",
        "print(f\"Tiempo medio de carga: {tiempos_carga.mean():.3f} segundos\")"
      ]
    },
    {
      "cell_type": "markdown",
      "metadata": {
        "id": "7Eif66tb39Fa"
      },
      "source": [
        "---\n",
        "\n",
        "## 4. Tabla resumen de tipos de variables\n",
        "\n",
        "| Tipo | Subtipo | Características | Operaciones | Ejemplos |\n",
        "|------|---------|----------------|-------------|----------|\n",
        "| **Cualitativa** | Nominal | Categorías sin orden | Contar, moda | Color, género |\n",
        "| **Cualitativa** | Ordinal | Categorías con orden | Contar, moda, mediana | Satisfacción, nivel educativo |\n",
        "| **Cuantitativa** | Discreta | Valores contables | Todas las operaciones | Nº de hijos, clicks |\n",
        "| **Cuantitativa** | Continua | Valores en un rango | Todas las operaciones | Peso, temperatura, tiempo |"
      ]
    },
    {
      "cell_type": "markdown",
      "metadata": {
        "id": "aWDPXMYd39Fa"
      },
      "source": [
        "---\n",
        "\n",
        "## 5. ¿Por qué es importante identificar el tipo de variable?\n",
        "\n",
        "Identificar correctamente el tipo de variable es **crucial** porque:\n",
        "\n",
        "1. **Determina qué análisis estadísticos podemos aplicar**\n",
        "   - No tiene sentido calcular la media de colores de ojos\n",
        "   - No podemos hacer regresión lineal con variables nominales directamente\n",
        "\n",
        "2. **Influye en la visualización adecuada**\n",
        "   - Variables categóricas → gráficos de barras, pie charts\n",
        "   - Variables continuas → histogramas, boxplots, scatter plots\n",
        "\n",
        "3. **Afecta al preprocesamiento en Machine Learning**\n",
        "   - Variables categóricas necesitan encoding (One-Hot, Label Encoding)\n",
        "   - Variables continuas pueden necesitar normalización o estandarización\n",
        "\n",
        "4. **Condiciona la elección de modelos**\n",
        "   - Regresión logística para variables objetivo categóricas\n",
        "   - Regresión lineal para variables objetivo continuas"
      ]
    },
    {
      "cell_type": "markdown",
      "metadata": {
        "id": "k8FNH7iG39Fa"
      },
      "source": [
        "---\n",
        "\n",
        "## 6. Ejemplo práctico completo\n",
        "\n",
        "Imagina que tienes un dataset de usuarios de una app de fitness:"
      ]
    },
    {
      "cell_type": "code",
      "execution_count": 5,
      "metadata": {
        "colab": {
          "base_uri": "https://localhost:8080/"
        },
        "id": "IXs7D3Sf39Fb",
        "outputId": "6b899cc8-7a45-4796-b3ef-df944fc98e45"
      },
      "outputs": [
        {
          "output_type": "stream",
          "name": "stdout",
          "text": [
            "Tipos de variables en el dataset:\n",
            "usuario_id            int64\n",
            "edad                  int64\n",
            "peso                float64\n",
            "altura              float64\n",
            "genero               object\n",
            "nivel_actividad      object\n",
            "dias_uso_semanal      int64\n",
            "dtype: object\n",
            "\n",
            "==================================================\n",
            "\n",
            "Variables cuantitativas - Estadísticas descriptivas:\n",
            "            edad        peso      altura  dias_uso_semanal\n",
            "count  100.00000  100.000000  100.000000        100.000000\n",
            "mean    40.88000   71.029000  169.395000          4.160000\n",
            "std     13.99082   14.966503   10.037157          1.983365\n",
            "min     18.00000   40.900000  146.800000          1.000000\n",
            "25%     30.50000   58.550000  163.000000          2.750000\n",
            "50%     41.00000   69.850000  168.750000          4.000000\n",
            "75%     53.25000   81.275000  175.775000          6.000000\n",
            "max     64.00000  114.200000  200.600000          7.000000\n",
            "\n",
            "==================================================\n",
            "\n",
            "Variables cualitativas - Distribución de frecuencias:\n",
            "Género:\n",
            "genero\n",
            "F    55\n",
            "M    45\n",
            "Name: count, dtype: int64\n",
            "\n",
            "Nivel de actividad:\n",
            "nivel_actividad\n",
            "bajo     41\n",
            "alto     33\n",
            "medio    26\n",
            "Name: count, dtype: int64\n"
          ]
        }
      ],
      "source": [
        "import pandas as pd\n",
        "import numpy as np\n",
        "\n",
        "# Creamos un dataset de ejemplo\n",
        "np.random.seed(42)\n",
        "\n",
        "datos_fitness = pd.DataFrame({\n",
        "    'usuario_id': range(1, 101),                                    # ID (identificador)\n",
        "    'edad': np.random.randint(18, 65, 100),                        # Cuantitativa discreta\n",
        "    'peso': np.random.normal(70, 15, 100).round(1),                # Cuantitativa continua\n",
        "    'altura': np.random.normal(170, 10, 100).round(1),             # Cuantitativa continua\n",
        "    'genero': np.random.choice(['M', 'F'], 100),                   # Cualitativa nominal\n",
        "    'nivel_actividad': np.random.choice(                           # Cualitativa ordinal\n",
        "        ['bajo', 'medio', 'alto'], 100\n",
        "    ),\n",
        "    'dias_uso_semanal': np.random.randint(1, 8, 100)              # Cuantitativa discreta\n",
        "})\n",
        "\n",
        "# Identificamos tipos de variables\n",
        "print(\"Tipos de variables en el dataset:\")\n",
        "print(datos_fitness.dtypes)\n",
        "print(\"\\n\" + \"=\"*50 + \"\\n\")\n",
        "\n",
        "# Análisis según el tipo\n",
        "print(\"Variables cuantitativas - Estadísticas descriptivas:\")\n",
        "print(datos_fitness[['edad', 'peso', 'altura', 'dias_uso_semanal']].describe())\n",
        "print(\"\\n\" + \"=\"*50 + \"\\n\")\n",
        "\n",
        "print(\"Variables cualitativas - Distribución de frecuencias:\")\n",
        "print(\"Género:\")\n",
        "print(datos_fitness['genero'].value_counts())\n",
        "print(\"\\nNivel de actividad:\")\n",
        "print(datos_fitness['nivel_actividad'].value_counts())"
      ]
    },
    {
      "cell_type": "markdown",
      "metadata": {
        "id": "cbo-1knb39Fb"
      },
      "source": [
        "---\n",
        "\n",
        "## 7. Conceptos clave para recordar\n",
        "$$\n",
        "\\boxed{\n",
        "\\begin{align}\n",
        "&\\text{Población (N)}: \\text{ Conjunto completo de elementos} \\\\\n",
        "&\\text{Muestra (n)}: \\text{ Subconjunto representativo de la población} \\\\\n",
        "&\\text{Variable}: \\text{ Característica que varía entre individuos}\n",
        "\\end{align}\n",
        "}\n",
        "$$\n",
        "\n",
        "**Tipos de variables:**\n",
        "\n",
        "$$\n",
        "\\text{Variables} =\n",
        "\\begin{cases}\n",
        "\\text{Cualitativas}\n",
        "\\begin{cases}\n",
        "\\text{Nominales (sin orden)} \\\\\n",
        "\\text{Ordinales (con orden)}\n",
        "\\end{cases} \\\\\n",
        "\\text{Cuantitativas}\n",
        "\\begin{cases}\n",
        "\\text{Discretas (contables)} \\\\\n",
        "\\text{Continuas (en intervalos)}\n",
        "\\end{cases}\n",
        "\\end{cases}\n",
        "$$"
      ]
    },
    {
      "cell_type": "markdown",
      "metadata": {
        "id": "uFZ-aQ4A39Fb"
      },
      "source": [
        "---\n",
        "\n",
        "## 8. Ejercicios propuestos\n",
        "\n",
        "**Ejercicio 1:** Clasifica las siguientes variables:\n",
        "- a) Temperatura corporal\n",
        "- b) Número de likes en un post\n",
        "- c) Marca de smartphone\n",
        "- d) Calificación de una película (1-5 estrellas)\n",
        "\n",
        "**Ejercicio 2:** Crea un pequeño dataset en Python con al menos 4 tipos diferentes de variables y realiza un análisis exploratorio básico.\n",
        "\n",
        "**Ejercicio 3:** ¿Por qué el código postal se considera una variable cualitativa nominal aunque contenga números?"
      ]
    },
    {
      "cell_type": "code",
      "execution_count": 6,
      "metadata": {
        "id": "PhnfYiji39Fc"
      },
      "outputs": [],
      "source": [
        "# Espacio para resolver los ejercicios\n"
      ]
    },
    {
      "cell_type": "markdown",
      "metadata": {
        "id": "lQwNG7f039Fc"
      },
      "source": [
        "---\n",
        "\n",
        "**Siguiente lección:** Escalas de medición: nominal, ordinal, intervalo y razón"
      ]
    }
  ],
  "metadata": {
    "kernelspec": {
      "display_name": "Python 3",
      "language": "python",
      "name": "python3"
    },
    "language_info": {
      "codemirror_mode": {
        "name": "ipython",
        "version": 3
      },
      "file_extension": ".py",
      "mimetype": "text/x-python",
      "name": "python",
      "nbconvert_exporter": "python",
      "pygments_lexer": "ipython3",
      "version": "3.8.0"
    },
    "colab": {
      "provenance": [],
      "include_colab_link": true
    }
  },
  "nbformat": 4,
  "nbformat_minor": 0
}