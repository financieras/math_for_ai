{
  "nbformat": 4,
  "nbformat_minor": 0,
  "metadata": {
    "colab": {
      "provenance": [],
      "authorship_tag": "ABX9TyM8vaVjEzaUQNCAPgLueFA4",
      "include_colab_link": true
    },
    "kernelspec": {
      "name": "python3",
      "display_name": "Python 3"
    },
    "language_info": {
      "name": "python"
    }
  },
  "cells": [
    {
      "cell_type": "markdown",
      "metadata": {
        "id": "view-in-github",
        "colab_type": "text"
      },
      "source": [
        "<a href=\"https://colab.research.google.com/github/financieras/math_for_ai/blob/main/010_Funciones.ipynb\" target=\"_parent\"><img src=\"https://colab.research.google.com/assets/colab-badge.svg\" alt=\"Open In Colab\"/></a>"
      ]
    },
    {
      "cell_type": "markdown",
      "source": [
        "# Funciones"
      ],
      "metadata": {
        "id": "9-u6Zx6zzNpH"
      }
    },
    {
      "cell_type": "markdown",
      "source": [
        "## 1. Introducción a las funciones"
      ],
      "metadata": {
        "id": "eB0Jxwv4zV2O"
      }
    },
    {
      "cell_type": "markdown",
      "source": [
        "### 1.1. Concepto de función como relación entre variables\n",
        "En matemáticas una **función** es la relación que hay entre una magnitud y otra.\n",
        "\n",
        "Si una magnitud la representamos por la variable $x$ y la otra magnitud la representamos por la variable $y$, diremos que la función $f$ es la que relaciona la variable independiente $x$ con la variable dependiente $y$. Se representa como $y=f(x)$ y se lee diciendo que $y$ es función de $x$.\n",
        "\n",
        "**Ejemplo**\n",
        "Podemos observar como la temperatura varía a lo largo del día. Podríamos establecer una función que relacione la temperatura con la hora del día.\n",
        "- La variable independiente sería la hora del día.\n",
        "- La variable dependiente sería la temperatura.\n",
        "\n",
        "**Variables**\n",
        "- Variable independiente $x$: es el valor que podemos elegir o que varía libremente.\n",
        "- Variable dependiente $y$: es el valor que se obtiene como resultado.\n",
        "\n",
        "\n",
        "¿Qué es una función?\n",
        "\n",
        "- Es como una máquina que \"transforma\" o \"procesa\" valores de entrada para producir valores de salida.\n",
        "\n",
        "<img src=\"https://github.com/financieras/math_for_ai/blob/main/img/funcion_maquina1.png?raw=1\" alt=\"función como máquina\" width=\"480\"/>\n",
        "\n",
        "-  Una tabla de valores `xy` es una representación de datos, mediante pares ordenados, que expresan la relación existente entre dos magnitudes o dos situaciones.\n",
        "\n",
        "<img src=\"https://github.com/financieras/math_for_ai/blob/main/img/funcion_maquina2.png?raw=1\" alt=\"función como máquina\" width=\"480\"/>\n",
        "\n",
        "- La variable $x$ es la variable independiente. La variable $y$ es la variable dependiente.\n",
        "\n",
        "<img src=\"https://github.com/financieras/math_for_ai/blob/main/img/funcion_maquina3.png?raw=1\" alt=\"función como máquina\" width=\"480\"/>\n",
        "\n",
        "- Una función es una regla que asocia a cada elemento de un conjunto (entrada) un único elemento de otro conjunto (salida)\n",
        "\n",
        "<img src=\"https://github.com/financieras/math_for_ai/blob/main/img/funcion_maquina4.ppm?raw=1\" alt=\"función como máquina\" width=\"480\"/>\n",
        "\n",
        "\n",
        "**Otros ejemplos**\n",
        "\n",
        "- La edad de una persona y su altura\n",
        "- El lado de un cuadrado y su área\n",
        "- Los kilómetros recorridos y el consumo de energía\n",
        "- El precio a pagar según la cantidad de kilogramos comprados de fruta\n",
        "\n",
        "\n",
        "**Representación gráfica de funciones**\n",
        "\n",
        "- El plano cartesiano como herramienta de visualización\n",
        "    - Eje horizontal $x$ para la variable independiente\n",
        "    - Eje vertical $y$ para la variable dependiente\n",
        "    - Cada punto del plano $(x,y)$ representa una pareja de valores relacionados\n",
        "- Visualización de la correspondencia única\n",
        "    - Trazar líneas verticales en cualquier punto del eje x\n",
        "    - Una función debe cortar esta línea vertical en un único punto\n",
        "    - Si corta en más de un punto, no es una función\n",
        "\n",
        "**Representacón gráfica**\n",
        "- Regla de la línea vertical: Nos permite identificar si una gráfica es o no función. Toda vertical trazada desde cualquier punto $x$ debe cortar la recta en como máximo un solo punto. Si la recta vertical corta en dos o más puntos a la gráfica no es una función.\n",
        "\n",
        "<img src=\"https://github.com/financieras/math_for_ai/blob/main/img/funcion1.png?raw=1\" alt=\"ver si es función\" width=\"200\"/>\n",
        "\n",
        "**Gráficas de funciones**\n",
        "\n",
        "<img src=\"https://github.com/financieras/math_for_ai/blob/main/img/funcion2.jpg?raw=1\" alt=\"ejemplos de funciones\" width=\"800\"/>\n",
        "\n",
        "**Dominio y recorrido**\n",
        "\n",
        "\n",
        "<img src=\"https://github.com/financieras/math_for_ai/blob/main/img/funcion3.webp?raw=1\" alt=\"dominio y recorrido\" width=\"800\"/>\n"
      ],
      "metadata": {
        "id": "p4GTHix9zfsR"
      }
    }
  ]
}