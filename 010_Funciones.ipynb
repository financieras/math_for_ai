{
  "nbformat": 4,
  "nbformat_minor": 0,
  "metadata": {
    "colab": {
      "provenance": [],
      "authorship_tag": "ABX9TyOnOic1b/GW5XBKwbq+ZJ7D",
      "include_colab_link": true
    },
    "kernelspec": {
      "name": "python3",
      "display_name": "Python 3"
    },
    "language_info": {
      "name": "python"
    }
  },
  "cells": [
    {
      "cell_type": "markdown",
      "metadata": {
        "id": "view-in-github",
        "colab_type": "text"
      },
      "source": [
        "<a href=\"https://colab.research.google.com/github/financieras/math_for_ai/blob/main/010_Funciones.ipynb\" target=\"_parent\"><img src=\"https://colab.research.google.com/assets/colab-badge.svg\" alt=\"Open In Colab\"/></a>"
      ]
    },
    {
      "cell_type": "markdown",
      "source": [
        "# Funciones"
      ],
      "metadata": {
        "id": "9-u6Zx6zzNpH"
      }
    },
    {
      "cell_type": "markdown",
      "source": [
        "## 1. Introducción a las funciones"
      ],
      "metadata": {
        "id": "eB0Jxwv4zV2O"
      }
    },
    {
      "cell_type": "markdown",
      "source": [
        "### 1.1. Concepto de función como relación entre variables\n",
        "En matemáticas una **función** es la relación que hay entre una magnitud y otra.\n",
        "\n",
        "Si una magnitud la representamos por la variable $x$ y la otra magnitud la representamos por la variable $y$, diremos que la función $f$ es la que relaciona la variable independiente $x$ con la variable dependiente $y$. Se representa como $y=f(x)$ y se lee diciendo que $y$ es función de $x$.\n",
        "\n",
        "**Ejemplo**\n",
        "Podemos observar como la temperatura varía a lo largo del día. Podríamos establecer una función que relacione la temperatura con la hora del día.\n",
        "- La variable independiente sería la hora del día.\n",
        "- La variable dependiente sería la temperatura.\n",
        "\n",
        "¿Qué es una función?\n",
        "- Una función es una regla que asocia a cada elemento de un conjunto (entrada) un único elemento de otro conjunto (salida)\n",
        "- Es como una máquina que \"transforma\" o \"procesa\" valores de entrada para producir valores de salida.\n",
        "\n"
      ],
      "metadata": {
        "id": "p4GTHix9zfsR"
      }
    }
  ]
}