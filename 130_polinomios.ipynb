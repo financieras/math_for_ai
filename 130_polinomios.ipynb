{
  "nbformat": 4,
  "nbformat_minor": 0,
  "metadata": {
    "colab": {
      "provenance": [],
      "authorship_tag": "ABX9TyPtckn7zeYPK3VOSNgc3O2A",
      "include_colab_link": true
    },
    "kernelspec": {
      "name": "python3",
      "display_name": "Python 3"
    },
    "language_info": {
      "name": "python"
    }
  },
  "cells": [
    {
      "cell_type": "markdown",
      "metadata": {
        "id": "view-in-github",
        "colab_type": "text"
      },
      "source": [
        "<a href=\"https://colab.research.google.com/github/financieras/math_for_ai/blob/main/130_polinomios.ipynb\" target=\"_parent\"><img src=\"https://colab.research.google.com/assets/colab-badge.svg\" alt=\"Open In Colab\"/></a>"
      ]
    },
    {
      "cell_type": "code",
      "execution_count": null,
      "metadata": {
        "id": "mVYkcp_imB6t"
      },
      "outputs": [],
      "source": []
    },
    {
      "cell_type": "markdown",
      "source": [
        "# Polinomios"
      ],
      "metadata": {
        "id": "SNWMcnGkmG82"
      }
    },
    {
      "cell_type": "markdown",
      "source": [
        "## Definición y operaciones básicas\n",
        "\n",
        "### Concepto de polinomio\n",
        "\n",
        "Un polinomio es una expresión algebraica que consiste en una suma de términos, donde cada término es el producto de un coeficiente (un número) y una variable elevada a una potencia no negativa entera. La forma general de un polinomio en una variable $x$ es:\n",
        "\n",
        "$a_nx^n + a_{n-1}x^{n-1} + ... + a_2x^2 + a_1x + a_0$\n",
        "\n",
        "donde $a_n, a_{n-1}, ..., a_2, a_1, a_0$ son números reales (los coeficientes) y $n$ es un entero no negativo.\n",
        "\n",
        "#### Ejemplos:\n",
        "\n",
        "- $3x^2 + 2x - 5$\n",
        "- $7x^4 - 2x^3 + x - 9$\n",
        "- $x^5 + 3$\n",
        "\n",
        "Es importante notar que el término independiente (el número sin variable) puede verse como un término donde la variable está elevada a la potencia cero: $a_0 = a_0x^0$, ya que cualquier número elevado a 0 es 1.\n",
        "\n",
        "#### Variable\n",
        "\n",
        "Aunque comúnmente usamos $x$ como variable, podemos usar cualquier letra.\n",
        "\n",
        "Por ejemplo, en física o ingeniería, es común usar $t$ para representar el tiempo:\n",
        "\n",
        "$2t^3 - 5t^2 + 3t + 1$\n",
        "\n",
        "#### Tipos de polinomios\n",
        "\n",
        "- Un polinomio de la forma $ax + b$ es lineal (grado 1).\n",
        "- Un polinomio de la forma $a_2x^2 + a_1x + a_0$ es cuadrático (grado 2).\n",
        "\n",
        "#### Grado de un polinomio\n",
        "\n",
        "El grado de un polinomio es el mayor exponente de la variable en el polinomio. Por ejemplo:\n",
        "\n",
        "- $3x + 2$ es de grado 1\n",
        "- $5x^3 - 2x^2 + x - 7$ es de grado 3\n",
        "\n",
        "#### Funciones que no son polinomios\n",
        "\n",
        "Algunas funciones no son polinomios. Ejemplos incluyen:\n",
        "\n",
        "1. $f(x) = \\frac{1}{x}$ (función racional, pero no polinómica)\n",
        "2. $g(x) = \\sqrt{x}$ (raíz cuadrada no es un exponente entero)\n",
        "3. $h(x) = 2^x$ (la variable está en el exponente)\n",
        "4. $j(x) = \\sin(x)$ (función trigonométrica)\n",
        "\n",
        "Estas funciones no son polinomios porque incluyen operaciones o expresiones que no cumplen con la definición de polinomio, como fracciones, raíces, exponenciales o funciones trigonométricas."
      ],
      "metadata": {
        "id": "SK0Y7J2zmf3h"
      }
    }
  ]
}