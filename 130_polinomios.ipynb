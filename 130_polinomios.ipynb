{
  "nbformat": 4,
  "nbformat_minor": 0,
  "metadata": {
    "colab": {
      "provenance": [],
      "authorship_tag": "ABX9TyM7b+U9kA4STW88qVdjW0m8",
      "include_colab_link": true
    },
    "kernelspec": {
      "name": "python3",
      "display_name": "Python 3"
    },
    "language_info": {
      "name": "python"
    }
  },
  "cells": [
    {
      "cell_type": "markdown",
      "metadata": {
        "id": "view-in-github",
        "colab_type": "text"
      },
      "source": [
        "<a href=\"https://colab.research.google.com/github/financieras/math_for_ai/blob/main/130_polinomios.ipynb\" target=\"_parent\"><img src=\"https://colab.research.google.com/assets/colab-badge.svg\" alt=\"Open In Colab\"/></a>"
      ]
    },
    {
      "cell_type": "markdown",
      "source": [
        "# Polinomios"
      ],
      "metadata": {
        "id": "SNWMcnGkmG82"
      }
    },
    {
      "cell_type": "markdown",
      "source": [
        "## 1. Definición y operaciones básicas"
      ],
      "metadata": {
        "id": "C8UTa_ZjjJmd"
      }
    },
    {
      "cell_type": "markdown",
      "source": [
        "### 1.1. Concepto de polinomio\n",
        "\n",
        "Un polinomio es una expresión algebraica que consiste en una suma de términos, donde cada término es el producto de un coeficiente (un número) y una variable elevada a una potencia no negativa entera. La forma general de un polinomio en una variable $x$ es:\n",
        "\n",
        "$a_nx^n + a_{n-1}x^{n-1} + ... + a_2x^2 + a_1x + a_0$\n",
        "\n",
        "donde $a_n, a_{n-1}, ..., a_2, a_1, a_0$ son números reales (los coeficientes) y $n$ es un entero no negativo.\n",
        "\n",
        "#### Ejemplos:\n",
        "\n",
        "- $3x^2 + 2x - 5$\n",
        "- $7x^4 - 2x^3 + x - 9$\n",
        "- $x^5 + 3$\n",
        "\n",
        "Es importante notar que el término independiente (el número sin variable) puede verse como un término donde la variable está elevada a la potencia cero: $a_0 = a_0x^0$, ya que cualquier número elevado a 0 es 1.\n",
        "\n",
        "#### Coeficientes implícitos\n",
        "\n",
        "Cuando un término no muestra un coeficiente, implícitamente el coeficiente es 1.\n",
        "\n",
        "Ejemplo: En el polinomio $x^2 - 3x + 5$:\n",
        "- $x^2$ tiene un coeficiente de 1 (no visible)\n",
        "- $-3x$ tiene un coeficiente de -3\n",
        "- $5$ es un término constante con coeficiente 5\n",
        "\n",
        "Así, podemos reescribir el polinomio como: $1x^2 - 3x + 5$\n",
        "\n",
        "\n",
        "#### Variable\n",
        "\n",
        "Aunque comúnmente usamos $x$ como variable, podemos usar cualquier letra.\n",
        "\n",
        "Por ejemplo, en física o ingeniería, es común usar $t$ para representar el tiempo:\n",
        "\n",
        "$2t^3 - 5t^2 + 3t + 1$\n",
        "\n",
        "#### Tipos de polinomios\n",
        "\n",
        "- Un polinomio de la forma $ax + b$ es lineal (grado 1).\n",
        "- Un polinomio de la forma $a_2x^2 + a_1x + a_0$ es cuadrático (grado 2).\n",
        "\n",
        "#### Grado de un polinomio\n",
        "\n",
        "El grado de un polinomio es el mayor exponente de la variable en el polinomio. Por ejemplo:\n",
        "\n",
        "- $3x + 2$ es de grado 1\n",
        "- $5x^3 - 2x^2 + x - 7$ es de grado 3\n",
        "\n",
        "#### Funciones que no son polinomios\n",
        "\n",
        "Algunas funciones no son polinomios. Ejemplos incluyen:\n",
        "\n",
        "1. $f(x) = \\frac{1}{x}$ (función racional, pero no polinómica)\n",
        "2. $g(x) = \\sqrt{x}$ (raíz cuadrada no es un exponente entero)\n",
        "3. $h(x) = 2^x$ (la variable está en el exponente)\n",
        "4. $j(x) = \\sin(x)$ (función trigonométrica)\n",
        "\n",
        "Estas funciones no son polinomios porque incluyen operaciones o expresiones que no cumplen con la definición de polinomio, como fracciones, raíces, exponenciales o funciones trigonométricas."
      ],
      "metadata": {
        "id": "SK0Y7J2zmf3h"
      }
    },
    {
      "cell_type": "markdown",
      "source": [
        "### 1.2. Suma y resta de polinomios\n",
        "\n",
        "### Suma y resta de polinomios\n",
        "\n",
        "Estas operaciones se realizan combinando términos semejantes, es decir, aquellos términos que son del mismo grado.\n",
        "\n",
        "#### Proceso de suma y resta\n",
        "\n",
        "1. Alinear los términos semejantes\n",
        "2. Sumar o restar los coeficientes de los términos semejantes\n",
        "3. Mantener los términos que no tengan otro semejante\n",
        "\n",
        "#### Ejemplos\n",
        "\n",
        "##### Suma de polinomios\n",
        "\n",
        "Sumemos $(3x^2 + 2x - 1)$ y $(2x^2 - 3x + 4)$:\n",
        "\n",
        "$$(3x^2 + 2x - 1) + (2x^2 - 3x + 4)$$\n",
        "\n",
        "Agrupando términos semejantes:\n",
        "\n",
        "$$= (3x^2 + 2x^2) + (2x - 3x) + (-1 + 4)$$\n",
        "\n",
        "$$= 5x^2 - x + 3$$\n",
        "\n",
        "##### Resta de polinomios\n",
        "\n",
        "Restemos $(4x^3 - 2x^2 + x + 5)$ de $(2x^3 + 3x^2 - 4x - 1)$:\n",
        "\n",
        "$$(2x^3 + 3x^2 - 4x - 1) - (4x^3 - 2x^2 + x + 5)$$\n",
        "\n",
        "Cambiamos el signo a todos los términos del polinomio que restamos:\n",
        "\n",
        "$$= 2x^3 + 3x^2 - 4x - 1 - 4x^3 + 2x^2 - x - 5$$\n",
        "\n",
        "Agrupando términos semejantes:\n",
        "\n",
        "$$= (2x^3 - 4x^3) + (3x^2 + 2x^2) + (-4x - x) + (-1 - 5)$$\n",
        "\n",
        "$$= -2x^3 + 5x^2 - 5x - 6$$\n",
        "\n",
        "#### Propiedades importantes\n",
        "\n",
        "1. **Conmutativa**: $P(x) + Q(x) = Q(x) + P(x)$\n",
        "2. **Asociativa**: $(P(x) + Q(x)) + R(x) = P(x) + (Q(x) + R(x))$\n",
        "3. **Elemento neutro**: $P(x) + 0 = P(x)$\n",
        "4. **Elemento opuesto**: $P(x) + (-P(x)) = 0$\n",
        "\n",
        "Donde $P(x)$, $Q(x)$, y $R(x)$ son polinomios cualesquiera.\n",
        "\n",
        "#### Nota\n",
        "\n",
        "La resta de polinomios puede verse como la suma del minuendo y el opuesto del sustraendo:\n",
        "\n",
        "$$P(x) - Q(x) = P(x) + (-Q(x))$$\n",
        "\n",
        "Esta perspectiva simplifica la operación de resta a una suma, aplicando primero el cambio de signo a todos los términos del polinomio que se resta."
      ],
      "metadata": {
        "id": "58e0iLj6g6sE"
      }
    },
    {
      "cell_type": "markdown",
      "source": [
        "### 1.3. Multiplicación de polinomios\n",
        "\n",
        "### Multiplicación de polinomios\n",
        "\n",
        "Esta operación supone hacer el producto de cada término de un polinomio por todos los términos del otro.\n",
        "\n",
        "#### Proceso de multiplicación\n",
        "\n",
        "1. Multiplicar cada término del primer polinomio por cada término del segundo.\n",
        "2. Sumar todos los productos resultantes.\n",
        "3. Simplificar, combinando términos semejantes si es necesario.\n",
        "\n",
        "#### Ejemplo detallado\n",
        "\n",
        "Multipliquemos $(2x + 3)$ por $(x^2 - 4x + 5)$:\n",
        "\n",
        "$$(2x + 3)(x^2 - 4x + 5)$$\n",
        "\n",
        "Multiplicamos cada término del primer polinomio por el segundo polinomio:\n",
        "\n",
        "- $2x(x^2 - 4x + 5) = 2x^3 - 8x^2 + 10x$\n",
        "- $3(x^2 - 4x + 5) = 3x^2 - 12x + 15$\n",
        "\n",
        "Sumamos los resultados:\n",
        "\n",
        "$$(2x^3 - 8x^2 + 10x) + (3x^2 - 12x + 15)$$\n",
        "\n",
        "Agrupamos términos semejantes:\n",
        "\n",
        "$$2x^3 + (-8x^2 + 3x^2) + (10x - 12x) + 15$$\n",
        "\n",
        "Simplificamos:\n",
        "\n",
        "$$2x^3 - 5x^2 - 2x + 15$$\n",
        "\n",
        "#### Propiedades importantes\n",
        "\n",
        "1. **Conmutativa**: $P(x) \\cdot Q(x) = Q(x) \\cdot P(x)$\n",
        "2. **Asociativa**: $(P(x) \\cdot Q(x)) \\cdot R(x) = P(x) \\cdot (Q(x) \\cdot R(x))$\n",
        "3. **Distributiva respecto a la suma**: $P(x) \\cdot (Q(x) + R(x)) = P(x) \\cdot Q(x) + P(x) \\cdot R(x)$\n",
        "4. **Elemento neutro**: $P(x) \\cdot 1 = P(x)$\n",
        "\n",
        "Donde $P(x)$, $Q(x)$, y $R(x)$ son polinomios cualesquiera.\n",
        "\n",
        "#### Grado del producto\n",
        "\n",
        "El grado del producto de dos polinomios es la suma de los grados de los polinomios factores. Por ejemplo:\n",
        "\n",
        "- Grado de $(2x + 3)$: 1\n",
        "- Grado de $(x^2 - 4x + 5)$: 2\n",
        "- Grado del producto: 1 + 2 = 3\n",
        "\n",
        "Esto se verifica en nuestro resultado que es de grado 3:\n",
        "$$2x^3 - 5x^2 - 2x + 15$$\n",
        "\n",
        "#### Caso especial: Multiplicación por un escalar\n",
        "\n",
        "Un caso particular importante es la multiplicación de un polinomio por un escalar (un número). En este caso, simplemente multiplicamos cada término del polinomio por el escalar.\n",
        "\n",
        "Ejemplo: Multipliquemos $2x^3 - 5x^2 - 2x + 15$ por $(-2)$:\n",
        "\n",
        "$$(-2)(2x^3 - 5x^2 - 2x + 15)$$\n",
        "\n",
        "Distribuimos el $(-2)$ a cada término:\n",
        "\n",
        "$$(-2)(2x^3) + (-2)(-5x^2) + (-2)(-2x) + (-2)(15)$$\n",
        "\n",
        "Simplificamos:\n",
        "\n",
        "$$-4x^3 + 10x^2 + 4x - 30$$\n",
        "\n",
        "Este proceso es equivalente a multiplicar cada coeficiente del polinomio por el escalar."
      ],
      "metadata": {
        "id": "kUkum487hKgy"
      }
    },
    {
      "cell_type": "markdown",
      "source": [
        "### 1.4. División de polinomios"
      ],
      "metadata": {
        "id": "qV7mjkxChZQ2"
      }
    },
    {
      "cell_type": "markdown",
      "source": [
        "## 2. Raíces y factorización"
      ],
      "metadata": {
        "id": "yvrf46Iuhh8K"
      }
    },
    {
      "cell_type": "markdown",
      "source": [
        "### 2.1. Teorema del resto"
      ],
      "metadata": {
        "id": "zA0s0oq3h3Qg"
      }
    },
    {
      "cell_type": "markdown",
      "source": [
        "### 2.2. Factorización de polinomios"
      ],
      "metadata": {
        "id": "lKLDZ9TFh-ca"
      }
    },
    {
      "cell_type": "markdown",
      "source": [
        "### 2.3. Raíces de un polinomio"
      ],
      "metadata": {
        "id": "9crssA7UiBk2"
      }
    },
    {
      "cell_type": "markdown",
      "source": [
        "## 3. Inecuaciones"
      ],
      "metadata": {
        "id": "9aawflF1iPZI"
      }
    },
    {
      "cell_type": "markdown",
      "source": [
        "### 3.1. Resolución de inecuaciones polinómicas"
      ],
      "metadata": {
        "id": "7ROESoesiVmu"
      }
    },
    {
      "cell_type": "markdown",
      "source": [
        "### 3.2. Interpretación gráfica"
      ],
      "metadata": {
        "id": "-BNHxcAsiaQM"
      }
    },
    {
      "cell_type": "markdown",
      "source": [
        "## 4. Valor numérico de un polinomio"
      ],
      "metadata": {
        "id": "pxyJ9wXsio6a"
      }
    },
    {
      "cell_type": "markdown",
      "source": [
        "### 4.1. Cálculo del valor numérico"
      ],
      "metadata": {
        "id": "c_BgnADaio6b"
      }
    },
    {
      "cell_type": "markdown",
      "source": [
        "### 4.2. Aplicaciones prácticas"
      ],
      "metadata": {
        "id": "DZ7bnZ09io6b"
      }
    },
    {
      "cell_type": "markdown",
      "source": [
        "## 5. Búsqueda de las raices de un polinomio"
      ],
      "metadata": {
        "id": "cF9xVCL2jpGD"
      }
    },
    {
      "cell_type": "markdown",
      "source": [
        "### 5.1. Regla de Ruffini para dividir polinomios"
      ],
      "metadata": {
        "id": "-Wq8lDlijpGE"
      }
    },
    {
      "cell_type": "markdown",
      "source": [
        "### 5.2. Aplicación en la búsqueda de raíces"
      ],
      "metadata": {
        "id": "dfr1u4MwjpGE"
      }
    },
    {
      "cell_type": "markdown",
      "source": [
        "## 6. Polinomios notables"
      ],
      "metadata": {
        "id": "QgoYDZSDkoFM"
      }
    },
    {
      "cell_type": "markdown",
      "source": [
        "### 6.1. Cuadrado de una suma y de una diferencia"
      ],
      "metadata": {
        "id": "LEkuAxmpkw0l"
      }
    },
    {
      "cell_type": "markdown",
      "source": [
        "### 6.2. Suma por diferencia"
      ],
      "metadata": {
        "id": "V3qiNl9yk1uq"
      }
    },
    {
      "cell_type": "markdown",
      "source": [
        "### 6.3. Aplicaciones en álgebra y geometría"
      ],
      "metadata": {
        "id": "IsAxcDUGk7PL"
      }
    }
  ]
}