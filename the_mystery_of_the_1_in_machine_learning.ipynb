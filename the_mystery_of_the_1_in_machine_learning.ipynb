{
  "cells": [
    {
      "cell_type": "markdown",
      "metadata": {
        "id": "view-in-github",
        "colab_type": "text"
      },
      "source": [
        "<a href=\"https://colab.research.google.com/github/financieras/math_for_ai/blob/main/the_mystery_of_the_1_in_machine_learning.ipynb\" target=\"_parent\"><img src=\"https://colab.research.google.com/assets/colab-badge.svg\" alt=\"Open In Colab\"/></a>"
      ]
    },
    {
      "cell_type": "markdown",
      "source": [
        "# The Mystery of the \"1\" in Machine Learning\n",
        "\n",
        "One of the most common questions for people learning Machine Learning is: **where does that \"1\" come from when we multiply by the bias?**\n",
        "\n",
        "Let's solve this mystery with an intuitive real-world example: calculating taxi fares.\n",
        "\n",
        "---\n",
        "\n",
        "## Practical Example: Taxi Pricing\n",
        "\n",
        "A taxi charges according to this formula:\n",
        "\n",
        "$$\\text{Fare} = 2.5 + 1.3 \\times \\text{km}$$\n",
        "\n",
        "This is simply a straight line:\n",
        "$$y = b + m x$$\n",
        "Or in Machine Learning notation:\n",
        "\n",
        "$$y = w_0 + w_1 x$$\n",
        "\n",
        "Where:\n",
        "- **$2.50** is the **base fare** (fixed cost, independent of distance). In the equation, this is the intercept or bias term.\n",
        "- **$1.30/km** is the price per kilometer traveled. In the equation, this is the slope or coefficient of the independent variable $x$.\n",
        "\n",
        "### The Key Question\n",
        "\n",
        "How do we express this in matrix form to compute **multiple fares at once**?\n",
        "\n",
        "The problem is that the base fare ($2.50) **doesn't depend on any variable**—it's a constant term. But in matrix multiplication, we need to multiply each weight by something.\n",
        "\n",
        "**Solution:** We multiply the constant term by 1.\n",
        "\n",
        "$$\\text{Fare} = 2.5 \\times \\boxed{1} + 1.3 \\times \\text{km}$$\n",
        "\n",
        "This \"1\" is what allows us to include the intercept term in matrix notation.\n",
        "\n",
        "---\n",
        "\n",
        "## Case 1: Single Ride\n",
        "\n",
        "Let's start by calculating the fare for a 10 km ride using matrix notation."
      ],
      "metadata": {
        "id": "L2toJnudEX9l"
      },
      "id": "L2toJnudEX9l"
    },
    {
      "cell_type": "code",
      "source": [
        "import numpy as np\n",
        "\n",
        "# Single ride: [1, km]\n",
        "# The 1 is for multiplying by the base fare\n",
        "x = np.array([1, 10])  # [bias, kilometers]\n",
        "\n",
        "# Weights: [base_fare, price_per_km]\n",
        "w = np.array([2.5, 1.3])\n",
        "\n",
        "# Calculate the fare\n",
        "fare = x @ w  # Equivalent to: x.dot(w)\n",
        "\n",
        "print(f\"Ride: {x[1]} km\")\n",
        "print(f\"Fare: ${fare:.2f}\")\n",
        "print(f\"\\nBreakdown:\")\n",
        "print(f\"  Base fare: {w[0]} × {x[0]}  =  ${w[0] * x[0]:.2f}\")\n",
        "print(f\"  Distance:  {w[1]} × {x[1]} = ${w[1] * x[1]:.2f}\")\n",
        "print(f\"  Total:                ${fare:.2f}\")"
      ],
      "metadata": {
        "id": "Y6bYKhe-Ew3z",
        "colab": {
          "base_uri": "https://localhost:8080/"
        },
        "outputId": "0abc648b-3547-49de-aa77-07a5694a605e"
      },
      "id": "Y6bYKhe-Ew3z",
      "execution_count": 7,
      "outputs": [
        {
          "output_type": "stream",
          "name": "stdout",
          "text": [
            "Ride: 10 km\n",
            "Fare: $15.50\n",
            "\n",
            "Breakdown:\n",
            "  Base fare: 2.5 × 1  =  $2.50\n",
            "  Distance:  1.3 × 10 = $13.00\n",
            "  Total:                $15.50\n"
          ]
        }
      ]
    },
    {
      "cell_type": "markdown",
      "source": [
        "### Matrix Notation\n",
        "\n",
        "For a single observation:\n",
        "\n",
        "$$\\hat{y} = \\mathbf{x}^T \\mathbf{w} = \\begin{bmatrix} 1 & 10 \\end{bmatrix} \\begin{bmatrix} 2.5 \\\\ 1.3 \\end{bmatrix} = 15.5$$\n",
        "\n",
        "**Dimensions:** $\\mathbf{x}^T_{1 \\times 2} \\cdot \\mathbf{w}_{2 \\times 1} = \\hat{y}$ (scalar)\n",
        "\n",
        "### General Form\n",
        "For $n$ features and one observation:\n",
        "\n",
        "$$\\hat{y} = \\mathbf{x}^T \\mathbf{w} = \\begin{bmatrix} 1 & x_1 & x_2 & \\cdots & x_n \\end{bmatrix} \\begin{bmatrix} w_0 \\\\ w_1 \\\\ w_2 \\\\ \\vdots \\\\ w_n \\end{bmatrix}$$\n",
        "\n",
        "**Dimensions:** $\\mathbf{x}^T_{1 \\times (n+1)} \\cdot \\mathbf{w}_{(n+1) \\times 1} = \\hat{y}$ (scalar)\n",
        "\n",
        "---\n",
        "\n",
        "## Case 2: Multiple Rides (Batch Processing)\n",
        "\n",
        "In Machine Learning, **we never process data one sample at a time**. We always work with **batches**.\n",
        "\n",
        "Suppose we have 4 different rides:\n",
        "\n",
        "| Ride | Kilometers |\n",
        "|------|------------|\n",
        "| 1    | 10         |\n",
        "| 2    | 4          |\n",
        "| 3    | 25         |\n",
        "| 4    | 20         |\n",
        "\n",
        "We want to calculate all 4 fares **simultaneously**."
      ],
      "metadata": {
        "id": "zaqFeT0gE45s"
      },
      "id": "zaqFeT0gE45s"
    },
    {
      "cell_type": "code",
      "source": [
        "# Kilometers for 4 rides\n",
        "kilometers = np.array([10, 4, 25, 20])\n",
        "\n",
        "# Build matrix X: each ROW is one ride\n",
        "# Add a column of ones for the base fare\n",
        "X = np.column_stack([np.ones(4), kilometers])\n",
        "\n",
        "# Weights\n",
        "w = np.array([2.5, 1.3])\n",
        "\n",
        "# Calculate all 4 fares at once\n",
        "fares = X @ w\n",
        "\n",
        "print(\"Matrix X (each row is one ride):\")\n",
        "print(X)\n",
        "print(\"\\nWeight vector w:\")\n",
        "print(w)\n",
        "print(\"\\nFare for each ride:\")\n",
        "for i, fare in enumerate(fares, 1):\n",
        "    print(f\"  Ride {i} ({X[i-1, 1]:.0f} km): ${fare:.2f}\")\n",
        "print(f\"\\nTotal revenue:     ${np.sum(fares):.2f}\")"
      ],
      "metadata": {
        "id": "pwaQfErjFBC3",
        "colab": {
          "base_uri": "https://localhost:8080/"
        },
        "outputId": "63d412a0-36ce-47e4-831e-8944cc692fae"
      },
      "id": "pwaQfErjFBC3",
      "execution_count": 2,
      "outputs": [
        {
          "output_type": "stream",
          "name": "stdout",
          "text": [
            "Matrix X (each row is one ride):\n",
            "[[ 1. 10.]\n",
            " [ 1.  4.]\n",
            " [ 1. 25.]\n",
            " [ 1. 20.]]\n",
            "\n",
            "Weight vector w:\n",
            "[2.5 1.3]\n",
            "\n",
            "Fare for each ride:\n",
            "  Ride 1 (10 km): $15.50\n",
            "  Ride 2 (4 km): $7.70\n",
            "  Ride 3 (25 km): $35.00\n",
            "  Ride 4 (20 km): $28.50\n",
            "\n",
            "Total revenue:     $86.70\n"
          ]
        }
      ]
    },
    {
      "cell_type": "markdown",
      "source": [
        "### Batch Matrix Notation\n",
        "\n",
        "$$\\hat{\\mathbf{y}} = \\mathbf{X} \\mathbf{w} = \\begin{bmatrix}\n",
        "1 & 10 \\\\\n",
        "1 & 4 \\\\\n",
        "1 & 25 \\\\\n",
        "1 & 20\n",
        "\\end{bmatrix}\n",
        "\\begin{bmatrix}\n",
        "2.5 \\\\\n",
        "1.3\n",
        "\\end{bmatrix}\n",
        "=\n",
        "\\begin{bmatrix}\n",
        "15.5 \\\\\n",
        "7.7 \\\\\n",
        "35.0 \\\\\n",
        "28.5\n",
        "\\end{bmatrix}$$\n",
        "\n",
        "**Dimensions:** $\\mathbf{X}_{4 \\times 2} \\cdot \\mathbf{w}_{2 \\times 1} = \\hat{\\mathbf{y}}_{4 \\times 1}$\n",
        "\n",
        "**Key takeaways:**\n",
        "- Each **row** of $\\mathbf{X}$ = one ride\n",
        "- First column = all **1s** (for bias)\n",
        "- One matrix operation → **4 predictions**\n",
        "\n",
        "---\n",
        "\n",
        "## Case 3: Multiple Features\n",
        "\n",
        "Now let's add a second feature: **wait time in minutes** (charged at $0.50/min)\n",
        "\n",
        "$$\\text{Fare} = 2.5 + 1.3 \\times \\text{km} + 0.5 \\times \\text{min}$$\n",
        "\n",
        "This is now a **plane** (a 2D linear model):\n",
        "\n",
        "$$y = w_0 + w_1 x_1 + w_2 x_2$$\n",
        "\n",
        "### Single Ride, Two Features"
      ],
      "metadata": {
        "id": "jF8W7XNZFI60"
      },
      "id": "jF8W7XNZFI60"
    },
    {
      "cell_type": "code",
      "source": [
        "# One ride: 10 km, 15 min wait\n",
        "x = np.array([1, 10, 15])  # [bias, km, min]\n",
        "\n",
        "# Weights: [base_fare, $/km, $/min]\n",
        "w = np.array([2.5, 1.3, 0.5])\n",
        "\n",
        "# Calculate fare\n",
        "fare = x @ w\n",
        "\n",
        "print(f\"Ride: {x[1]:.0f} km, {x[2]:.0f} min\")\n",
        "print(f\"Fare: ${fare:.2f}\")\n",
        "print(f\"\\nBreakdown:\")\n",
        "print(f\"  Base fare:  {w[0]} × {x[0]}  = ${w[0] * x[0]:.2f}\")\n",
        "print(f\"  Distance:   {w[1]} × {x[1]} = ${w[1] * x[1]:.2f}\")\n",
        "print(f\"  Wait time:  {w[2]} × {x[2]} = ${w[2] * x[2]:.2f}\")\n",
        "print(f\"  Total:                      ${fare:.2f}\")"
      ],
      "metadata": {
        "id": "6rrNJvSwFO6q",
        "colab": {
          "base_uri": "https://localhost:8080/"
        },
        "outputId": "581e4689-86f9-400d-ac7e-4fa1479db9b4"
      },
      "id": "6rrNJvSwFO6q",
      "execution_count": 3,
      "outputs": [
        {
          "output_type": "stream",
          "name": "stdout",
          "text": [
            "Ride: 10 km, 15 min\n",
            "Fare: $23.00\n",
            "\n",
            "Breakdown:\n",
            "  Base fare:  2.5 × 1  = $2.50\n",
            "  Distance:   1.3 × 10 = $13.00\n",
            "  Wait time:  0.5 × 15 = $7.50\n",
            "  Total:                      $23.00\n"
          ]
        }
      ]
    },
    {
      "cell_type": "markdown",
      "source": [
        "### Matrix Notation for One Sample\n",
        "\n",
        "$$\\hat{y} = \\mathbf{x}^T \\mathbf{w} = \\begin{bmatrix} 1 & 10 & 15 \\end{bmatrix} \\begin{bmatrix} 2.5 \\\\ 1.3 \\\\ 0.5 \\end{bmatrix} = 23.0$$\n",
        "\n",
        "**Dimensions:** $\\mathbf{x}^T_{1 \\times 3} \\cdot \\mathbf{w}_{3 \\times 1} = \\hat{y}$ (scalar)\n",
        "\n",
        "### Batch: Multiple Rides, Multiple Features"
      ],
      "metadata": {
        "id": "LYGCaSXVFgkm"
      },
      "id": "LYGCaSXVFgkm"
    },
    {
      "cell_type": "code",
      "source": [
        "# 4 rides with [km, min] data\n",
        "kilometers = np.array([10, 4, 25, 20])\n",
        "minutes = np.array([15, 0, 5, 10])\n",
        "\n",
        "# Build X matrix\n",
        "X = np.column_stack([np.ones(4), kilometers, minutes])\n",
        "\n",
        "# Weights\n",
        "w = np.array([2.5, 1.3, 0.5])\n",
        "\n",
        "# Calculate all fares\n",
        "fares = X @ w\n",
        "\n",
        "print(\"Matrix X (each row is one ride):\")\n",
        "print(\"  [bias, km, min]\")\n",
        "print(X)\n",
        "print(\"\\nWeight vector w:\")\n",
        "print(\"  [base, $/km, $/min]\")\n",
        "print(w)\n",
        "print(\"\\nComputed fares:\")\n",
        "for i in range(len(fares)):\n",
        "    print(f\"  Ride {i+1} ({X[i,1]:.0f} km, {X[i,2]:.0f} min): ${fares[i]:.2f}\")\n",
        "print(f\"\\nTotal revenue: ${fares.sum():.2f}\")"
      ],
      "metadata": {
        "id": "Hh7lDXNOFkvL",
        "colab": {
          "base_uri": "https://localhost:8080/"
        },
        "outputId": "720dacdb-f224-41ae-bf73-8b585c89c478"
      },
      "id": "Hh7lDXNOFkvL",
      "execution_count": 4,
      "outputs": [
        {
          "output_type": "stream",
          "name": "stdout",
          "text": [
            "Matrix X (each row is one ride):\n",
            "  [bias, km, min]\n",
            "[[ 1. 10. 15.]\n",
            " [ 1.  4.  0.]\n",
            " [ 1. 25.  5.]\n",
            " [ 1. 20. 10.]]\n",
            "\n",
            "Weight vector w:\n",
            "  [base, $/km, $/min]\n",
            "[2.5 1.3 0.5]\n",
            "\n",
            "Computed fares:\n",
            "  Ride 1 (10 km, 15 min): $23.00\n",
            "  Ride 2 (4 km, 0 min): $7.70\n",
            "  Ride 3 (25 km, 5 min): $37.50\n",
            "  Ride 4 (20 km, 10 min): $33.50\n",
            "\n",
            "Total revenue: $101.70\n"
          ]
        }
      ]
    },
    {
      "cell_type": "markdown",
      "source": [
        "### Batch Matrix Form\n",
        "\n",
        "$$\\hat{\\mathbf{y}} = \\mathbf{X} \\mathbf{w} = \\begin{bmatrix}\n",
        "1 & 10 & 15 \\\\\n",
        "1 & 4 & 0 \\\\\n",
        "1 & 25 & 5 \\\\\n",
        "1 & 20 & 10\n",
        "\\end{bmatrix}\n",
        "\\begin{bmatrix}\n",
        "2.5 \\\\\n",
        "1.3 \\\\\n",
        "0.5\n",
        "\\end{bmatrix}\n",
        "=\n",
        "\\begin{bmatrix}\n",
        "23.0 \\\\\n",
        "7.7 \\\\\n",
        "37.5 \\\\\n",
        "33.5\n",
        "\\end{bmatrix}$$\n",
        "\n",
        "**Dimensions:** $\\mathbf{X}_{4 \\times 3} \\cdot \\mathbf{w}_{3 \\times 1} = \\hat{\\mathbf{y}}_{4 \\times 1}$\n",
        "\n",
        "#### General Form ($m$ samples, $n$ features)\n",
        "\n",
        "$$\\hat{\\mathbf{y}} = \\mathbf{X} \\mathbf{w} = \\begin{bmatrix}\n",
        "1 & x_{11} & x_{12} & \\cdots & x_{1n} \\\\\n",
        "1 & x_{21} & x_{22} & \\cdots & x_{2n} \\\\\n",
        "\\vdots & \\vdots & \\vdots & \\ddots & \\vdots \\\\\n",
        "1 & x_{m1} & x_{m2} & \\cdots & x_{mn}\n",
        "\\end{bmatrix}\n",
        "\\begin{bmatrix}\n",
        "w_0 \\\\ w_1 \\\\ w_2 \\\\ \\vdots \\\\ w_n\n",
        "\\end{bmatrix}$$\n",
        "\n",
        "**Dimensions:** $\\mathbf{X}_{m \\times (n+1)} \\cdot \\mathbf{w}_{(n+1) \\times 1} = \\hat{\\mathbf{y}}_{m \\times 1}$\n",
        "\n",
        "---\n",
        "\n",
        "## Connection to Machine Learning\n",
        "\n",
        "### Linear Regression\n",
        "\n",
        "This is exactly how linear regression works with $n$ features (represented as a hyperplane):\n",
        "\n",
        "$$\\hat{y} = w_0 + w_1 x_1 + w_2 x_2 + \\cdots + w_n x_n$$\n",
        "\n",
        "In matrix form:\n",
        "\n",
        "$$\\hat{\\mathbf{y}} = \\mathbf{X} \\mathbf{w}$$\n",
        "\n",
        "Where:\n",
        "- $\\mathbf{X}$: feature matrix $(m \\times (n+1))$\n",
        "  - $m$ = number of samples\n",
        "  - $n$ = number of features\n",
        "  - The **first column** contains ones (for bias $w_0$)\n",
        "- $\\mathbf{w}$: weight vector $((n+1) \\times 1)$\n",
        "- $\\hat{\\mathbf{y}}$: prediction vector $(m \\times 1)$\n",
        "\n",
        "### Example with scikit-learn"
      ],
      "metadata": {
        "id": "lzO79bWKEYo3"
      },
      "id": "lzO79bWKEYo3"
    },
    {
      "cell_type": "code",
      "source": [
        "from sklearn.linear_model import LinearRegression\n",
        "\n",
        "# Training data (no bias column needed—sklearn handles it automatically)\n",
        "X_train = np.array([[10, 15],\n",
        "                    [4, 0],\n",
        "                    [25, 5],\n",
        "                    [20, 10]])\n",
        "y_train = np.array([23.0, 7.7, 37.5, 33.5])\n",
        "\n",
        "# Train model\n",
        "model = LinearRegression()\n",
        "model.fit(X_train, y_train)\n",
        "\n",
        "print(\"Parameters learned by sklearn:\")\n",
        "print(f\"  Bias (w₀): {model.intercept_:.12f}\")\n",
        "print(f\"  Coefficients (w₁, w₂): {model.coef_}\")\n",
        "\n",
        "print(\"\\nComparing with our original weights:\")\n",
        "print(f\"  w₀ (base fare): {w[0]}\")\n",
        "print(f\"  w₁ ($/km):      {w[1]}\")\n",
        "print(f\"  w₂ ($/min):     {w[2]}\")\n",
        "\n",
        "# Predict new ride: 30 km, 8 minutes\n",
        "new_ride = np.array([[30, 8]])\n",
        "pred_sklearn = model.predict(new_ride)[0]\n",
        "pred_manual = 2.5 + 1.3*30 + 0.5*8\n",
        "\n",
        "print(f\"\\nNew ride (30 km, 8 min):\")\n",
        "print(f\"  sklearn prediction: ${pred_sklearn:.12f}\")\n",
        "print(f\"  Manual calculation: ${pred_manual:.2f}\")"
      ],
      "metadata": {
        "id": "1vBuKBCsIvPL",
        "colab": {
          "base_uri": "https://localhost:8080/"
        },
        "outputId": "ac7b308c-5c7c-4734-c611-d8c9936b8bc0"
      },
      "id": "1vBuKBCsIvPL",
      "execution_count": 5,
      "outputs": [
        {
          "output_type": "stream",
          "name": "stdout",
          "text": [
            "Parameters learned by sklearn:\n",
            "  Bias (w₀): 2.500000000000\n",
            "  Coefficients (w₁, w₂): [1.3 0.5]\n",
            "\n",
            "Comparing with our original weights:\n",
            "  w₀ (base fare): 2.5\n",
            "  w₁ ($/km):      1.3\n",
            "  w₂ ($/min):     0.5\n",
            "\n",
            "New ride (30 km, 8 min):\n",
            "  sklearn prediction: $45.500000000000\n",
            "  Manual calculation: $45.50\n"
          ]
        }
      ]
    },
    {
      "cell_type": "markdown",
      "source": [
        "---\n",
        "\n",
        "## Why Batch Processing Matters\n",
        "\n",
        "Batch processing (multiple samples at once) is **fundamental** in Machine Learning:\n",
        "\n",
        "### 1. **Computational Efficiency**\n",
        "Processing 100 samples simultaneously is **orders of magnitude faster** than processing them one by one."
      ],
      "metadata": {
        "id": "nuevo_markdown_1"
      },
      "id": "nuevo_markdown_1"
    },
    {
      "cell_type": "code",
      "source": [
        "import time\n",
        "\n",
        "# Generate 1 million random rides\n",
        "n_rides = 1_000_000\n",
        "X_large = np.column_stack([\n",
        "    np.ones(n_rides),\n",
        "    np.random.uniform(1, 50, n_rides),  # km\n",
        "    np.random.uniform(0, 30, n_rides)   # minutes\n",
        "])\n",
        "\n",
        "# Method 1: Loop (one by one)\n",
        "start = time.time()\n",
        "fares_loop = []\n",
        "for i in range(n_rides):\n",
        "    fare = X_large[i] @ w\n",
        "    fares_loop.append(fare)\n",
        "time_loop = time.time() - start\n",
        "\n",
        "# Method 2: Vectorized (all at once)\n",
        "start = time.time()\n",
        "fares_vectorized = X_large @ w\n",
        "time_vectorized = time.time() - start\n",
        "\n",
        "print(f\"Processing {n_rides:,} rides:\")\n",
        "print(f\"  Loop method (one by one): {time_loop*1000:.2f} ms\")\n",
        "print(f\"  Vectorized method (batch): {time_vectorized*1000:.2f} ms\")\n",
        "print(f\"  Speedup: {time_loop/time_vectorized:.1f}x faster\")"
      ],
      "metadata": {
        "id": "codigo_benchmark",
        "colab": {
          "base_uri": "https://localhost:8080/"
        },
        "outputId": "d9184112-3b16-4cae-e801-a4be42f837c7"
      },
      "id": "codigo_benchmark",
      "execution_count": 6,
      "outputs": [
        {
          "output_type": "stream",
          "name": "stdout",
          "text": [
            "Processing 1,000,000 rides:\n",
            "  Loop method (one by one): 4648.28 ms\n",
            "  Vectorized method (batch): 8.94 ms\n",
            "  Speedup: 520.1x faster\n"
          ]
        }
      ]
    },
    {
      "cell_type": "markdown",
      "source": [
        "### 2. **Hardware Optimization**\n",
        "\n",
        "GPUs are optimized for large matrix operations. That's why deep learning frameworks (PyTorch, TensorFlow) always work with batches.\n",
        "\n",
        "### 3. **Training Stability**\n",
        "\n",
        "In neural networks, computing gradients over a batch is more stable than computing them on a single sample.\n",
        "\n",
        "Typical batch sizes for training are: 32, 64, 128, 256, ... optimized for efficient matrix operations on GPUs.\n",
        "\n",
        "---\n",
        "\n",
        "## Wrapping Up\n",
        "\n",
        "In this article, we've explored why working with matrices and batches of data is so powerful in machine learning. I hope this has clarified the origin of that mysterious **1** that appears in matrix formulations and the importance of matrix multiplication in ML.\n",
        "\n",
        "**Key insights:**\n",
        "- That **\"1\"** exists to give the bias term something to multiply by in matrix notation\n",
        "- **Matrix form** enables efficient batch processing\n",
        "- **Vectorized operations** are essential for performance in modern ML\n",
        "\n",
        "Understanding this foundation will serve you well as you dive deeper into linear models, neural networks, and beyond."
      ],
      "metadata": {
        "id": "resumen_final"
      },
      "id": "resumen_final"
    }
  ],
  "metadata": {
    "kernelspec": {
      "display_name": "Python 3 (ipykernel)",
      "language": "python",
      "name": "python3"
    },
    "language_info": {
      "codemirror_mode": {
        "name": "ipython",
        "version": 3
      },
      "file_extension": ".py",
      "mimetype": "text/x-python",
      "name": "python",
      "nbconvert_exporter": "python",
      "pygments_lexer": "ipython3",
      "version": "3.12.2"
    },
    "colab": {
      "provenance": [],
      "include_colab_link": true
    }
  },
  "nbformat": 4,
  "nbformat_minor": 5
}