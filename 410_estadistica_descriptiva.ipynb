{
  "nbformat": 4,
  "nbformat_minor": 0,
  "metadata": {
    "colab": {
      "provenance": [],
      "authorship_tag": "ABX9TyMMZHj8DXrJEBnxDrPZXFSG",
      "include_colab_link": true
    },
    "kernelspec": {
      "name": "python3",
      "display_name": "Python 3"
    },
    "language_info": {
      "name": "python"
    }
  },
  "cells": [
    {
      "cell_type": "markdown",
      "metadata": {
        "id": "view-in-github",
        "colab_type": "text"
      },
      "source": [
        "<a href=\"https://colab.research.google.com/github/financieras/math_for_ai/blob/main/410_estadistica_descriptiva.ipynb\" target=\"_parent\"><img src=\"https://colab.research.google.com/assets/colab-badge.svg\" alt=\"Open In Colab\"/></a>"
      ]
    },
    {
      "cell_type": "markdown",
      "source": [
        "# 4.1.1 Tipos de Variables en Estadística\n",
        "\n",
        "En estadística y machine learning, la naturaleza de las variables que estudiamos determina qué tipos de análisis y modelos podemos aplicar. Las variables se clasifican principalmente en dos grandes grupos: cualitativas y cuantitativas.\n",
        "\n",
        "## Variables Cualitativas (Categóricas)\n",
        "\n",
        "Las variables cualitativas representan características o cualidades que no pueden medirse numéricamente. Se dividen en:\n",
        "\n",
        "### 1. Variables Nominales\n",
        "- Representan categorías sin orden natural\n",
        "- Ejemplo: colores = {rojo, verde, azul, rosa}\n",
        "- Ejemplos: color de ojos, género, tipo de sistema operativo\n",
        "- Operaciones permitidas: igual (=), diferente (≠)\n",
        "- Medidas estadísticas aplicables: moda, frecuencias\n",
        "\n",
        "### 2. Variables Ordinales\n",
        "- Representan categorías con un orden natural\n",
        "- Ejemplos: nivel profesional (inten, junior, middle, senior), nivel de satisfacción (bajo, medio, alto), platos en la comida (primer plato, segundo plato, postre)\n",
        "- Operaciones permitidas: igual (=), diferente (≠), mayor que (>), menor que (<)\n",
        "- Medidas estadísticas aplicables: moda, mediana, frecuencias\n",
        "\n",
        "## Variables Cuantitativas (Numéricas)\n",
        "\n",
        "Las variables cuantitativas representan cantidades numéricas. Se dividen en:\n",
        "\n",
        "### 1. Variables Discretas\n",
        "- Toman valores enteros o contables\n",
        "- Ejemplos: número de hijos, número de errores en un programa\n",
        "- Operaciones permitidas: todas las operaciones matemáticas\n",
        "- Medidas estadísticas aplicables: todas\n",
        "\n",
        "### 2. Variables Continuas\n",
        "- Pueden tomar cualquier valor dentro de un intervalo\n",
        "- Ejemplos: altura, peso, temperatura, tiempo\n",
        "- Operaciones permitidas: todas las operaciones matemáticas\n",
        "- Medidas estadísticas aplicables: todas\n",
        "\n",
        "## Ejemplos prácticos en Python"
      ],
      "metadata": {
        "id": "x0IGnevRZ3M5"
      }
    },
    {
      "cell_type": "code",
      "source": [
        "import pandas as pd\n",
        "import numpy as np\n",
        "\n",
        "# Crear un DataFrame de ejemplo con diferentes tipos de variables\n",
        "data = {\n",
        "    'nombre': ['Ana', 'Juan', 'María', 'Pedro'],            # Nominal\n",
        "    'nivel_profesional': ['Senior', 'Junior',\n",
        "                         'Junior', 'Intern'],               # Ordinal\n",
        "    'edad': [35, 26, 24, 22],                               # Discreta\n",
        "    'altura': [1.65, 1.78, 1.70, 1.82],                     # Continua\n",
        "    'peso': [65.5, 80.2, 58.7, 77.8]                        # Continua\n",
        "}\n",
        "\n",
        "df = pd.DataFrame(data)\n",
        "\n",
        "# Mostrar información sobre los tipos de datos\n",
        "print(\"Información del DataFrame:\")\n",
        "print(df.info())\n",
        "\n",
        "# Estadísticas básicas para variables numéricas\n",
        "print(\"\\nEstadísticas básicas de variables numéricas:\")\n",
        "print(df.describe())\n",
        "\n",
        "# Frecuencias para variables cualitativas\n",
        "print(\"\\nFrecuencias de nivel educativo (Variable Ordinal):\")\n",
        "print(df['nivel_profesional'].value_counts())"
      ],
      "metadata": {
        "colab": {
          "base_uri": "https://localhost:8080/"
        },
        "id": "WVfj-Su_aAzG",
        "outputId": "ca516f23-8a14-4f5b-970b-438d7b90f6fd"
      },
      "execution_count": 16,
      "outputs": [
        {
          "output_type": "stream",
          "name": "stdout",
          "text": [
            "Información del DataFrame:\n",
            "<class 'pandas.core.frame.DataFrame'>\n",
            "RangeIndex: 4 entries, 0 to 3\n",
            "Data columns (total 5 columns):\n",
            " #   Column             Non-Null Count  Dtype  \n",
            "---  ------             --------------  -----  \n",
            " 0   nombre             4 non-null      object \n",
            " 1   nivel_profesional  4 non-null      object \n",
            " 2   edad               4 non-null      int64  \n",
            " 3   altura             4 non-null      float64\n",
            " 4   peso               4 non-null      float64\n",
            "dtypes: float64(2), int64(1), object(2)\n",
            "memory usage: 288.0+ bytes\n",
            "None\n",
            "\n",
            "Estadísticas básicas de variables numéricas:\n",
            "            edad    altura       peso\n",
            "count   4.000000  4.000000   4.000000\n",
            "mean   26.750000  1.737500  70.550000\n",
            "std     5.737305  0.076757  10.191663\n",
            "min    22.000000  1.650000  58.700000\n",
            "25%    23.500000  1.687500  63.800000\n",
            "50%    25.000000  1.740000  71.650000\n",
            "75%    28.250000  1.790000  78.400000\n",
            "max    35.000000  1.820000  80.200000\n",
            "\n",
            "Frecuencias de nivel educativo (Variable Ordinal):\n",
            "nivel_profesional\n",
            "Junior    2\n",
            "Senior    1\n",
            "Intern    1\n",
            "Name: count, dtype: int64\n"
          ]
        }
      ]
    },
    {
      "cell_type": "markdown",
      "source": [
        "## Importancia en Machine Learning\n",
        "\n",
        "La identificación correcta del tipo de variable es crucial en machine learning por varias razones:\n",
        "\n",
        "1. **Preprocesamiento de datos**:\n",
        "   - Las variables categóricas suelen requerir codificación (one-hot encoding, label encoding)\n",
        "   - Las variables numéricas suelen requerir normalización o estandarización\n",
        "\n",
        "2. **Selección de modelos**:\n",
        "   - Regresión: requiere variable objetivo continua\n",
        "   - Clasificación: requiere variable objetivo categórica\n",
        "\n",
        "3. **Evaluación de modelos**:\n",
        "   - Métricas diferentes según el tipo de variable objetivo\n",
        "   - RMSE (Root Mean Squared Error), MAE (Mean Absolute Error) para variables continuas\n",
        "   $$RMSE = \\sqrt{\\frac{1}{n} \\sum_{i=1}^{n} (y_{real} - y_{pred})^2} \\qquad \\qquad MAE = \\frac{1}{n} \\sum_{i=1}^{n} |y_{real} - y_{pred}|$$\n",
        "   - Accuracy, F1-score para variables categóricas\n",
        "\n",
        "## Ejemplo de preprocesamiento según el tipo de variable"
      ],
      "metadata": {
        "id": "o08PQavbb_U5"
      }
    },
    {
      "cell_type": "code",
      "source": [
        "from sklearn.preprocessing import LabelEncoder, StandardScaler\n",
        "from tabulate import tabulate\n",
        "\n",
        "# Preprocesamiento para variables categóricas\n",
        "le = LabelEncoder()\n",
        "df['nivel_profesional_encoded'] = le.fit_transform(df['nivel_profesional'])\n",
        "\n",
        "# Preprocesamiento para variables numéricas\n",
        "scaler = StandardScaler()\n",
        "df['altura_scaled'] = scaler.fit_transform(df[['altura']])\n",
        "df['peso_scaled'] = scaler.fit_transform(df[['peso']])\n",
        "\n",
        "print(\"DataFrame con variables procesadas:\")\n",
        "print(tabulate(df, headers='keys', tablefmt='fancy_grid', showindex=False))"
      ],
      "metadata": {
        "colab": {
          "base_uri": "https://localhost:8080/"
        },
        "id": "V6WnJk1Vsu3I",
        "outputId": "0424d66a-c3c6-4a5e-ae12-91c5a6599d3d"
      },
      "execution_count": 17,
      "outputs": [
        {
          "output_type": "stream",
          "name": "stdout",
          "text": [
            "DataFrame con variables procesadas:\n",
            "╒══════════╤═════════════════════╤════════╤══════════╤════════╤═════════════════════════════╤═════════════════╤═══════════════╕\n",
            "│ nombre   │ nivel_profesional   │   edad │   altura │   peso │   nivel_profesional_encoded │   altura_scaled │   peso_scaled │\n",
            "╞══════════╪═════════════════════╪════════╪══════════╪════════╪═════════════════════════════╪═════════════════╪═══════════════╡\n",
            "│ Ana      │ Senior              │     35 │     1.65 │   65.5 │                           2 │       -1.31631  │     -0.572158 │\n",
            "├──────────┼─────────────────────┼────────┼──────────┼────────┼─────────────────────────────┼─────────────────┼───────────────┤\n",
            "│ Juan     │ Junior              │     26 │     1.78 │   80.2 │                           1 │        0.639351 │      1.09333  │\n",
            "├──────────┼─────────────────────┼────────┼──────────┼────────┼─────────────────────────────┼─────────────────┼───────────────┤\n",
            "│ María    │ Junior              │     24 │     1.7  │   58.7 │                           1 │       -0.564133 │     -1.34259  │\n",
            "├──────────┼─────────────────────┼────────┼──────────┼────────┼─────────────────────────────┼─────────────────┼───────────────┤\n",
            "│ Pedro    │ Intern              │     22 │     1.82 │   77.8 │                           0 │        1.24109  │      0.821414 │\n",
            "╘══════════╧═════════════════════╧════════╧══════════╧════════╧═════════════════════════════╧═════════════════╧═══════════════╛\n"
          ]
        }
      ]
    },
    {
      "cell_type": "markdown",
      "source": [
        "# 4.1.2 Distribución de Frecuencias y Tablas de Frecuencias\n",
        "\n",
        "La distribución de frecuencias nos permite organizar y resumir conjuntos de datos, mostrando el número de veces que aparece cada valor o categoría.\n",
        "\n",
        "## Conceptos Básicos\n",
        "\n",
        "1. **Frecuencia absoluta ($f_i$)**: Número de veces que aparece un valor ($x_i$) en el conjunto de datos.\n",
        "    - La suma de todas las frecuencias absolutas es el total de datos $N$:\n",
        "    $$\\sum_{i=1}^k f_i = N$$\n",
        "\n",
        "2. **Frecuencia relativa ($h_i$)**: Proporción que representa cada frecuencia absoluta respecto al total.\n",
        "    $$h_i = \\frac{f_i}{N}$$\n",
        "    - $h_i$ representa la proporción o porcentaje de datos en cada categoría\n",
        "    - La suma de todas las frecuencias relativas es 1:\n",
        "    $$\\sum_{i=1}^k h_i = 1$$\n",
        "\n",
        "3. **Frecuencia absoluta acumulada ($F_i$)**: Suma de las frecuencias absolutas hasta un valor dado.\n",
        "    $$F_i = \\sum_{j=1}^i f_j$$\n",
        "\n",
        "4. **Frecuencia relativa acumulada ($H_i$ o $Fr_i$)**: Suma de las frecuencias relativas hasta un valor dado.\n",
        "    $$H_i = \\sum_{j=1}^i h_j = \\frac{F_i}{N}$$\n",
        "    - La última frecuencia relativa acumulada es siempre 1:\n",
        "    $$H_n =  1$$\n",
        "## Construcción de Tablas de Frecuencias\n",
        "\n",
        "### Para Variables Cualitativas\n",
        "\n",
        "| Nivel   | Frecuencia Absoluta<br>$f_i$ | Frec. Abs. Acumulada<br>$F_i$ | Frecuencia Relativa<br>$h_i$ | Frec. Rel. Acumulada<br>$H_i$ |\n",
        "|:-------:|:----------------------------:|:-----------------------------:|:----------------------------:|:-----------------------------:|\n",
        "| Junior  |              16              |              16               |             0.32             |             0.32              |\n",
        "| Middle  |              18              |              34               |             0.36             |             0.68              |\n",
        "| Senior  |              9               |              43               |             0.18             |             0.86              |\n",
        "| Intern  |              7               |              50               |             0.14             |             1.00              |\n",
        "| **TOTAL**   |            **50**             |             **50**              |           **1.00**            |             |\n"
      ],
      "metadata": {
        "id": "kMfjukjochtC"
      }
    },
    {
      "cell_type": "code",
      "source": [
        "import pandas as pd\n",
        "import numpy as np\n",
        "from tabulate import tabulate\n",
        "\n",
        "# Crear datos de ejemplo: nivel profesional de 50 empleados\n",
        "np.random.seed(43)\n",
        "niveles = ['Junior', 'Middle', 'Senior', 'Intern']\n",
        "pesos = [0.3, 0.4, 0.2, 0.1]  # Probabilidades para cada nivel\n",
        "datos = np.random.choice(niveles, size=50, p=pesos)\n",
        "\n",
        "# Crear tabla de frecuencias\n",
        "tabla_freq = pd.DataFrame({\n",
        "    'Nivel': niveles,\n",
        "    'Frecuencia Absoluta': [sum(datos == nivel) for nivel in niveles],\n",
        "})\n",
        "\n",
        "# Calcular frecuencias relativas y acumuladas\n",
        "n = len(datos)\n",
        "tabla_freq['Frec. Abs. Acumulada'] = tabla_freq['Frecuencia Absoluta'].cumsum()\n",
        "tabla_freq['Frecuencia Relativa'] = tabla_freq['Frecuencia Absoluta'] / n\n",
        "tabla_freq['Frec. Rel. Acumulada'] = tabla_freq['Frecuencia Relativa'].cumsum()\n",
        "\n",
        "print(\"Tabla de Frecuencias para Niveles Profesionales:\\n\")\n",
        "print(tabulate(tabla_freq.round(3), headers='keys', tablefmt='fancy_grid', showindex=False))"
      ],
      "metadata": {
        "colab": {
          "base_uri": "https://localhost:8080/"
        },
        "id": "wPY25RC5eXHa",
        "outputId": "877e587c-cddb-4bb7-eca5-49e75d63aaf1"
      },
      "execution_count": 18,
      "outputs": [
        {
          "output_type": "stream",
          "name": "stdout",
          "text": [
            "Tabla de Frecuencias para Niveles Profesionales:\n",
            "\n",
            "╒═════════╤═══════════════════════╤════════════════════════╤═══════════════════════╤════════════════════════╕\n",
            "│ Nivel   │   Frecuencia Absoluta │   Frec. Abs. Acumulada │   Frecuencia Relativa │   Frec. Rel. Acumulada │\n",
            "╞═════════╪═══════════════════════╪════════════════════════╪═══════════════════════╪════════════════════════╡\n",
            "│ Junior  │                    16 │                     16 │                  0.32 │                   0.32 │\n",
            "├─────────┼───────────────────────┼────────────────────────┼───────────────────────┼────────────────────────┤\n",
            "│ Middle  │                    18 │                     34 │                  0.36 │                   0.68 │\n",
            "├─────────┼───────────────────────┼────────────────────────┼───────────────────────┼────────────────────────┤\n",
            "│ Senior  │                     9 │                     43 │                  0.18 │                   0.86 │\n",
            "├─────────┼───────────────────────┼────────────────────────┼───────────────────────┼────────────────────────┤\n",
            "│ Intern  │                     7 │                     50 │                  0.14 │                   1    │\n",
            "╘═════════╧═══════════════════════╧════════════════════════╧═══════════════════════╧════════════════════════╛\n"
          ]
        }
      ]
    },
    {
      "cell_type": "markdown",
      "source": [
        "# 4.1.3 Medidas de Tendencia Central\n",
        "\n",
        "Las medidas de tendencia central son valores que tienden a ubicarse en el centro de un conjunto de datos. Son fundamentales para resumir y caracterizar una distribución.\n",
        "\n",
        "## Media Aritmética\n",
        "\n",
        "La media aritmética ($\\bar{x}$) es la suma de todos los valores dividida por el número total de observaciones.\n",
        "\n",
        "$$\\mu = \\bar{x} = \\frac{1}{n}\\sum_{i=1}^n x_i = \\frac{x_1 + x_2 + ... + x_n}{n}$$\n",
        "\n",
        "### Propiedades de la media aritmética:\n",
        "- Es sensible a valores extremos (outliers)\n",
        "- La suma de las desviaciones respecto a la media es cero: $\\sum_{i=1}^n (x_i - \\bar{x}) = 0$\n",
        "- Minimiza la suma de los cuadrados de las desviaciones: $\\sum_{i=1}^n (x_i - \\bar{x})^2$ es mínima"
      ],
      "metadata": {
        "id": "QMslCLGHoRSX"
      }
    },
    {
      "cell_type": "code",
      "source": [
        "import numpy as np\n",
        "import pandas as pd\n",
        "\n",
        "# Datos de ejemplo: salarios mensuales en euros\n",
        "salarios = [1200, 1500, 1300, 1400, 1350, 1450, 5000]\n",
        "\n",
        "# Calcular media\n",
        "media = np.mean(salarios)\n",
        "print(f\"Media aritmética: {media:.2f}€\")\n",
        "\n",
        "# Mostrar efecto de outlier\n",
        "salarios_sin_outlier = salarios[:-1]\n",
        "media_sin_outlier = np.mean(salarios_sin_outlier)\n",
        "print(f\"Media sin el outlier: {media_sin_outlier:.2f}€\")"
      ],
      "metadata": {
        "colab": {
          "base_uri": "https://localhost:8080/"
        },
        "id": "R7Y8XEOropsS",
        "outputId": "260c3e77-8903-46b6-a74f-7887c0e03046"
      },
      "execution_count": 19,
      "outputs": [
        {
          "output_type": "stream",
          "name": "stdout",
          "text": [
            "Media aritmética: 1885.71€\n",
            "Media sin el outlier: 1366.67€\n"
          ]
        }
      ]
    },
    {
      "cell_type": "markdown",
      "source": [
        "## Media Ponderada\n",
        "\n",
        "La media ponderada ($\\bar{x}_w$) asigna diferentes pesos ($w_i$) a cada valor según su importancia.\n",
        "\n",
        "$$\\bar{x}_w = \\frac{\\sum_{i=1}^n w_i x_i}{\\sum_{i=1}^n w_i}$$"
      ],
      "metadata": {
        "id": "D8K8IlFUo9le"
      }
    },
    {
      "cell_type": "code",
      "source": [
        "# Ejemplo: Notas con diferentes pesos\n",
        "notas = np.array([7, 8, 6, 9])\n",
        "pesos = np.array([0.2, 0.3, 0.2, 0.3])  # Los pesos suman 1\n",
        "\n",
        "media_ponderada = np.average(notas, weights=pesos)\n",
        "print(f\"\\nMedia ponderada de las notas: {media_ponderada:.2f}\")"
      ],
      "metadata": {
        "colab": {
          "base_uri": "https://localhost:8080/"
        },
        "id": "Mt_s2z6lpKZl",
        "outputId": "41e8688a-8164-46a6-8d1a-26dd023992f6"
      },
      "execution_count": 20,
      "outputs": [
        {
          "output_type": "stream",
          "name": "stdout",
          "text": [
            "\n",
            "Media ponderada de las notas: 7.70\n"
          ]
        }
      ]
    },
    {
      "cell_type": "markdown",
      "source": [
        "## Mediana\n",
        "\n",
        "La mediana ($Me$) es el valor que ocupa la posición central cuando los datos están ordenados. Divide el conjunto de datos en dos partes iguales.\n",
        "\n",
        "Para datos ordenados:\n",
        "- Si n es impar: $$Me = x_{\\left(\\frac{n+1}{2}\\right)}$$\n",
        "\n",
        "- Si n es par: $$Me = \\frac{x_{\\left(\\frac{n}{2}\\right)} + x_{\\left(\\frac{n}{2}+1\\right)}}{2}$$\n",
        "\n",
        "\n",
        "\n",
        "\n",
        "\n",
        "### Propiedades de la mediana:\n",
        "- No se ve afectada por valores extremos\n",
        "- Es única para datos ordenados\n",
        "- El 50% de las observaciones son menores o iguales que la mediana"
      ],
      "metadata": {
        "id": "0DC7PwJkpUCp"
      }
    },
    {
      "cell_type": "code",
      "source": [
        "# Calcular mediana con y sin outlier\n",
        "mediana = np.median(salarios)\n",
        "mediana_sin_outlier = np.median(salarios_sin_outlier)\n",
        "\n",
        "print(f\"\\nMediana con outlier: {mediana:.2f}€\")\n",
        "print(f\"Mediana sin outlier: {mediana_sin_outlier:.2f}€\")"
      ],
      "metadata": {
        "colab": {
          "base_uri": "https://localhost:8080/"
        },
        "id": "DhFFb0UmpiVH",
        "outputId": "91eccc68-ea15-4145-e321-bb0d81779263"
      },
      "execution_count": 21,
      "outputs": [
        {
          "output_type": "stream",
          "name": "stdout",
          "text": [
            "\n",
            "Mediana con outlier: 1400.00€\n",
            "Mediana sin outlier: 1375.00€\n"
          ]
        }
      ]
    },
    {
      "cell_type": "markdown",
      "source": [
        "## Moda\n",
        "\n",
        "La moda ($Mo$) es el valor que aparece con mayor frecuencia en un conjunto de datos.\n",
        "\n",
        "### Características de la moda:\n",
        "- Puede no existir (si todos los valores tienen la misma frecuencia)\n",
        "- Puede no ser única (distribución bimodal o multimodal)\n",
        "- Es la única medida de tendencia central útil para variables cualitativas"
      ],
      "metadata": {
        "id": "9vSyqr5mpt5T"
      }
    },
    {
      "cell_type": "code",
      "source": [
        "# Ejemplo con datos categóricos\n",
        "niveles = ['Junior', 'Senior', 'Middle', 'Junior', 'Middle', 'Junior']\n",
        "series_niveles = pd.Series(niveles)\n",
        "\n",
        "moda = series_niveles.mode()\n",
        "print(\"\\nModa de niveles profesionales:\")\n",
        "print(moda.values)\n",
        "\n",
        "# Ejemplo de distribución bimodal (con dos Modas)\n",
        "datos_bimodal = [1, 1, 2, 2, 3, 4, 5]\n",
        "moda_bimodal = pd.Series(datos_bimodal).mode()\n",
        "print(\"\\nModa de distribución bimodal:\")\n",
        "print(moda_bimodal.values)"
      ],
      "metadata": {
        "colab": {
          "base_uri": "https://localhost:8080/"
        },
        "id": "9N0KDuxWp5yp",
        "outputId": "6afb70c1-5bae-41b8-96b3-8d0790d4ce37"
      },
      "execution_count": 22,
      "outputs": [
        {
          "output_type": "stream",
          "name": "stdout",
          "text": [
            "\n",
            "Moda de niveles profesionales:\n",
            "['Junior']\n",
            "\n",
            "Moda de distribución bimodal:\n",
            "[1 2]\n"
          ]
        }
      ]
    },
    {
      "cell_type": "markdown",
      "source": [
        "## Relación con Machine Learning\n",
        "\n",
        "Las medidas de tendencia central son fundamentales en ML para:\n",
        "\n",
        "1. **Preprocesamiento de datos**:\n",
        "   - Imputación de valores faltantes usando la media o mediana\n",
        "   - Detección de outliers comparando con la media y mediana\n",
        "\n",
        "2. **Feature Engineering**:\n",
        "   - Creación de características basadas en promedios móviles\n",
        "   - Normalización de datos usando la media\n",
        "\n",
        "3. **Evaluación de modelos**:\n",
        "   - Error medio absoluto (MAE)\n",
        "   - Error cuadrático medio (MSE)"
      ],
      "metadata": {
        "id": "QQIfR8KZqPtb"
      }
    },
    {
      "cell_type": "code",
      "source": [
        "from sklearn.impute import SimpleImputer\n",
        "\n",
        "# Ejemplo de imputación\n",
        "datos_con_nan = [1200, np.nan, 1500, 1300, np.nan, 1400]\n",
        "\n",
        "# Imputación con media\n",
        "imputer_media = SimpleImputer(strategy='mean')\n",
        "datos_imputados_media = imputer_media.fit_transform([[x] for x in datos_con_nan])\n",
        "\n",
        "# Imputación con mediana\n",
        "imputer_mediana = SimpleImputer(strategy='median')\n",
        "datos_imputados_mediana = imputer_mediana.fit_transform([[x] for x in datos_con_nan])\n",
        "\n",
        "print(\"\\nDatos originales:\", datos_con_nan)\n",
        "print(\"Imputación con media:\", datos_imputados_media.flatten())\n",
        "print(\"Imputación con mediana:\", datos_imputados_mediana.flatten())"
      ],
      "metadata": {
        "colab": {
          "base_uri": "https://localhost:8080/"
        },
        "id": "qdaO1cRXqY5D",
        "outputId": "2c868fb4-1e6b-439e-d546-8cc425ede7d3"
      },
      "execution_count": 23,
      "outputs": [
        {
          "output_type": "stream",
          "name": "stdout",
          "text": [
            "\n",
            "Datos originales: [1200, nan, 1500, 1300, nan, 1400]\n",
            "Imputación con media: [1200. 1350. 1500. 1300. 1350. 1400.]\n",
            "Imputación con mediana: [1200. 1350. 1500. 1300. 1350. 1400.]\n"
          ]
        }
      ]
    },
    {
      "cell_type": "markdown",
      "source": [
        "# 4.1.4 Medidas de Dispersión\n",
        "\n",
        "Las medidas de dispersión indican el grado de variabilidad de los datos respecto a las medidas de tendencia central. Nos permiten evaluar la representatividad de las medidas centrales.\n",
        "\n",
        "## Rango o Recorrido\n",
        "\n",
        "Es la diferencia entre el valor máximo y mínimo de un conjunto de datos.\n",
        "\n",
        "$$R = x_{max} - x_{min}$$\n",
        "\n",
        "Es una medida muy simple pero muy sensible a valores extremos."
      ],
      "metadata": {
        "id": "jigZ5QoPrDjd"
      }
    },
    {
      "cell_type": "code",
      "source": [
        "import numpy as np\n",
        "import pandas as pd\n",
        "\n",
        "# Datos de ejemplo: salarios mensuales en euros\n",
        "salarios = [1200, 1500, 1300, 1400, 1350, 1450, 5000]\n",
        "\n",
        "# Calcular rango\n",
        "rango = np.max(salarios) - np.min(salarios)\n",
        "print(f\"Rango de salarios: {rango}€\")\n",
        "\n",
        "# Mostrar efecto del outlier\n",
        "salarios_sin_outlier = salarios[:-1]\n",
        "rango_sin_outlier = np.max(salarios_sin_outlier) - np.min(salarios_sin_outlier)\n",
        "print(f\"Rango sin outlier: {rango_sin_outlier}€\")"
      ],
      "metadata": {
        "colab": {
          "base_uri": "https://localhost:8080/"
        },
        "id": "OzamHlI0rSsg",
        "outputId": "bf78d3d7-77eb-4bb2-fec8-a09ad8ad6c76"
      },
      "execution_count": 24,
      "outputs": [
        {
          "output_type": "stream",
          "name": "stdout",
          "text": [
            "Rango de salarios: 3800€\n",
            "Rango sin outlier: 300€\n"
          ]
        }
      ]
    },
    {
      "cell_type": "markdown",
      "source": [
        "## Varianza\n",
        "\n",
        "La varianza ($s^2$ para muestras, $\\sigma^2$ para poblaciones) mide la media de los cuadrados de las desviaciones respecto a la media aritmética.\n",
        "\n",
        "- Varianza muestral:\n",
        "$$s^2 = \\frac{1}{n-1}\\sum_{i=1}^n (x_i - \\bar{x})^2$$\n",
        "\n",
        "- Varianza poblacional:\n",
        "$$\\sigma^2 = \\frac{1}{N}\\sum_{i=1}^N (x_i - \\mu)^2$$\n",
        "\n",
        "### Propiedades de la varianza:\n",
        "- Siempre es no negativa\n",
        "- Cuanto mayor sea, mayor dispersión\n",
        "- Se expresa en unidades al cuadrado\n",
        "- Es sensible a valores extremos"
      ],
      "metadata": {
        "id": "xFgmlHG7rdKe"
      }
    },
    {
      "cell_type": "code",
      "source": [
        "# Calcular varianza\n",
        "varianza_muestra = np.var(salarios, ddof=1)  # ddof=1 para varianza muestral\n",
        "print(f\"\\nVarianza muestral: {varianza_muestra:.2f}\")\n",
        "\n",
        "# Mostrar efecto del outlier\n",
        "varianza_sin_outlier = np.var(salarios_sin_outlier, ddof=1)\n",
        "print(f\"Varianza sin outlier: {varianza_sin_outlier:.2f}\")"
      ],
      "metadata": {
        "colab": {
          "base_uri": "https://localhost:8080/"
        },
        "id": "rmwR4Mw-ruun",
        "outputId": "e8ff613d-c958-49ac-8095-cb97b01e041a"
      },
      "execution_count": 25,
      "outputs": [
        {
          "output_type": "stream",
          "name": "stdout",
          "text": [
            "\n",
            "Varianza muestral: 1895595.24\n",
            "Varianza sin outlier: 11666.67\n"
          ]
        }
      ]
    },
    {
      "cell_type": "markdown",
      "source": [
        "## Desviación Estándar\n",
        "\n",
        "La desviación estándar, también denominada desviación típica, es la raiz cuadrda de la varianza y también hay dos.\n",
        "\n",
        "- Desviación estandar muestral:\n",
        "\n",
        "$$s = \\sqrt{\\frac{1}{n-1}\\sum_{i=1}^n (x_i - \\bar{x})^2}$$\n",
        "\n",
        "- Desviación estandar poblacional:\n",
        "$$\\sigma = \\sqrt{\\frac{1}{N}\\sum_{i=1}^N (x_i - \\mu)^2}$$\n",
        "\n",
        "### Ventajas de la desviación estándar:\n",
        "- Se expresa en las mismas unidades que los datos originales\n",
        "- Es la medida de dispersión más utilizada en estadística\n",
        "- Útil para detectar valores atípicos (regla empírica de los 3 sigmas)"
      ],
      "metadata": {
        "id": "Lix4UcGHf2_I"
      }
    },
    {
      "cell_type": "code",
      "source": [
        "# Calcular desviación estándar\n",
        "desv_std = np.std(salarios, ddof=1) # ddof=1 para desviación estándar muestral\n",
        "                                    # ddof=0 o sin poner para la poblacional\n",
        "print(f\"\\nDesviación estándar: {desv_std:.2f}\")\n",
        "\n",
        "# Identificar valores atípicos usando la regla de los 3 sigmas\n",
        "media = np.mean(salarios)\n",
        "limite_superior = media + 3*desv_std\n",
        "limite_inferior = media - 3*desv_std\n",
        "\n",
        "outliers = [x for x in salarios if x > limite_superior or x < limite_inferior]\n",
        "print(\"\\nValores atípicos encontrados:\", outliers)"
      ],
      "metadata": {
        "colab": {
          "base_uri": "https://localhost:8080/"
        },
        "id": "ypuSDXq5hWwc",
        "outputId": "90baefb0-3d55-4129-b684-115811a83826"
      },
      "execution_count": 26,
      "outputs": [
        {
          "output_type": "stream",
          "name": "stdout",
          "text": [
            "\n",
            "Desviación estándar: 1376.81\n",
            "\n",
            "Valores atípicos encontrados: []\n"
          ]
        }
      ]
    },
    {
      "cell_type": "markdown",
      "source": [
        "## Coeficiente de Variación de Pearson\n",
        "\n",
        "El coeficiente de variación (CV) es una medida de dispersión relativa que permite comparar la variabilidad de diferentes conjuntos de datos, incluso cuando tienen diferentes unidades o escalas.\n",
        "\n",
        "$$CV = \\frac{s}{\\bar{x}}$$\n",
        "\n",
        "En ocasiones lo veremos multiplicado por 100 y añadiendo el signo %, para expresarlo en porcentaje.\n",
        "\n",
        "### Características del CV:\n",
        "- Es adimensional\n",
        "- Útil para comparar dispersión entre diferentes conjuntos de datos\n",
        "- No se puede calcular cuando la media es cero\n",
        "- Se considera que hay alta variabilidad cuando CV > 50%"
      ],
      "metadata": {
        "id": "gQgjS0gphimi"
      }
    },
    {
      "cell_type": "code",
      "source": [
        "# Calcular CV para dos conjuntos de datos diferentes\n",
        "salarios_equipo_A = [1200, 1300, 1250, 1280, 1220]\n",
        "salarios_equipo_B = [3000, 3200, 3150, 3180, 3120]\n",
        "\n",
        "def calcular_cv(datos):\n",
        "    return (np.std(datos, ddof=1) / np.mean(datos)) * 100\n",
        "\n",
        "cv_A = calcular_cv(salarios_equipo_A)\n",
        "cv_B = calcular_cv(salarios_equipo_B)\n",
        "\n",
        "print(f\"\\nCoeficiente de Variación Equipo A: {cv_A:.2f}%\")\n",
        "print(f\"Coeficiente de Variación Equipo B: {cv_B:.2f}%\")"
      ],
      "metadata": {
        "colab": {
          "base_uri": "https://localhost:8080/"
        },
        "id": "A7Cj0o64ijzW",
        "outputId": "4894838b-43c6-4ef0-aada-fdf8f6308dd3"
      },
      "execution_count": 27,
      "outputs": [
        {
          "output_type": "stream",
          "name": "stdout",
          "text": [
            "\n",
            "Coeficiente de Variación Equipo A: 3.30%\n",
            "Coeficiente de Variación Equipo B: 2.52%\n"
          ]
        }
      ]
    },
    {
      "cell_type": "markdown",
      "source": [
        "## Aplicaciones en Machine Learning\n",
        "\n",
        "Las medidas de dispersión son fundamentales en ML para:\n",
        "\n",
        "1. **Preprocesamiento de datos**:\n",
        "   - Estandarización (z-score): $z = \\frac{x - \\mu}{\\sigma}$\n",
        "   - Detección de outliers usando desviación estándar\n",
        "   - Evaluación de la necesidad de normalización\n",
        "\n",
        "2. **Selección de características**:\n",
        "   - Eliminación de características con varianza casi nula\n",
        "   - Análisis de la variabilidad de las características\n",
        "\n",
        "3. **Evaluación de modelos**:\n",
        "   - Error estándar de las predicciones\n",
        "   - Intervalos de confianza\n",
        "   - Análisis de residuos"
      ],
      "metadata": {
        "id": "0LbSVPt8kk8n"
      }
    },
    {
      "cell_type": "code",
      "source": [
        "from sklearn.preprocessing import StandardScaler\n",
        "\n",
        "# Ejemplo de estandarización\n",
        "X = np.array(salarios).reshape(-1, 1)\n",
        "scaler = StandardScaler()\n",
        "X_scaled = scaler.fit_transform(X)\n",
        "\n",
        "print(\"\\nDatos originales:\")\n",
        "print(f\"Media: {np.mean(salarios):.2f}\")\n",
        "print(f\"Desviación estándar: {np.std(salarios, ddof=1):.2f}\")\n",
        "\n",
        "print(\"\\nDatos estandarizados:\")\n",
        "print(f\"Media: {np.mean(X_scaled):.2f}\")\n",
        "print(f\"Desviación estándar: {np.std(X_scaled, ddof=1):.2f}\")"
      ],
      "metadata": {
        "colab": {
          "base_uri": "https://localhost:8080/"
        },
        "id": "kYfSDSrDk_9B",
        "outputId": "62d141ec-b379-4648-bb4e-dc6c2f75efd9"
      },
      "execution_count": 28,
      "outputs": [
        {
          "output_type": "stream",
          "name": "stdout",
          "text": [
            "\n",
            "Datos originales:\n",
            "Media: 1885.71\n",
            "Desviación estándar: 1376.81\n",
            "\n",
            "Datos estandarizados:\n",
            "Media: -0.00\n",
            "Desviación estándar: 1.08\n"
          ]
        }
      ]
    },
    {
      "cell_type": "markdown",
      "source": [
        "Versión manual del código anteriror sin usar la librería sklearn."
      ],
      "metadata": {
        "id": "1UGPxGv3nIzi"
      }
    },
    {
      "cell_type": "code",
      "source": [
        "import numpy as np\n",
        "\n",
        "# Función para estandarizar manualmente\n",
        "def estandarizar(X):\n",
        "    media = np.mean(X)\n",
        "    desv_est = np.std(X, ddof=1)  # ddof=1 para desviación estándar muestral\n",
        "    return (X - media) / desv_est\n",
        "\n",
        "# Estandarización manual\n",
        "X = np.array(salarios).reshape(-1, 1)\n",
        "X_scaled = estandarizar(X)\n",
        "\n",
        "print(\"\\nDatos originales:\")\n",
        "print(f\"Media: {np.mean(salarios):.2f}\")\n",
        "print(f\"Desviación estándar: {np.std(salarios, ddof=1):.2f}\")\n",
        "\n",
        "print(\"\\nDatos estandarizados:\")\n",
        "print(f\"Media: {np.mean(X_scaled):.2f}\")\n",
        "print(f\"Desviación estándar: {np.std(X_scaled, ddof=1):.2f}\")"
      ],
      "metadata": {
        "colab": {
          "base_uri": "https://localhost:8080/"
        },
        "id": "BSiueKCamsVd",
        "outputId": "5cd6e9e1-7078-4dda-d3a9-0f4f557bf503"
      },
      "execution_count": 29,
      "outputs": [
        {
          "output_type": "stream",
          "name": "stdout",
          "text": [
            "\n",
            "Datos originales:\n",
            "Media: 1885.71\n",
            "Desviación estándar: 1376.81\n",
            "\n",
            "Datos estandarizados:\n",
            "Media: 0.00\n",
            "Desviación estándar: 1.00\n"
          ]
        }
      ]
    }
  ]
}