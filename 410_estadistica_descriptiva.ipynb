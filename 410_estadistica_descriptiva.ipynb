{
  "nbformat": 4,
  "nbformat_minor": 0,
  "metadata": {
    "colab": {
      "provenance": [],
      "authorship_tag": "ABX9TyPhs/QwM4jlNkxuxP7sDA/M",
      "include_colab_link": true
    },
    "kernelspec": {
      "name": "python3",
      "display_name": "Python 3"
    },
    "language_info": {
      "name": "python"
    }
  },
  "cells": [
    {
      "cell_type": "markdown",
      "metadata": {
        "id": "view-in-github",
        "colab_type": "text"
      },
      "source": [
        "<a href=\"https://colab.research.google.com/github/financieras/math_for_ai/blob/main/410_estadistica_descriptiva.ipynb\" target=\"_parent\"><img src=\"https://colab.research.google.com/assets/colab-badge.svg\" alt=\"Open In Colab\"/></a>"
      ]
    },
    {
      "cell_type": "markdown",
      "source": [
        "# 4.1.1 Tipos de Variables en Estadística\n",
        "\n",
        "En estadística y machine learning, la naturaleza de las variables que estudiamos determina qué tipos de análisis y modelos podemos aplicar. Las variables se clasifican principalmente en dos grandes grupos: cualitativas y cuantitativas.\n",
        "\n",
        "## Variables Cualitativas (Categóricas)\n",
        "\n",
        "Las variables cualitativas representan características o cualidades que no pueden medirse numéricamente. Se dividen en:\n",
        "\n",
        "### 1. Variables Nominales\n",
        "- Representan categorías sin orden natural\n",
        "- Ejemplo: colores = {rojo, verde, azul, rosa}\n",
        "- Ejemplos: color de ojos, género, tipo de sistema operativo\n",
        "- Operaciones permitidas: igual (=), diferente (≠)\n",
        "- Medidas estadísticas aplicables: moda, frecuencias\n",
        "\n",
        "### 2. Variables Ordinales\n",
        "- Representan categorías con un orden natural\n",
        "- Ejemplos: nivel profesional (inten, junior, middle, senior), nivel de satisfacción (bajo, medio, alto), platos en la comida (primer plato, segundo plato, postre)\n",
        "- Operaciones permitidas: igual (=), diferente (≠), mayor que (>), menor que (<)\n",
        "- Medidas estadísticas aplicables: moda, mediana, frecuencias\n",
        "\n",
        "## Variables Cuantitativas (Numéricas)\n",
        "\n",
        "Las variables cuantitativas representan cantidades numéricas. Se dividen en:\n",
        "\n",
        "### 1. Variables Discretas\n",
        "- Toman valores enteros o contables\n",
        "- Ejemplos: número de hijos, número de errores en un programa\n",
        "- Operaciones permitidas: todas las operaciones matemáticas\n",
        "- Medidas estadísticas aplicables: todas\n",
        "\n",
        "### 2. Variables Continuas\n",
        "- Pueden tomar cualquier valor dentro de un intervalo\n",
        "- Ejemplos: altura, peso, temperatura, tiempo\n",
        "- Operaciones permitidas: todas las operaciones matemáticas\n",
        "- Medidas estadísticas aplicables: todas\n",
        "\n",
        "## Ejemplos prácticos en Python"
      ],
      "metadata": {
        "id": "x0IGnevRZ3M5"
      }
    },
    {
      "cell_type": "code",
      "source": [
        "import pandas as pd\n",
        "import numpy as np\n",
        "\n",
        "# Crear un DataFrame de ejemplo con diferentes tipos de variables\n",
        "data = {\n",
        "    'nombre': ['Ana', 'Juan', 'María', 'Pedro'],            # Nominal\n",
        "    'nivel_profesional': ['Senior', 'Junior',\n",
        "                         'Junior', 'Intern'],               # Ordinal\n",
        "    'edad': [35, 26, 24, 22],                               # Discreta\n",
        "    'altura': [1.65, 1.78, 1.70, 1.82],                     # Continua\n",
        "    'peso': [65.5, 80.2, 58.7, 77.8]                        # Continua\n",
        "}\n",
        "\n",
        "df = pd.DataFrame(data)\n",
        "\n",
        "# Mostrar información sobre los tipos de datos\n",
        "print(\"Información del DataFrame:\")\n",
        "print(df.info())\n",
        "\n",
        "# Estadísticas básicas para variables numéricas\n",
        "print(\"\\nEstadísticas básicas de variables numéricas:\")\n",
        "print(df.describe())\n",
        "\n",
        "# Frecuencias para variables cualitativas\n",
        "print(\"\\nFrecuencias de nivel educativo (Variable Ordinal):\")\n",
        "print(df['nivel_profesional'].value_counts())"
      ],
      "metadata": {
        "colab": {
          "base_uri": "https://localhost:8080/"
        },
        "id": "WVfj-Su_aAzG",
        "outputId": "51632e46-4821-44dd-c0ba-482f43e275f7"
      },
      "execution_count": 14,
      "outputs": [
        {
          "output_type": "stream",
          "name": "stdout",
          "text": [
            "Información del DataFrame:\n",
            "<class 'pandas.core.frame.DataFrame'>\n",
            "RangeIndex: 4 entries, 0 to 3\n",
            "Data columns (total 5 columns):\n",
            " #   Column             Non-Null Count  Dtype  \n",
            "---  ------             --------------  -----  \n",
            " 0   nombre             4 non-null      object \n",
            " 1   nivel_profesional  4 non-null      object \n",
            " 2   edad               4 non-null      int64  \n",
            " 3   altura             4 non-null      float64\n",
            " 4   peso               4 non-null      float64\n",
            "dtypes: float64(2), int64(1), object(2)\n",
            "memory usage: 288.0+ bytes\n",
            "None\n",
            "\n",
            "Estadísticas básicas de variables numéricas:\n",
            "            edad    altura       peso\n",
            "count   4.000000  4.000000   4.000000\n",
            "mean   26.750000  1.737500  70.550000\n",
            "std     5.737305  0.076757  10.191663\n",
            "min    22.000000  1.650000  58.700000\n",
            "25%    23.500000  1.687500  63.800000\n",
            "50%    25.000000  1.740000  71.650000\n",
            "75%    28.250000  1.790000  78.400000\n",
            "max    35.000000  1.820000  80.200000\n",
            "\n",
            "Frecuencias de nivel educativo (Variable Ordinal):\n",
            "nivel_profesional\n",
            "Junior    2\n",
            "Senior    1\n",
            "Intern    1\n",
            "Name: count, dtype: int64\n"
          ]
        }
      ]
    },
    {
      "cell_type": "markdown",
      "source": [
        "## Importancia en Machine Learning\n",
        "\n",
        "La identificación correcta del tipo de variable es crucial en machine learning por varias razones:\n",
        "\n",
        "1. **Preprocesamiento de datos**:\n",
        "   - Las variables categóricas suelen requerir codificación (one-hot encoding, label encoding)\n",
        "   - Las variables numéricas suelen requerir normalización o estandarización\n",
        "\n",
        "2. **Selección de modelos**:\n",
        "   - Regresión: requiere variable objetivo continua\n",
        "   - Clasificación: requiere variable objetivo categórica\n",
        "\n",
        "3. **Evaluación de modelos**:\n",
        "   - Métricas diferentes según el tipo de variable objetivo\n",
        "   - RMSE (Root Mean Squared Error), MAE (Mean Absolute Error) para variables continuas\n",
        "   $$RMSE = \\sqrt{\\frac{1}{n} \\sum_{i=1}^{n} (y_{real} - y_{pred})^2} \\qquad \\qquad MAE = \\frac{1}{n} \\sum_{i=1}^{n} |y_{real} - y_{pred}|$$\n",
        "   - Accuracy, F1-score para variables categóricas\n",
        "\n",
        "## Ejemplo de preprocesamiento según el tipo de variable"
      ],
      "metadata": {
        "id": "o08PQavbb_U5"
      }
    },
    {
      "cell_type": "code",
      "source": [
        "from sklearn.preprocessing import LabelEncoder, StandardScaler\n",
        "from tabulate import tabulate\n",
        "\n",
        "# Preprocesamiento para variables categóricas\n",
        "le = LabelEncoder()\n",
        "df['nivel_profesional_encoded'] = le.fit_transform(df['nivel_profesional'])\n",
        "\n",
        "# Preprocesamiento para variables numéricas\n",
        "scaler = StandardScaler()\n",
        "df['altura_scaled'] = scaler.fit_transform(df[['altura']])\n",
        "df['peso_scaled'] = scaler.fit_transform(df[['peso']])\n",
        "\n",
        "print(\"DataFrame con variables procesadas:\")\n",
        "print(tabulate(df, headers='keys', tablefmt='fancy_grid', showindex=False))"
      ],
      "metadata": {
        "colab": {
          "base_uri": "https://localhost:8080/"
        },
        "id": "V6WnJk1Vsu3I",
        "outputId": "8856a0ea-42b8-481e-fe5c-3c1d5300d8bd"
      },
      "execution_count": 16,
      "outputs": [
        {
          "output_type": "stream",
          "name": "stdout",
          "text": [
            "DataFrame con variables procesadas:\n",
            "╒══════════╤═════════════════════╤════════╤══════════╤════════╤═════════════════════════════╤═════════════════╤═══════════════╕\n",
            "│ nombre   │ nivel_profesional   │   edad │   altura │   peso │   nivel_profesional_encoded │   altura_scaled │   peso_scaled │\n",
            "╞══════════╪═════════════════════╪════════╪══════════╪════════╪═════════════════════════════╪═════════════════╪═══════════════╡\n",
            "│ Ana      │ Senior              │     35 │     1.65 │   65.5 │                           2 │       -1.31631  │     -0.572158 │\n",
            "├──────────┼─────────────────────┼────────┼──────────┼────────┼─────────────────────────────┼─────────────────┼───────────────┤\n",
            "│ Juan     │ Junior              │     26 │     1.78 │   80.2 │                           1 │        0.639351 │      1.09333  │\n",
            "├──────────┼─────────────────────┼────────┼──────────┼────────┼─────────────────────────────┼─────────────────┼───────────────┤\n",
            "│ María    │ Junior              │     24 │     1.7  │   58.7 │                           1 │       -0.564133 │     -1.34259  │\n",
            "├──────────┼─────────────────────┼────────┼──────────┼────────┼─────────────────────────────┼─────────────────┼───────────────┤\n",
            "│ Pedro    │ Intern              │     22 │     1.82 │   77.8 │                           0 │        1.24109  │      0.821414 │\n",
            "╘══════════╧═════════════════════╧════════╧══════════╧════════╧═════════════════════════════╧═════════════════╧═══════════════╛\n"
          ]
        }
      ]
    },
    {
      "cell_type": "markdown",
      "source": [
        "# 4.1.2 Distribución de Frecuencias y Tablas de Frecuencias\n",
        "\n",
        "La distribución de frecuencias nos permite organizar y resumir conjuntos de datos, mostrando el número de veces que aparece cada valor o categoría.\n",
        "\n",
        "## Conceptos Básicos\n",
        "\n",
        "1. **Frecuencia absoluta ($f_i$)**: Número de veces que aparece un valor ($x_i$) en el conjunto de datos.\n",
        "    - La suma de todas las frecuencias absolutas es el total de datos $N$:\n",
        "    $$\\sum_{i=1}^k f_i = N$$\n",
        "\n",
        "2. **Frecuencia relativa ($h_i$)**: Proporción que representa cada frecuencia absoluta respecto al total.\n",
        "    $$h_i = \\frac{f_i}{N}$$\n",
        "    - $h_i$ representa la proporción o porcentaje de datos en cada categoría\n",
        "    - La suma de todas las frecuencias relativas es 1:\n",
        "    $$\\sum_{i=1}^k h_i = 1$$\n",
        "\n",
        "3. **Frecuencia absoluta acumulada ($F_i$)**: Suma de las frecuencias absolutas hasta un valor dado.\n",
        "    $$F_i = \\sum_{j=1}^i f_j$$\n",
        "\n",
        "4. **Frecuencia relativa acumulada ($H_i$ o $Fr_i$)**: Suma de las frecuencias relativas hasta un valor dado.\n",
        "    $$H_i = \\sum_{j=1}^i h_j = \\frac{F_i}{N}$$\n",
        "    - La última frecuencia relativa acumulada es siempre 1:\n",
        "    $$H_n =  1$$\n",
        "## Construcción de Tablas de Frecuencias\n",
        "\n",
        "### Para Variables Cualitativas\n",
        "\n"
      ],
      "metadata": {
        "id": "kMfjukjochtC"
      }
    },
    {
      "cell_type": "code",
      "source": [
        "import pandas as pd\n",
        "import numpy as np\n",
        "from tabulate import tabulate\n",
        "\n",
        "# Crear datos de ejemplo: nivel profesional de 50 empleados\n",
        "np.random.seed(42)\n",
        "niveles = ['Junior', 'Middle', 'Senior', 'Intern']\n",
        "pesos = [0.3, 0.4, 0.2, 0.1]  # Probabilidades para cada nivel\n",
        "datos = np.random.choice(niveles, size=50, p=pesos)\n",
        "\n",
        "# Crear tabla de frecuencias\n",
        "tabla_freq = pd.DataFrame({\n",
        "    'Nivel': niveles,\n",
        "    'Frecuencia Absoluta': [sum(datos == nivel) for nivel in niveles],\n",
        "})\n",
        "\n",
        "# Calcular frecuencias relativas y acumuladas\n",
        "n = len(datos)\n",
        "tabla_freq['Frec. Abs. Acumulada'] = tabla_freq['Frecuencia Absoluta'].cumsum()\n",
        "tabla_freq['Frecuencia Relativa'] = tabla_freq['Frecuencia Absoluta'] / n\n",
        "tabla_freq['Frec. Rel. Acumulada'] = tabla_freq['Frecuencia Relativa'].cumsum()\n",
        "\n",
        "print(\"Tabla de Frecuencias para Niveles Profesionales:\\n\")\n",
        "print(tabulate(tabla_freq.round(3), headers='keys', tablefmt='fancy_grid', showindex=False))"
      ],
      "metadata": {
        "colab": {
          "base_uri": "https://localhost:8080/"
        },
        "id": "wPY25RC5eXHa",
        "outputId": "809ec6c8-e98c-4d11-ac40-1dd9d5480f48"
      },
      "execution_count": 21,
      "outputs": [
        {
          "output_type": "stream",
          "name": "stdout",
          "text": [
            "Tabla de Frecuencias para Niveles Profesionales:\n",
            "\n",
            "╒═════════╤═══════════════════════╤════════════════════════╤═══════════════════════╤════════════════════════╕\n",
            "│ Nivel   │   Frecuencia Absoluta │   Frec. Abs. Acumulada │   Frecuencia Relativa │   Frec. Rel. Acumulada │\n",
            "╞═════════╪═══════════════════════╪════════════════════════╪═══════════════════════╪════════════════════════╡\n",
            "│ Junior  │                    19 │                     19 │                  0.38 │                   0.38 │\n",
            "├─────────┼───────────────────────┼────────────────────────┼───────────────────────┼────────────────────────┤\n",
            "│ Middle  │                    20 │                     39 │                  0.4  │                   0.78 │\n",
            "├─────────┼───────────────────────┼────────────────────────┼───────────────────────┼────────────────────────┤\n",
            "│ Senior  │                     6 │                     45 │                  0.12 │                   0.9  │\n",
            "├─────────┼───────────────────────┼────────────────────────┼───────────────────────┼────────────────────────┤\n",
            "│ Intern  │                     5 │                     50 │                  0.1  │                   1    │\n",
            "╘═════════╧═══════════════════════╧════════════════════════╧═══════════════════════╧════════════════════════╛\n"
          ]
        }
      ]
    }
  ]
}