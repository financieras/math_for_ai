{
  "nbformat": 4,
  "nbformat_minor": 0,
  "metadata": {
    "colab": {
      "provenance": [],
      "authorship_tag": "ABX9TyPRibv7EIgpLc+SaIKDZFfZ",
      "include_colab_link": true
    },
    "kernelspec": {
      "name": "python3",
      "display_name": "Python 3"
    },
    "language_info": {
      "name": "python"
    }
  },
  "cells": [
    {
      "cell_type": "markdown",
      "metadata": {
        "id": "view-in-github",
        "colab_type": "text"
      },
      "source": [
        "<a href=\"https://colab.research.google.com/github/financieras/math_for_ai/blob/main/410_estadistica_descriptiva.ipynb\" target=\"_parent\"><img src=\"https://colab.research.google.com/assets/colab-badge.svg\" alt=\"Open In Colab\"/></a>"
      ]
    },
    {
      "cell_type": "markdown",
      "source": [
        "# 4.1.1 Tipos de Variables en Estadística\n",
        "\n",
        "En estadística y machine learning, la naturaleza de las variables que estudiamos determina qué tipos de análisis y modelos podemos aplicar. Las variables se clasifican principalmente en dos grandes grupos: cualitativas y cuantitativas.\n",
        "\n",
        "## Variables Cualitativas (Categóricas)\n",
        "\n",
        "Las variables cualitativas representan características o cualidades que no pueden medirse numéricamente. Se dividen en:\n",
        "\n",
        "### 1. Variables Nominales\n",
        "- Representan categorías sin orden natural\n",
        "- Ejemplo: colores = {rojo, verde, azul, rosa}\n",
        "- Ejemplos: color de ojos, género, tipo de sistema operativo\n",
        "- Operaciones permitidas: igual (=), diferente (≠)\n",
        "- Medidas estadísticas aplicables: moda, frecuencias\n",
        "\n",
        "### 2. Variables Ordinales\n",
        "- Representan categorías con un orden natural\n",
        "- Ejemplos: nivel profesional (inten, junior, middle, senior), nivel de satisfacción (bajo, medio, alto), platos en la comida (primer plato, segundo plato, postre)\n",
        "- Operaciones permitidas: igual (=), diferente (≠), mayor que (>), menor que (<)\n",
        "- Medidas estadísticas aplicables: moda, mediana, frecuencias\n",
        "\n",
        "## Variables Cuantitativas (Numéricas)\n",
        "\n",
        "Las variables cuantitativas representan cantidades numéricas. Se dividen en:\n",
        "\n",
        "### 1. Variables Discretas\n",
        "- Toman valores enteros o contables\n",
        "- Ejemplos: número de hijos, número de errores en un programa\n",
        "- Operaciones permitidas: todas las operaciones matemáticas\n",
        "- Medidas estadísticas aplicables: todas\n",
        "\n",
        "### 2. Variables Continuas\n",
        "- Pueden tomar cualquier valor dentro de un intervalo\n",
        "- Ejemplos: altura, peso, temperatura, tiempo\n",
        "- Operaciones permitidas: todas las operaciones matemáticas\n",
        "- Medidas estadísticas aplicables: todas\n",
        "\n",
        "## Ejemplos prácticos en Python"
      ],
      "metadata": {
        "id": "x0IGnevRZ3M5"
      }
    },
    {
      "cell_type": "code",
      "source": [
        "import pandas as pd\n",
        "import numpy as np\n",
        "\n",
        "# Crear un DataFrame de ejemplo con diferentes tipos de variables\n",
        "data = {\n",
        "    'nombre': ['Ana', 'Juan', 'María', 'Pedro'],            # Nominal\n",
        "    'nivel_profesional': ['Senior', 'Junior',\n",
        "                         'Junior', 'Intern'],               # Ordinal\n",
        "    'edad': [25, 30, 22, 35],                               # Discreta\n",
        "    'altura': [1.65, 1.78, 1.70, 1.82],                     # Continua\n",
        "    'peso': [65.5, 80.2, 58.7, 77.8]                        # Continua\n",
        "}\n",
        "\n",
        "df = pd.DataFrame(data)\n",
        "\n",
        "# Mostrar información sobre los tipos de datos\n",
        "print(\"Información del DataFrame:\")\n",
        "print(df.info())\n",
        "\n",
        "# Estadísticas básicas para variables numéricas\n",
        "print(\"\\nEstadísticas básicas de variables numéricas:\")\n",
        "print(df.describe())\n",
        "\n",
        "# Frecuencias para variables cualitativas\n",
        "print(\"\\nFrecuencias de nivel educativo (Variable Ordinal):\")\n",
        "print(df['nivel_profesional'].value_counts())"
      ],
      "metadata": {
        "colab": {
          "base_uri": "https://localhost:8080/"
        },
        "id": "WVfj-Su_aAzG",
        "outputId": "2a8a64ec-73b9-468b-a176-fc4334bd076a"
      },
      "execution_count": 4,
      "outputs": [
        {
          "output_type": "stream",
          "name": "stdout",
          "text": [
            "Información del DataFrame:\n",
            "<class 'pandas.core.frame.DataFrame'>\n",
            "RangeIndex: 4 entries, 0 to 3\n",
            "Data columns (total 5 columns):\n",
            " #   Column             Non-Null Count  Dtype  \n",
            "---  ------             --------------  -----  \n",
            " 0   nombre             4 non-null      object \n",
            " 1   nivel_profesional  4 non-null      object \n",
            " 2   edad               4 non-null      int64  \n",
            " 3   altura             4 non-null      float64\n",
            " 4   peso               4 non-null      float64\n",
            "dtypes: float64(2), int64(1), object(2)\n",
            "memory usage: 288.0+ bytes\n",
            "None\n",
            "\n",
            "Estadísticas básicas de variables numéricas:\n",
            "            edad    altura       peso\n",
            "count   4.000000  4.000000   4.000000\n",
            "mean   28.000000  1.737500  70.550000\n",
            "std     5.715476  0.076757  10.191663\n",
            "min    22.000000  1.650000  58.700000\n",
            "25%    24.250000  1.687500  63.800000\n",
            "50%    27.500000  1.740000  71.650000\n",
            "75%    31.250000  1.790000  78.400000\n",
            "max    35.000000  1.820000  80.200000\n",
            "\n",
            "Frecuencias de nivel educativo (Variable Ordinal):\n",
            "nivel_profesional\n",
            "Junior    2\n",
            "Senior    1\n",
            "Intern    1\n",
            "Name: count, dtype: int64\n"
          ]
        }
      ]
    },
    {
      "cell_type": "markdown",
      "source": [
        "## Importancia en Machine Learning\n",
        "\n",
        "La identificación correcta del tipo de variable es crucial en machine learning por varias razones:\n",
        "\n",
        "1. **Preprocesamiento de datos**:\n",
        "   - Las variables categóricas suelen requerir codificación (one-hot encoding, label encoding)\n",
        "   - Las variables numéricas suelen requerir normalización o estandarización\n",
        "\n",
        "2. **Selección de modelos**:\n",
        "   - Regresión: requiere variable objetivo continua\n",
        "   - Clasificación: requiere variable objetivo categórica\n",
        "\n",
        "3. **Evaluación de modelos**:\n",
        "   - Métricas diferentes según el tipo de variable objetivo\n",
        "   - RMSE (Root Mean Squared Error), MAE (Mean Absolute Error) para variables continuas\n",
        "   $$RMSE = \\sqrt{\\frac{1}{n} \\sum_{i=1}^{n} (y_{real} - y_{pred})^2} \\qquad \\qquad MAE = \\frac{1}{n} \\sum_{i=1}^{n} |y_{real} - y_{pred}|$$\n",
        "   - Accuracy, F1-score para variables categóricas\n",
        "\n",
        "## Ejemplo de preprocesamiento según el tipo de variable"
      ],
      "metadata": {
        "id": "o08PQavbb_U5"
      }
    },
    {
      "cell_type": "code",
      "source": [
        "from sklearn.preprocessing import LabelEncoder, StandardScaler\n",
        "\n",
        "# Preprocesamiento para variables categóricas\n",
        "le = LabelEncoder()\n",
        "df['nivel_profesional_encoded'] = le.fit_transform(df['nivel_profesional'])\n",
        "\n",
        "# Preprocesamiento para variables numéricas\n",
        "scaler = StandardScaler()\n",
        "df['altura_scaled'] = scaler.fit_transform(df[['altura']])\n",
        "df['peso_scaled'] = scaler.fit_transform(df[['peso']])\n",
        "\n",
        "print(\"DataFrame con variables procesadas:\")\n",
        "print(df)"
      ],
      "metadata": {
        "colab": {
          "base_uri": "https://localhost:8080/"
        },
        "id": "WiQABHJdcED2",
        "outputId": "578ed07d-7be2-48f6-de79-d33c860487ad"
      },
      "execution_count": 12,
      "outputs": [
        {
          "output_type": "stream",
          "name": "stdout",
          "text": [
            "DataFrame con variables procesadas:\n",
            "  nombre nivel_profesional  edad  altura  peso  nivel_profesional_encoded  \\\n",
            "0    Ana            Senior    25    1.65  65.5                          2   \n",
            "1   Juan            Junior    30    1.78  80.2                          1   \n",
            "2  María            Junior    22    1.70  58.7                          1   \n",
            "3  Pedro            Intern    35    1.82  77.8                          0   \n",
            "\n",
            "   altura_scaled  peso_scaled  \n",
            "0      -1.316310    -0.572158  \n",
            "1       0.639351     1.093331  \n",
            "2      -0.564133    -1.342588  \n",
            "3       1.241093     0.821414  \n"
          ]
        }
      ]
    },
    {
      "cell_type": "markdown",
      "source": [
        "# 4.1.2 Distribución de Frecuencias y Tablas de Frecuencias\n",
        "\n",
        "La distribución de frecuencias nos permite organizar y resumir conjuntos de datos, mostrando el número de veces que aparece cada valor o categoría.\n",
        "\n",
        "## Conceptos Básicos\n",
        "\n",
        "- **Frecuencia absoluta ($f_i$)**: Número de veces que aparece un valor en el conjunto de datos.\n",
        "- **Frecuencia relativa ($fr_i$)**: Proporción que representa cada frecuencia absoluta respecto al total.\n",
        "  $$fr_i = \\frac{f_i}{n}$$\n",
        "- **Frecuencia absoluta acumulada ($F_i$)**: Suma de las frecuencias absolutas hasta un valor dado.\n",
        "- **Frecuencia relativa acumulada ($Fr_i$)**: Suma de las frecuencias relativas hasta un valor dado.\n",
        "  $$Fr_i = \\frac{F_i}{n}$$\n",
        "\n",
        "## Construcción de Tablas de Frecuencias\n",
        "\n",
        "### Para Variables Cualitativas"
      ],
      "metadata": {
        "id": "kMfjukjochtC"
      }
    },
    {
      "cell_type": "code",
      "source": [
        "import pandas as pd\n",
        "import numpy as np\n",
        "\n",
        "# Crear datos de ejemplo: nivel profesional de 50 empleados\n",
        "np.random.seed(42)\n",
        "niveles = ['Junior', 'Middle', 'Senior', 'Intern']\n",
        "pesos = [0.3, 0.4, 0.2, 0.1]  # Probabilidades para cada nivel\n",
        "datos = np.random.choice(niveles, size=50, p=pesos)\n",
        "\n",
        "# Crear tabla de frecuencias\n",
        "tabla_freq = pd.DataFrame({\n",
        "    'Nivel': niveles,\n",
        "    'Frecuencia Absoluta': [sum(datos == nivel) for nivel in niveles],\n",
        "})\n",
        "\n",
        "# Calcular frecuencias relativas y acumuladas\n",
        "n = len(datos)\n",
        "tabla_freq['Frecuencia Relativa'] = tabla_freq['Frecuencia Absoluta'] / n\n",
        "tabla_freq['Frec. Abs. Acumulada'] = tabla_freq['Frecuencia Absoluta'].cumsum()\n",
        "tabla_freq['Frec. Rel. Acumulada'] = tabla_freq['Frecuencia Relativa'].cumsum()\n",
        "\n",
        "print(\"Tabla de Frecuencias para Niveles Profesionales:\")\n",
        "print(tabla_freq.round(3).to_markdown(index=False))     # salida a Markdown"
      ],
      "metadata": {
        "colab": {
          "base_uri": "https://localhost:8080/"
        },
        "id": "wPY25RC5eXHa",
        "outputId": "110b7b44-f8b1-4813-d16d-5cfefac5a42a"
      },
      "execution_count": 11,
      "outputs": [
        {
          "output_type": "stream",
          "name": "stdout",
          "text": [
            "Tabla de Frecuencias para Niveles Profesionales:\n",
            "| Nivel   |   Frecuencia Absoluta |   Frecuencia Relativa |   Frec. Abs. Acumulada |   Frec. Rel. Acumulada |\n",
            "|:--------|----------------------:|----------------------:|-----------------------:|-----------------------:|\n",
            "| Junior  |                    19 |                  0.38 |                     19 |                   0.38 |\n",
            "| Middle  |                    20 |                  0.4  |                     39 |                   0.78 |\n",
            "| Senior  |                     6 |                  0.12 |                     45 |                   0.9  |\n",
            "| Intern  |                     5 |                  0.1  |                     50 |                   1    |\n"
          ]
        }
      ]
    },
    {
      "cell_type": "markdown",
      "source": [
        "Tabla de Frecuencias para Niveles Profesionales:\n",
        "\n",
        "| Nivel   |   Frecuencia Absoluta |   Frecuencia Relativa |   Frec. Abs. Acumulada |   Frec. Rel. Acumulada |\n",
        "|:--------|----------------------:|----------------------:|-----------------------:|-----------------------:|\n",
        "| Junior  |                    19 |                  0.38 |                     19 |                   0.38 |\n",
        "| Middle  |                    20 |                  0.4  |                     39 |                   0.78 |\n",
        "| Senior  |                     6 |                  0.12 |                     45 |                   0.9  |\n",
        "| Intern  |                     5 |                  0.1  |                     50 |                   1    |"
      ],
      "metadata": {
        "id": "MQGb_-ssf77D"
      }
    }
  ]
}