{
  "nbformat": 4,
  "nbformat_minor": 0,
  "metadata": {
    "colab": {
      "provenance": [],
      "authorship_tag": "ABX9TyP6JXbnOhYC2mCWKeeUsGXZ",
      "include_colab_link": true
    },
    "kernelspec": {
      "name": "python3",
      "display_name": "Python 3"
    },
    "language_info": {
      "name": "python"
    }
  },
  "cells": [
    {
      "cell_type": "markdown",
      "metadata": {
        "id": "view-in-github",
        "colab_type": "text"
      },
      "source": [
        "<a href=\"https://colab.research.google.com/github/financieras/math_for_ai/blob/main/221_determinante.ipynb\" target=\"_parent\"><img src=\"https://colab.research.google.com/assets/colab-badge.svg\" alt=\"Open In Colab\"/></a>"
      ]
    },
    {
      "cell_type": "markdown",
      "source": [
        "# Determinante de una matriz cuadrada\n",
        "\n",
        "## Introducción al concepto de Determiante\n",
        "El determinante es un número único (**un escalar**) asociado **solo a matrices cuadradas**.\n",
        "*   **Geometría:** Representa el **factor de escala** de la transformación lineal que describe la matriz. Su valor absoluto mide cómo se \"estira\" o \"comprime\" el área (en 2D) o el volumen (en 3D).\n",
        "*   **Invertibilidad:** Permite saber si una matriz tiene inversa.\n",
        "    *   **Si det(A) ≠ 0:** La matriz es **invertible (no singular)**. Sus filas y columnas son **linealmente independientes**.\n",
        "    *   **Si det(A) = 0:** La matriz es **singular (no invertible)**. Sus filas y columnas son **linealmente dependientes** (hay redundancia).\n",
        "*   **Aplicaciones:**\n",
        "    *   Resolver sistemas de ecuaciones lineales (Regla de Cramer).\n",
        "    *   Calcular la matriz inversa.\n",
        "    *   Hallar autovalores.\n",
        "    *   Y muchos otros usos en álgebra lineal y cálculo.\n",
        "\n",
        "En esencia, el determinante es un número que resume propiedades cruciales de una matriz."
      ],
      "metadata": {
        "id": "M5kdoFoImb6d"
      }
    },
    {
      "cell_type": "markdown",
      "source": [
        "## Determinante de una matriz $ 1 \\times 1 $\n",
        "El determinante es el propio número.\n",
        "\n",
        "$$\n",
        "A = \\begin{bmatrix} a_{11} \\end{bmatrix}, \\quad \\det(A) = a_{11}\n",
        "$$\n",
        "\n",
        "### Ejemplo\n",
        "Para $ A = \\begin{bmatrix} -6 \\end{bmatrix} $ el determinante es:\n",
        "$$\n",
        "\\det(A) = -6\n",
        "$$"
      ],
      "metadata": {
        "id": "6F3y4c4Vm-p-"
      }
    },
    {
      "cell_type": "code",
      "source": [
        "# Matriz 1x1\n",
        "A = np.array([[-6]])\n",
        "\n",
        "# Determinante\n",
        "det = np.linalg.det(A)\n",
        "print(\"Determinante de A:\")\n",
        "print(det)"
      ],
      "metadata": {
        "colab": {
          "base_uri": "https://localhost:8080/"
        },
        "id": "Yq0sgrg4mw7K",
        "outputId": "1d5b926d-213d-4034-a3f3-cd07ffed5669"
      },
      "execution_count": null,
      "outputs": [
        {
          "output_type": "stream",
          "name": "stdout",
          "text": [
            "Determinante de A:\n",
            "-6.0\n"
          ]
        }
      ]
    },
    {
      "cell_type": "markdown",
      "source": [
        "## Determinante de una matriz $ 2 \\times 2 $\n",
        "Para una matriz $ 2 \\times 2 $:\n",
        "$$\n",
        "A = \\begin{pmatrix} a & b \\\\ c & d \\end{pmatrix}, \\quad \\det(A) =\n",
        "\\begin{vmatrix}\n",
        "a & b \\\\\n",
        "c & d\n",
        "\\end{vmatrix} = ad - bc\n",
        "$$\n",
        "\n",
        "### Ejemplo\n",
        "Para $ A = \\begin{pmatrix} 1 & 2 \\\\ 3 & 4 \\end{pmatrix} $ el determinante es:\n",
        "$$\n",
        "\\det(A) = \\begin{vmatrix}\n",
        "1 & 2 \\\\\n",
        "3 & 4\n",
        "\\end{vmatrix} = 1 \\cdot 4 - 2 \\cdot 3 =  4 - 6 = -2\n",
        "$$\n",
        "\n",
        "<img src=\"https://github.com/financieras/math_for_ai/blob/main/img/determinante2x2.png?raw=1\" alt=\"determinante 2x2\" width=\"320\"/>"
      ],
      "metadata": {
        "id": "laOVnqtWn79F"
      }
    },
    {
      "cell_type": "code",
      "source": [
        "import numpy as np\n",
        "\n",
        "# Matriz 2x2\n",
        "A = np.array([[1, 2],\n",
        "              [3, 4]])\n",
        "\n",
        "# Determinante\n",
        "det = np.linalg.det(A)\n",
        "print(\"Determinante de A:\")\n",
        "print(det)"
      ],
      "metadata": {
        "colab": {
          "base_uri": "https://localhost:8080/"
        },
        "id": "I_FbsI9ZmZlC",
        "outputId": "137b1469-b69b-4a27-a77e-6b5eeb50d411"
      },
      "execution_count": null,
      "outputs": [
        {
          "output_type": "stream",
          "name": "stdout",
          "text": [
            "Determinante de A:\n",
            "-2.0000000000000004\n"
          ]
        }
      ]
    },
    {
      "cell_type": "markdown",
      "source": [
        "## Determinante de una matriz $ 3 \\times 3 $: Regla de Sarrus\n",
        "### 📏 Explicación de la Regla de Sarrus  \n",
        "El determinante de una matriz 3×3 se calcula mediante un método visual que extiende las primeras dos columnas de la matriz para formar un \"patrón de diagonales\".  \n",
        "\n",
        "**Matriz de ejemplo**:  \n",
        "$$\n",
        "A = \\begin{pmatrix}\n",
        "a & b & c \\\\\n",
        "d & e & f \\\\\n",
        "g & h & i \\\\\n",
        "\\end{pmatrix}\n",
        "$$  \n",
        "\n",
        "**Pasos**:  \n",
        "1. **Extender la matriz**: Repetir las dos primeras columnas a la derecha.  \n",
        "\n",
        "$$\\left(\n",
        "\\begin{array}{ccc|cc}\n",
        "a & b & c & a & b \\\\\n",
        "d & e & f & d & e \\\\\n",
        "g & h & i & g & h \\\\\n",
        "\\end{array}\n",
        "\\right)$$\n",
        "\n",
        "\n",
        "\n",
        "2. **Sumar diagonales principales**:  \n",
        "   - $$ \\text{Diag}_1 = a \\cdot e \\cdot i $$  \n",
        "   - $$ \\text{Diag}_2 = b \\cdot f \\cdot g $$  \n",
        "   - $$ \\text{Diag}_3 = c \\cdot d \\cdot h $$  \n",
        "\n",
        "3. **Restar diagonales secundarias**:  \n",
        "   - $$ \\text{Diag}_4 = c \\cdot e \\cdot g $$  \n",
        "   - $$ \\text{Diag}_5 = a \\cdot f \\cdot h $$  \n",
        "   - $$ \\text{Diag}_6 = b \\cdot d \\cdot i $$  \n",
        "\n",
        "4. **Resultado final**:  \n",
        "$$\n",
        "\\det(A) = (\\text{Diag}_1 + \\text{Diag}_2 + \\text{Diag}_3) - (\\text{Diag}_4 + \\text{Diag}_5 + \\text{Diag}_6)\n",
        "$$"
      ],
      "metadata": {
        "id": "AOc3Ct2uvYsH"
      }
    },
    {
      "cell_type": "markdown",
      "source": [
        "### 🔢 Ejemplo Numérico  \n",
        "**Matriz**:  \n",
        "$$\n",
        "B = \\begin{pmatrix}\n",
        "1 & 2 & 3 \\\\\n",
        "4 & 5 & 6 \\\\\n",
        "7 & 8 & 9 \\\\\n",
        "\\end{pmatrix}\n",
        "$$  \n",
        "\n",
        "**Cálculo manual**:  \n",
        "1. **Extender la matriz**:  \n",
        "$$\\left(\n",
        "\\begin{array}{ccc|cc}\n",
        "1 & 2 & 3 & 1 & 2 \\\\\n",
        "4 & 5 & 6 & 4 & 5 \\\\\n",
        "7 & 8 & 9 & 7 & 8 \\\\\n",
        "\\end{array}\\right)\n",
        "$$  \n",
        "\n",
        "2. **Sumar diagonales principales**:  \n",
        "   - $$ 1 \\cdot 5 \\cdot 9 = 45 $$  \n",
        "   - $$ 2 \\cdot 6 \\cdot 7 = 84 $$  \n",
        "   - $$ 3 \\cdot 4 \\cdot 8 = 96 $$  \n",
        "   $$\n",
        "   \\text{Suma: } 45 + 84 + 96 = 225\n",
        "   $$  \n",
        "\n",
        "3. **Restar diagonales secundarias**:  \n",
        "   - $$ 3 \\cdot 5 \\cdot 7 = 105 $$  \n",
        "   - $$ 1 \\cdot 6 \\cdot 8 = 48 $$  \n",
        "   - $$ 2 \\cdot 4 \\cdot 9 = 72 $$  \n",
        "   $$\n",
        "   \\text{Resta: } 105 + 48 + 72 = 225\n",
        "   $$  \n",
        "\n",
        "4. **Determinante**:  \n",
        "$$\n",
        "\\det(B) = 225 - 225 = 0\n",
        "$$  "
      ],
      "metadata": {
        "id": "KAJkGixdwNsn"
      }
    },
    {
      "cell_type": "markdown",
      "source": [
        "### 🐍 Implementación en Python  \n",
        "\n",
        "#### 1. Usando NumPy"
      ],
      "metadata": {
        "id": "Wle2N5_FwVNm"
      }
    },
    {
      "cell_type": "code",
      "source": [
        "import numpy as np\n",
        "\n",
        "B = np.array([[1, 2, 3],\n",
        "              [4, 5, 6],\n",
        "              [7, 8, 9]])\n",
        "\n",
        "det_np = np.linalg.det(B)\n",
        "print(f\"Determinante (NumPy): {det_np}\")"
      ],
      "metadata": {
        "colab": {
          "base_uri": "https://localhost:8080/"
        },
        "id": "NeVED259waE9",
        "outputId": "e975816e-36ee-47ad-8b95-8308623d73da"
      },
      "execution_count": null,
      "outputs": [
        {
          "output_type": "stream",
          "name": "stdout",
          "text": [
            "Determinante (NumPy): 0.0\n"
          ]
        }
      ]
    },
    {
      "cell_type": "markdown",
      "source": [
        "#### 2. Implementación Manual de la Regla de Sarrus"
      ],
      "metadata": {
        "id": "kre4PX10whJI"
      }
    },
    {
      "cell_type": "code",
      "source": [
        "def sarrus(matriz):\n",
        "    # Diagonales principales\n",
        "    diag1 = matriz[0][0] * matriz[1][1] * matriz[2][2]\n",
        "    diag2 = matriz[0][1] * matriz[1][2] * matriz[2][0]\n",
        "    diag3 = matriz[0][2] * matriz[1][0] * matriz[2][1]\n",
        "\n",
        "    # Diagonales secundarias\n",
        "    diag4 = matriz[0][2] * matriz[1][1] * matriz[2][0]\n",
        "    diag5 = matriz[0][0] * matriz[1][2] * matriz[2][1]\n",
        "    diag6 = matriz[0][1] * matriz[1][0] * matriz[2][2]\n",
        "\n",
        "    return (diag1 + diag2 + diag3) - (diag4 + diag5 + diag6)\n",
        "\n",
        "det_sarrus = sarrus(B)\n",
        "print(f\"Determinante (Sarrus manual): {det_sarrus}\")"
      ],
      "metadata": {
        "colab": {
          "base_uri": "https://localhost:8080/"
        },
        "id": "Nlfx58wTwh7R",
        "outputId": "398697b4-a3bf-41ba-d302-dcd8e3975095"
      },
      "execution_count": null,
      "outputs": [
        {
          "output_type": "stream",
          "name": "stdout",
          "text": [
            "Determinante (Sarrus manual): 0\n"
          ]
        }
      ]
    },
    {
      "cell_type": "markdown",
      "source": [
        "## Método Análogo: Regla de Sarrus Extendiendo la Matriz Hacia Abajo\n",
        "\n",
        "La Regla de Sarrus también puede aplicarse extendiendo la matriz hacia abajo en lugar de hacia la derecha. Este método sigue el mismo principio de sumar productos de diagonales principales y restar productos de diagonales secundarias, pero se basa en duplicar las dos primeras filas debajo de la matriz original.\n",
        "\n",
        "### 📏 Explicación del Método\n",
        "**Matriz de ejemplo**:  \n",
        "$$\n",
        "A = \\begin{pmatrix}\n",
        "a & b & c \\\\\n",
        "d & e & f \\\\\n",
        "g & h & i \\\\\n",
        "\\end{pmatrix}\n",
        "$$  \n",
        "\n",
        "**Pasos**:  \n",
        "1. **Extender la matriz hacia abajo**: Repetir las dos primeras filas debajo de la matriz original.  \n",
        "$$\n",
        "\\begin{pmatrix}\n",
        "a & b & c \\\\\n",
        "d & e & f \\\\\n",
        "g & h & i \\\\\n",
        "\\hline\n",
        "a & b & c \\\\\n",
        "d & e & f \\\\\n",
        "\\end{pmatrix}\n",
        "$$  \n",
        "\n",
        "2. **Sumar diagonales principales**: Identificar las diagonales que van de izquierda a derecha y multiplicar los elementos correspondientes:  \n",
        "   - $$ \\text{Diag}_1 = a \\cdot e \\cdot i $$  \n",
        "   - $$ \\text{Diag}_2 = b \\cdot f \\cdot g $$  \n",
        "   - $$ \\text{Diag}_3 = c \\cdot d \\cdot h $$  \n",
        "\n",
        "3. **Restar diagonales secundarias**: Identificar las diagonales que van de derecha a izquierda y multiplicar los elementos correspondientes:  \n",
        "   - $$ \\text{Diag}_4 = c \\cdot e \\cdot g $$  \n",
        "   - $$ \\text{Diag}_5 = a \\cdot f \\cdot h $$  \n",
        "   - $$ \\text{Diag}_6 = b \\cdot d \\cdot i $$  \n",
        "\n",
        "4. **Resultado final**: El determinante se calcula como:  \n",
        "$$\n",
        "\\det(A) = (\\text{Diag}_1 + \\text{Diag}_2 + \\text{Diag}_3) - (\\text{Diag}_4 + \\text{Diag}_5 + \\text{Diag}_6)\n",
        "$$"
      ],
      "metadata": {
        "id": "sLRDUmTaCoLJ"
      }
    },
    {
      "cell_type": "markdown",
      "source": [
        "### 🔢 Ejemplo Numérico: Regla de Sarrus Extendiendo la Matriz Hacia Abajo  \n",
        "\n",
        "**Matriz**:  \n",
        "$$\n",
        "B = \\begin{pmatrix}\n",
        "1 & 2 & 3 \\\\\n",
        "4 & 5 & 6 \\\\\n",
        "7 & 8 & 9 \\\\\n",
        "\\end{pmatrix}\n",
        "$$  \n",
        "\n",
        "**Cálculo manual**:  \n",
        "1. **Extender la matriz hacia abajo**:  \n",
        "   Repetimos las dos primeras filas debajo de la matriz original:  \n",
        "   $$\n",
        "   \\begin{pmatrix}\n",
        "   1 & 2 & 3 \\\\\n",
        "   4 & 5 & 6 \\\\\n",
        "   7 & 8 & 9 \\\\\n",
        "   \\hline\n",
        "   1 & 2 & 3 \\\\\n",
        "   4 & 5 & 6 \\\\\n",
        "   \\end{pmatrix}\n",
        "   $$  \n",
        "\n",
        "2. **Sumar diagonales principales**:  \n",
        "   Identificamos las diagonales de izquierda a derecha y calculamos sus productos:  \n",
        "   - $$ (1 \\cdot 5 \\cdot 9) = 45 $$  \n",
        "   - $$ (2 \\cdot 6 \\cdot 7) = 84 $$  \n",
        "   - $$ (3 \\cdot 4 \\cdot 8) = 96 $$  \n",
        "\n",
        "   Sumamos los resultados:  \n",
        "   $$\n",
        "   \\text{Suma de diagonales principales: } 45 + 84 + 96 = 225\n",
        "   $$  \n",
        "\n",
        "3. **Restar diagonales secundarias**:  \n",
        "   Identificamos las diagonales de derecha a izquierda y calculamos sus productos:  \n",
        "   - $$ (3 \\cdot 5 \\cdot 7) = 105 $$  \n",
        "   - $$ (1 \\cdot 6 \\cdot 8) = 48 $$  \n",
        "   - $$ (2 \\cdot 4 \\cdot 9) = 72 $$  \n",
        "\n",
        "   Sumamos los resultados y restamos esta suma de las diagonales principales:  \n",
        "   $$\n",
        "   \\text{Suma de diagonales secundarias: } 105 + 48 + 72 = 225\n",
        "   $$  \n",
        "\n",
        "4. **Determinante**:  \n",
        "Finalmente, calculamos el determinante restando las sumas obtenidas:  \n",
        "$$\n",
        "\\det(B) = (\\text{Suma de diagonales principales}) - (\\text{Suma de diagonales secundarias})\n",
        "$$  \n",
        "$$\n",
        "\\det(B) = 225 - 225 = 0\n",
        "$$"
      ],
      "metadata": {
        "id": "JJp3IEgFC91V"
      }
    },
    {
      "cell_type": "markdown",
      "source": [
        "### 📌 Notas  \n",
        "- **Matrices singulares**: Si el determinante es 0, la matriz no tiene inversa (como en este ejemplo).  \n",
        "- **Precisión numérica**: NumPy puede devolver valores como `0.0` en lugar de `0` debido a operaciones con números flotantes.  \n",
        "- **Generalización**: La regla de Sarrus **solo aplica a matrices 3×3**. Para matrices más grandes, se usa el método de Laplace o descomposición LU.\n",
        "\n"
      ],
      "metadata": {
        "id": "m3v0IQfEq2Vt"
      }
    },
    {
      "cell_type": "markdown",
      "source": [
        "### Otra forma de recordar la regla de Sarrus\n",
        "La siguiente imagen muestra una representación visual de la regla de Sarrus.  \n",
        "Se calcula sumando los productos de las diagonales principales y restando los productos de las diagonales secundarias.\n",
        "\n",
        "Para una matriz:\n",
        "\n",
        "$$\n",
        "\\begin{pmatrix}\n",
        "a_{11} & a_{12} & a_{13} \\\\\n",
        "a_{21} & a_{22} & a_{23} \\\\\n",
        "a_{31} & a_{32} & a_{33}\n",
        "\\end{pmatrix}\n",
        "$$\n",
        "\n",
        "El determinante se calcula como:\n",
        "\n",
        "$$\n",
        "\\begin{aligned}\n",
        "\\det(A) = &\n",
        "(a_{11} \\cdot a_{22} \\cdot a_{33}) +\n",
        "(a_{12} \\cdot a_{23} \\cdot a_{31}) +\n",
        "(a_{13} \\cdot a_{21} \\cdot a_{32}) - \\\\\n",
        "&(a_{13} \\cdot a_{22} \\cdot a_{31}) -\n",
        "(a_{11} \\cdot a_{23} \\cdot a_{32}) -\n",
        "(a_{12} \\cdot a_{21} \\cdot a_{33})\n",
        "\\end{aligned}\n",
        "$$\n",
        "\n",
        "Visualmente, esto corresponde a sumar los productos de las tres diagonales que van de izquierda a derecha y restar los productos de las tres diagonales que van de derecha a izquierda.\n",
        "\n",
        "<img src=\"https://github.com/financieras/math_for_ai/blob/main/img/regla_sarrus\n",
        ".png?raw=1\" alt=\"regla de Sarrus\" width=\"420\"/>"
      ],
      "metadata": {
        "id": "uW5N1jPOspFe"
      }
    },
    {
      "cell_type": "markdown",
      "source": [
        "## Propiedades de los determinantes  \n",
        "\n",
        "### 📌 **Propiedades clave para cálculo eficiente**  \n",
        "\n",
        "#### 1. **Determinante de la matriz identidad**  \n",
        "   $$ \\det(I_n) = 1 $$  \n",
        "   \n",
        "_Ejemplo:_\n",
        "\n",
        "   $$\\det(I_3) = |I_3| = \\begin{vmatrix}\n",
        "1 & 0 & 0 \\\\\n",
        "0 & 1 & 0 \\\\\n",
        "0 & 0 & 1 \\\\\n",
        "\\end{vmatrix}\n",
        "= 1 $$\n",
        "\n",
        "**Resultado del determinante**:  \n",
        "$$\n",
        "|I_3| = 1 \\quad \\text{(porque es el producto de su diagonal principal: } 1 \\cdot 1 \\cdot 1 = 1\\text{)}\n",
        "$$\n",
        "\n",
        "---"
      ],
      "metadata": {
        "id": "DQyg_zAwynWR"
      }
    },
    {
      "cell_type": "markdown",
      "source": [
        "#### 2. **Efecto de operaciones elementales**  \n",
        "   - **Intercambio de filas/columnas**:  \n",
        "     $\\det(A) \\rightarrow -\\det(A)$ *(Cambia el signo)*  \n",
        "     *Ejemplo*: Si se intercambian dos filas en una matriz 3×3, su determinante se multiplica por $-1$.  \n",
        "\n",
        "   - **Multiplicación de fila/columna por escalar $k$**:  \n",
        "     $\\det(A) \\rightarrow k \\cdot \\det(A)$  \n",
        "     *Ejemplo*: Si se multiplica la fila 2 por $2$, el determinante se duplica.  \n",
        "\n",
        "   - **Suma de filas/columnas**:  \n",
        "     Si a una fila se le suma otra fila multiplicada por un escalar, **el determinante no cambia**.  \n",
        "     $\\det\\left(\\text{Fila}_i + k \\cdot \\text{Fila}_j\\right) = \\det(A)$\n",
        "\n",
        "---\n",
        "\n",
        "*Nota:*\n",
        "\n",
        "Si queremos que el determinate no cambie al multiplicar una fila por un escalar $k$ debemos multiplicar fuera del determinante por $\\frac{1}{k}$, así:\n",
        "\n",
        "*Ejemplo*: Matriz original  \n",
        "$$\n",
        "A = \\begin{pmatrix}\n",
        "1 & 0 & 2 \\\\\n",
        "3 & 1 & 4 \\\\\n",
        "0 & 2 & 1 \\\\\n",
        "\\end{pmatrix}, \\quad \\det(A) = |A| = -9\n",
        "$$\n",
        "\n",
        "Multiplicando la segunda fila por dos:\n",
        "\n",
        "$$\n",
        "|A| = \\frac{1}{2} \\cdot 2 \\cdot \\left|  \n",
        "\\begin{array}{ccc}\n",
        "1 & 0 & 2 \\\\\n",
        "3 & 1 & 4 \\\\\n",
        "0 & 2 & 1 \\\\\n",
        "\\end{array}\n",
        "\\right|\n",
        " =\n",
        "\\frac{1}{2} \\cdot \\left|  \n",
        "\\begin{array}{ccc}\n",
        "1 & 0 & 2 \\\\\n",
        "6 & 2 & 8 \\\\\n",
        "0 & 2 & 1 \\\\\n",
        "\\end{array}\n",
        "\\right|\n",
        "$$"
      ],
      "metadata": {
        "id": "CictskmFzxhL"
      }
    },
    {
      "cell_type": "markdown",
      "source": [
        "#### 3. **Matriz con fila/columna de ceros**  \n",
        "   $\\det(A) = 0$ si una fila o columna es nula.  \n",
        "   *Ejemplo*:  \n",
        "   $$\n",
        "   \\det\\begin{pmatrix}1 & 2 & 3 \\\\ 0 & 0 & 0 \\\\ 4 & 5 & 6\\end{pmatrix} = 0\n",
        "   $$\n",
        "\n",
        "---"
      ],
      "metadata": {
        "id": "8wPb4407zxSb"
      }
    },
    {
      "cell_type": "markdown",
      "source": [
        "#### 4. **Matriz triangular (superior/inferior)**  \n",
        "   $\\det(A) = \\text{Producto de la diagonal principal}$  \n",
        "   *Ejemplo*:  \n",
        "   $$\n",
        "   \\det\\begin{pmatrix}2 & 3 & 1 \\\\ 0 & -1 & 4 \\\\ 0 & 0 & 5\\end{pmatrix} = 2 \\cdot (-1) \\cdot 5 = -10\n",
        "   $$\n",
        "\n",
        "---"
      ],
      "metadata": {
        "id": "vqVE_1p_z-g-"
      }
    },
    {
      "cell_type": "markdown",
      "source": [
        "#### 5. **Matrices con filas/columnas iguales o proporcionales**  \n",
        "   - **Filas/columnas iguales**: $\\det(A) = 0$.  \n",
        "     *Ejemplo*:  \n",
        "\n",
        "$$ \\det\\begin{pmatrix}1 & 2 & 3 \\\\ 1 & 2 & 3 \\\\ 4 & 5 & 6\\end{pmatrix} = 0 $$  \n",
        "\n",
        "   - **Filas/columnas proporcionales**: $\\det(A) = 0$.  \n",
        "     *Ejemplo*:  \n",
        "$$ \\det\\begin{pmatrix}1 & 2 & 3 \\\\ 2 & 4 & 6 \\\\ 4 & 5 & 6\\end{pmatrix} = 0 \\quad (\\text{Fila 2} = 2 \\cdot \\text{Fila 1}) $$\n",
        "---"
      ],
      "metadata": {
        "id": "VoDFBITy0DGR"
      }
    },
    {
      "cell_type": "markdown",
      "source": [
        "#### 6. **Determinante del producto de matrices**  \n",
        "   $$\\det(AB) = \\det(A) \\cdot \\det(B)$$  \n",
        "   *Consecuencia*:  \n",
        "   $$\\det(A^{-1}) = \\frac{1}{\\det(A)} \\quad \\text{(Si $A$ es invertible)}$$\n",
        "\n",
        "---"
      ],
      "metadata": {
        "id": "hhL2R75GzxC7"
      }
    },
    {
      "cell_type": "markdown",
      "source": [
        "#### 7. **Matriz transpuesta**  \n",
        "   $$\\det(A^T) = \\det(A)$$  \n",
        "   *Implicación*: Todas las propiedades de filas aplican también a columnas.  \n",
        "\n",
        "---"
      ],
      "metadata": {
        "id": "VxvOta660SIY"
      }
    },
    {
      "cell_type": "markdown",
      "source": [
        "#### 8. **Determinante de una matriz singular**  \n",
        "   $$\\det(A) = 0 \\iff A \\text{ no tiene inversa}$$  \n",
        "   *Relación con rango*: Si $A$ tiene rango incompleto (filas/columnas linealmente dependientes), su determinante es cero.  \n",
        "\n",
        "---"
      ],
      "metadata": {
        "id": "uSrJU9kg0OL4"
      }
    },
    {
      "cell_type": "markdown",
      "source": [
        "### 🧮 **Aplicaciones prácticas de las propiedades**  \n",
        "1. **Simplificar cálculos**:  \n",
        "   - Usar operaciones fila para crear ceros antes de aplicar Laplace.  \n",
        "   - Triangularizar la matriz para evitar cálculos redundantes.  \n",
        "\n",
        "2. **Identificar matrices invertibles**:  \n",
        "   - Si $\\det(A) \\neq 0$, existe $A^{-1}$.  \n",
        "\n",
        "3. **Evitar errores**:  \n",
        "   - Verificar si filas/columnas son proporcionales antes de cálculos largos.  \n",
        "\n",
        "---"
      ],
      "metadata": {
        "id": "GUYA8_SG0y4G"
      }
    },
    {
      "cell_type": "markdown",
      "source": [
        "### Ejemplo de simplificación usando propiedades  \n",
        "**Matriz**:  \n",
        "$$\n",
        "A = \\begin{pmatrix}3 & 4 & 2 \\\\ 1 & 3 & -1 \\\\ 2 & 1 & 3\\end{pmatrix}\n",
        "$$  \n",
        "\n",
        "**Pasos**:  \n",
        "1. **Detectar proporcionalidad**: La columna 3 es $2 \\cdot \\text{Columna}_1 - \\text{Columna}_2$.  \n",
        "2. **Conclusión**: Como las columnas son linealmente dependientes, $\\det(A) = 0$.  \n",
        "\n",
        "*Sin necesidad de calcular Sarrus o Laplace*.  \n",
        "\n",
        "---\n",
        "\n",
        "### 📝 **Resumen visual**  \n",
        "\n",
        "| **Propiedad**                 | **Efecto en det(A)**                  |  \n",
        "|-------------------------------|---------------------------------------|  \n",
        "| Intercambio de filas/columnas | det(A) → -det(A)                      |  \n",
        "| Multiplicación por escalar    | det(A) → k · det(A)                   |  \n",
        "| Suma de filas/columnas        | det(A) no cambia                      |  \n",
        "| Filas/columnas proporcionales | det(A) = 0                            |  \n",
        "\n",
        "Estas propiedades son fundamentales para calcular determinantes de forma eficiente, especialmente en matrices grandes.\n",
        "\n",
        "\n",
        "\n"
      ],
      "metadata": {
        "id": "9f1yQ1jkyxp2"
      }
    }
  ]
}