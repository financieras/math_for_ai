{
  "nbformat": 4,
  "nbformat_minor": 0,
  "metadata": {
    "colab": {
      "provenance": [],
      "authorship_tag": "ABX9TyOS4uKj84vjlQBT4i9dXBbu",
      "include_colab_link": true
    },
    "kernelspec": {
      "name": "python3",
      "display_name": "Python 3"
    },
    "language_info": {
      "name": "python"
    }
  },
  "cells": [
    {
      "cell_type": "markdown",
      "metadata": {
        "id": "view-in-github",
        "colab_type": "text"
      },
      "source": [
        "<a href=\"https://colab.research.google.com/github/financieras/math_for_ai/blob/main/220_matrices.ipynb\" target=\"_parent\"><img src=\"https://colab.research.google.com/assets/colab-badge.svg\" alt=\"Open In Colab\"/></a>"
      ]
    },
    {
      "cell_type": "markdown",
      "source": [
        "### Ejemplo del taxista\n",
        "[Hoja de cálculo](https://docs.google.com/spreadsheets/d/1RHwkhmq2qKMV5LIjMt43g0VHawsT6M0-rjk0UhjqsC4/edit?usp=sharing)\n",
        "\n",
        "Deseamos conocer la facturación que raliza un taxi en cuatro carreras en las que ha realizado estos kilometrajes: 10, 4, 25, 20.\n",
        "\n",
        "Sabemos que:\n",
        "1. Por bajada de bander se cobra 2.5 euros\n",
        "2. Por kilómetro recorrido se cobra 1.3 euros\n",
        "\n",
        "La ecuación para calcular el importe de una carrera de taxi es una línea recta:\n",
        "$$y = 2,5 + 1,3 x$$\n",
        "\n",
        "donde:\n",
        "- $x$ son los kilómetros recorridos\n",
        "- $y$ es el importe de la carrera, lo que se ha de pagar\n",
        "\n",
        "Al compararlo con el producto matricial que se hace un perceptrón al multiplicar la matriz de pesos $W$ por los valores de la variable independiente $X$, se añade un 1 correspondiente al **bias** o sesgo. Así la recta puede verse como:\n",
        "\n",
        "$$y = 1 \\cdot 2,5 + 1,3 \\cdot x$$\n",
        "\n",
        "Podemos resolverlo de forma matricial, para lo cual necesitamos añadir una columna de unos a la matriz $W$.\n",
        "\n",
        "$$Y = W \\cdot X$$\n",
        "\n",
        "$$Y = \\begin{bmatrix}\n",
        "1 & 10 \\\\\n",
        "1 & 4 \\\\\n",
        "1 & 25 \\\\\n",
        "1 & 20\n",
        "\\end{bmatrix}_{4 \\times 2}\n",
        "\\begin{bmatrix}\n",
        "2.5 \\\\\n",
        "1.3\n",
        "\\end{bmatrix}_{2 \\times 1}\n",
        "=\n",
        "\\begin{bmatrix}\n",
        "15.5 \\\\\n",
        "7.7 \\\\\n",
        "35 \\\\\n",
        "28.5\n",
        "\\end{bmatrix}_{4 \\times 1}$$\n",
        "\n",
        "Para calcular la facturación total simplemente sumamos los importes de estas cuatro carreras.\n",
        "\n",
        "Facturación Total = 15,5 + 7,7 + 35+ 28,5 = 86,7 €."
      ],
      "metadata": {
        "id": "YSz1R0Uxf8c_"
      }
    },
    {
      "cell_type": "code",
      "source": [
        "import numpy as np\n",
        "\n",
        "# Definir el array con los kilómetros recorridos por el taxi en 4 carreras\n",
        "X = np.array([10, 4, 25, 20])\n",
        "\n",
        "# Ampliar X añadiendo una fila de unos\n",
        "X_ampliado = np.vstack([np.ones(X.shape), X])\n",
        "\n",
        "# Definir los pesos, subida de bandera y precio por kilómetro recorrido\n",
        "W = np.array([2.5, 1.3])\n",
        "\n",
        "# Multiplicamos las dos matrices\n",
        "# Calcular el vector: Importes facturados en cada carrera\n",
        "importes = np.dot(W, X_ampliado)\n",
        "\n",
        "print(\"X_ampliado:\")\n",
        "print(X_ampliado)\n",
        "print(\"\\nVector: Importes facturados en cada carrera\")\n",
        "print(importes)\n",
        "print(\"\\nTotal Facturado:\")\n",
        "print(np.sum(importes))\n"
      ],
      "metadata": {
        "colab": {
          "base_uri": "https://localhost:8080/"
        },
        "id": "9owq6TzRaEJw",
        "outputId": "b9fcb8d9-3888-4ad5-ea40-2c9e074737e4"
      },
      "execution_count": 18,
      "outputs": [
        {
          "output_type": "stream",
          "name": "stdout",
          "text": [
            "X_ampliado:\n",
            "[[ 1.  1.  1.  1.]\n",
            " [10.  4. 25. 20.]]\n",
            "\n",
            "Vector: Importes facturados en cada carrera\n",
            "[15.5  7.7 35.  28.5]\n",
            "\n",
            "Total Facturado:\n",
            "86.7\n"
          ]
        }
      ]
    },
    {
      "cell_type": "code",
      "source": [
        "# Si multiplicamos usando la W Transpuesta no da error ya que Numpy es flexible\n",
        "# Además el resultado que se obtiene es idéntico. Numpy se encarga de encajar las dimensiones\n",
        "np.dot(W, X_ampliado)"
      ],
      "metadata": {
        "colab": {
          "base_uri": "https://localhost:8080/"
        },
        "id": "ph9VJ-BwgQn_",
        "outputId": "a49a23ed-a074-4e83-cf04-20b9f4c50804"
      },
      "execution_count": 23,
      "outputs": [
        {
          "output_type": "execute_result",
          "data": {
            "text/plain": [
              "array([15.5,  7.7, 35. , 28.5])"
            ]
          },
          "metadata": {},
          "execution_count": 23
        }
      ]
    }
  ]
}