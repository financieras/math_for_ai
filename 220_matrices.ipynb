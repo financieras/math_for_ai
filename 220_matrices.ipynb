{
 "cells": [
  {
   "cell_type": "markdown",
   "metadata": {},
   "source": [
    "# Conceptos fundamentales de matrices\n",
    "\n",
    "## 1. Definición de matriz\n",
    "\n",
    "Una matriz es una estructura rectangular de datos ordenados en filas y columnas. Matemáticamente, una matriz se puede representar como:\n",
    "\n",
    "$$A = \\begin{pmatrix} \n",
    "a_{11} & a_{12} & \\cdots & a_{1n} \\\\\n",
    "a_{21} & a_{22} & \\cdots & a_{2n} \\\\\n",
    "\\vdots & \\vdots & \\ddots & \\vdots \\\\\n",
    "a_{m1} & a_{m2} & \\cdots & a_{mn}\n",
    "\\end{pmatrix}$$\n",
    "\n",
    "Donde:\n",
    "- $a_{ij}$ representa el elemento ubicado en la fila $i$ y columna $j$.\n",
    "- $m$ es el número de filas.\n",
    "- $n$ es el número de columnas.\n",
    "- La matriz anterior es de dimensión  $ m \\times n $, con $m$ filas y $n$ columnas.\n",
    "\n",
    "En Python, podemos representar matrices utilizando la biblioteca NumPy:"
   ]
  },
  {
   "cell_type": "code",
   "execution_count": 1,
   "metadata": {},
   "outputs": [
    {
     "name": "stdout",
     "output_type": "stream",
     "text": [
      "Matriz A:\n",
      "[[1 2 3]\n",
      " [4 5 6]\n",
      " [7 8 9]]\n"
     ]
    }
   ],
   "source": [
    "import numpy as np\n",
    "\n",
    "# Crear una matriz de 3x3\n",
    "A = np.array([\n",
    "    [1, 2, 3],\n",
    "    [4, 5, 6],\n",
    "    [7, 8, 9]\n",
    "])\n",
    "\n",
    "print(\"Matriz A:\")\n",
    "print(A)"
   ]
  },
  {
   "cell_type": "markdown",
   "metadata": {},
   "source": [
    "### Acceder a los elementos de una matriz\n",
    "En Python podemos acceder a elementos específicos de una matriz utilizando índices."
   ]
  },
  {
   "cell_type": "code",
   "execution_count": 2,
   "metadata": {},
   "outputs": [
    {
     "name": "stdout",
     "output_type": "stream",
     "text": [
      "Elemento A[0,0]: 1\n",
      "Elemento A[1,2]: 6\n",
      "Dimensiones de A: 3×3\n",
      "Número total de elementos: 9\n"
     ]
    }
   ],
   "source": [
    "# Accediendo a elementos de la matriz\n",
    "print(f\"Elemento A[0,0]: {A[0,0]}\")  # Equivalente a a_{11}\n",
    "print(f\"Elemento A[1,2]: {A[1,2]}\")  # Equivalente a a_{23}\n",
    "\n",
    "# Obteniendo dimensiones\n",
    "filas, columnas = A.shape\n",
    "print(f\"Dimensiones de A: {filas}×{columnas}\")\n",
    "print(f\"Número total de elementos: {A.size}\")"
   ]
  },
  {
   "cell_type": "markdown",
   "metadata": {},
   "source": [
    "### Submatrices\n",
    "Una submatriz es una porción de una matriz original.  \n",
    "En Python, podemos extraer submatrices utilizando el sistema de indexación de NumPy:"
   ]
  },
  {
   "cell_type": "code",
   "execution_count": 3,
   "metadata": {},
   "outputs": [
    {
     "name": "stdout",
     "output_type": "stream",
     "text": [
      "Submatriz de A (primeras 2 filas y columnas):\n",
      "[[1 2]\n",
      " [4 5]]\n"
     ]
    }
   ],
   "source": [
    "# Extraer una submatriz (las primeras 2 filas y 2 columnas)\n",
    "submatriz = A[0:2, 0:2]\n",
    "print(\"Submatriz de A (primeras 2 filas y columnas):\")\n",
    "print(submatriz)"
   ]
  },
  {
   "cell_type": "markdown",
   "metadata": {},
   "source": [
    "## 2. Tipos de Matrices\n",
    "\n",
    "Existen varios tipos de matrices según su estructura o propiedades:\n",
    "\n",
    "1. **Matriz cuadrada**: $m = n$ (mismo número de filas y columnas).\n",
    "2. **Matriz fila**: $m = 1$ (una sola fila).\n",
    "3. **Matriz columna**: n = 1 (una sola columna).\n",
    "4. **Matriz nula**: Todos sus elementos son 0.\n",
    "5. **Matriz identidad**: Matriz cuadrada con 1s en la diagonal principal y 0s fuera de ella, denotada $I$.\n",
    "6. **Matriz diagonal**: Solo tiene elementos en la diagonal principal.\n",
    "\n",
    "### Ejemplos\n",
    "\n",
    "$$\n",
    "I_3 = \\begin{bmatrix}\n",
    "1 & 0 & 0 \\\\\n",
    "0 & 1 & 0 \\\\\n",
    "0 & 0 & 1\n",
    "\\end{bmatrix}$$\n",
    "$$\n",
    "\\text{Matriz nula } 2\\times2 = \\begin{bmatrix}\n",
    "0 & 0 \\\\\n",
    "0 & 0\n",
    "\\end{bmatrix}\n",
    "$$"
   ]
  },
  {
   "cell_type": "code",
   "execution_count": 4,
   "metadata": {},
   "outputs": [
    {
     "name": "stdout",
     "output_type": "stream",
     "text": [
      "Matriz cuadrada 3x3:\n",
      "[[1 2 3]\n",
      " [4 5 6]\n",
      " [7 8 9]]\n",
      "\n",
      "Matriz identidad 3x3:\n",
      "[[1. 0. 0.]\n",
      " [0. 1. 0.]\n",
      " [0. 0. 1.]]\n",
      "\n",
      "Matriz fila (1x3):\n",
      "[[1 2 3]]\n",
      "\n",
      "Matriz columna (3x1):\n",
      "[[4]\n",
      " [5]\n",
      " [6]]\n",
      "\n",
      "Matriz nula 2x2:\n",
      "[[0. 0.]\n",
      " [0. 0.]]\n"
     ]
    }
   ],
   "source": [
    "# Matriz cuadrada 3x3\n",
    "cuadrada = np.array([[1, 2, 3],\n",
    "                     [4, 5, 6],\n",
    "                     [7, 8, 9]])\n",
    "print(\"Matriz cuadrada 3x3:\")\n",
    "print(cuadrada)\n",
    "\n",
    "# Matriz identidad 3x3\n",
    "identidad = np.eye(3)\n",
    "print(\"\\nMatriz identidad 3x3:\")\n",
    "print(identidad)\n",
    "\n",
    "# Matriz fila y columna\n",
    "fila = np.array([[1, 2, 3]])\n",
    "columna = np.array([[4], [5], [6]])\n",
    "print(\"\\nMatriz fila (1x3):\")\n",
    "print(fila)\n",
    "print(\"\\nMatriz columna (3x1):\")\n",
    "print(columna)\n",
    "\n",
    "# Matriz nula 2x2\n",
    "nula = np.zeros((2, 2))\n",
    "print(\"\\nMatriz nula 2x2:\")\n",
    "print(nula)"
   ]
  },
  {
   "cell_type": "markdown",
   "metadata": {},
   "source": [
    "## 3. Operaciones Básicas con Matrices\n",
    "\n",
    "### Suma y Resta\n",
    "Dos matrices $A$ y $B$ de las mismas dimensiones se suman/restan elemento a elemento:\n",
    "$$\n",
    "C = A + B, \\quad c_{ij} = a_{ij} + b_{ij}\n",
    "$$\n",
    "\n",
    "### Multiplicación por Escalar\n",
    "Un escalar $k$ multiplica cada elemento de la matriz:\n",
    "$$\n",
    "C = kA, \\quad c_{ij} = k \\cdot a_{ij}\n",
    "$$"
   ]
  },
  {
   "cell_type": "code",
   "execution_count": 5,
   "metadata": {},
   "outputs": [
    {
     "name": "stdout",
     "output_type": "stream",
     "text": [
      "Suma A + B:\n",
      "[[ 6  8]\n",
      " [10 12]]\n",
      "\n",
      "Resta A - B:\n",
      "[[-4 -4]\n",
      " [-4 -4]]\n",
      "\n",
      "Multiplicación de A por escalar 0.5:\n",
      "[[0.5 1. ]\n",
      " [1.5 2. ]]\n"
     ]
    }
   ],
   "source": [
    "# Definimos dos matrices 2x2\n",
    "A = np.array([[1, 2],\n",
    "              [3, 4]])\n",
    "B = np.array([[5, 6],\n",
    "              [7, 8]])\n",
    "\n",
    "# Suma\n",
    "suma = A + B\n",
    "print(\"Suma A + B:\")\n",
    "print(suma)\n",
    "\n",
    "# Resta\n",
    "resta = A - B\n",
    "print(\"\\nResta A - B:\")\n",
    "print(resta)\n",
    "\n",
    "# Multiplicación por escalar (normalización simple)\n",
    "k = 0.5\n",
    "escalada = k * A\n",
    "print(\"\\nMultiplicación de A por escalar 0.5:\")\n",
    "print(escalada)"
   ]
  },
  {
   "cell_type": "markdown",
   "metadata": {},
   "source": [
    "## 4. Combinación Lineal\n",
    "\n",
    "Una **combinación lineal** de vectores $ \\mathbf{v_1}, \\mathbf{v_2}, \\ldots, \\mathbf{v_n} $ es:\n",
    "$$\n",
    "\\mathbf{w} = c_1 \\mathbf{v_1} + c_2 \\mathbf{v_2} + \\cdots + c_n \\mathbf{v_n}\n",
    "$$\n",
    "El espacio generado es el conjunto de todas las combinaciones lineales.\n",
    "\n",
    "### Ejemplo\n",
    "Para $ \\mathbf{v_1} = [1, 0] $, $ \\mathbf{v_2} = [0, 1] $:\n",
    "$$\n",
    "\\mathbf{w} = 2 \\mathbf{v_1} + 3 \\mathbf{v_2} = [2, 3]\n",
    "$$"
   ]
  },
  {
   "cell_type": "code",
   "execution_count": 6,
   "metadata": {},
   "outputs": [
    {
     "name": "stdout",
     "output_type": "stream",
     "text": [
      "Combinación lineal w: [2 3]\n"
     ]
    }
   ],
   "source": [
    "# Vectores base\n",
    "v1 = np.array([1, 0])\n",
    "v2 = np.array([0, 1])\n",
    "\n",
    "# Combinación lineal\n",
    "w = 2 * v1 + 3 * v2\n",
    "print(\"Combinación lineal w:\", w)"
   ]
  },
  {
   "cell_type": "markdown",
   "metadata": {},
   "source": [
    "## 5. Interpolación lineal con matrices\n",
    "Sí tiene sentido este concepto en ciertos contextos, pero no en el sentido tradicional de interpolación entre puntos individuales.  \n",
    "En el caso, la interpolación lineal con matrices puede interpretarse como una aproximación o transición entre dos matrices mediante una combinación lineal.  \n",
    "Esto se utiliza en aplicaciones como animaciones, gráficos computacionales y transformaciones geométricas.\n",
    "\n",
    "### Interpolación lineal entre matrices:\n",
    "Dadas dos matrices $A$ y $B$ del mismo tamaño, la interpolación lineal se define como:\n",
    "$$\n",
    "M(t) = (1 - t)A + tB\n",
    "$$\n",
    "donde:\n",
    "- $t \\in[0, 1]$ es el parámetro de interpolación.\n",
    "- $M(t)$ es la matriz interpolada para un valor específico de $t$.\n",
    "\n",
    "### Propiedades:\n",
    "1. Cuando $t = 0 \\Rightarrow M(t) = A$.\n",
    "2. Cuando $t = 1 \\Rightarrow M(t) = B$.\n",
    "3. Para valores intermedios de $t$, $M(t)$ es una combinación ponderada de las dos matrices.\n",
    "\n",
    "### Aplicaciones:\n",
    "- **Gráficos computacionales**: Para transiciones suaves entre transformaciones representadas por matrices.\n",
    "- **Modelado físico**: En simulaciones donde se necesita interpolar entre estados representados por matrices.\n",
    "- **Interpolación de datos tabulados**: Si los datos están organizados en forma matricial, se puede aplicar interpolación línea a cada entrada.\n",
    "\n",
    "Es importante que las matrices involucradas tengan las mismas dimensiones para que la operación esté definida."
   ]
  },
  {
   "cell_type": "code",
   "execution_count": 7,
   "metadata": {},
   "outputs": [
    {
     "name": "stdout",
     "output_type": "stream",
     "text": [
      "Interpolación lineal entre las matrices A y B:\n",
      "\n",
      "Para t = 0:\n",
      "[[1 2]\n",
      " [3 4]]\n",
      "\n",
      "Para t = 0.25:\n",
      "[[2. 3.]\n",
      " [4. 5.]]\n",
      "\n",
      "Para t = 0.5:\n",
      "[[3. 4.]\n",
      " [5. 6.]]\n",
      "\n",
      "Para t = 0.75:\n",
      "[[4. 5.]\n",
      " [6. 7.]]\n",
      "\n",
      "Para t = 1:\n",
      "[[5 6]\n",
      " [7 8]]\n"
     ]
    }
   ],
   "source": [
    "import numpy as np\n",
    "\n",
    "# Definimos las matrices A y B\n",
    "A = np.array([[1, 2], [3, 4]])\n",
    "B = np.array([[5, 6], [7, 8]])\n",
    "\n",
    "# Función para interpolación lineal entre matrices\n",
    "def interpolate_matrices(A, B, t):\n",
    "    \"\"\"\n",
    "    Interpolación lineal entre dos matrices A y B.\n",
    "    t: parámetro de interpolación (0 <= t <= 1)\n",
    "    \"\"\"\n",
    "    return (1 - t) * A + t * B\n",
    "\n",
    "# Ejemplo: Interpolamos para diferentes valores de t\n",
    "t_values = [0, 0.25, 0.5, 0.75, 1]  # Valores de t entre 0 y 1\n",
    "\n",
    "print(\"Interpolación lineal entre las matrices A y B:\")\n",
    "for t in t_values:\n",
    "    M_t = interpolate_matrices(A, B, t)\n",
    "    print(f\"\\nPara t = {t}:\")\n",
    "    print(M_t)\n"
   ]
  },
  {
   "cell_type": "markdown",
   "metadata": {},
   "source": [
    "## 5. Multiplicación de Matrices\n",
    "\n",
    "La multiplicación de matrices $A$ (de $m \\times p $) y $ B $ (de $p \\times n$) produce una matriz $C$ de $m \\times n$). El elemento $c_{ij}$ se calcula como:\n",
    "$$\n",
    "c_{ij} = \\sum_{k=1}^{p} a_{ik} \\cdot b_{kj}\n",
    "$$\n",
    "\n",
    "### Condición\n",
    "Las columnas de $A$ deben igualar las filas de $B$.\n",
    "\n",
    "### Aplicación en Deep Learning\n",
    "- Capas lineales: $W \\cdot X$, donde $W$ es la matriz de pesos y $X$ el vector de entrada.\n",
    "\n",
    "### Ejemplo\n",
    "$$\n",
    "A = \\begin{bmatrix} 1 & 2 \\\\ 3 & 4 \\end{bmatrix}, \\quad\n",
    "B = \\begin{bmatrix} 5 & 6 \\\\ 7 & 8 \\end{bmatrix}, \\quad\n",
    "A \\cdot B = \\begin{bmatrix} 19 & 22 \\\\ 43 & 50 \\end{bmatrix}\n",
    "$$\n"
   ]
  },
  {
   "cell_type": "code",
   "execution_count": 8,
   "metadata": {},
   "outputs": [
    {
     "name": "stdout",
     "output_type": "stream",
     "text": [
      "Multiplicación A · B:\n",
      "[[19 22]\n",
      " [43 50]]\n",
      "\n",
      "Salida de capa lineal W · X:\n",
      "[[0.11]\n",
      " [0.16]]\n"
     ]
    }
   ],
   "source": [
    "# Matrices 2x2\n",
    "A = np.array([[1, 2],\n",
    "              [3, 4]])\n",
    "B = np.array([[5, 6],\n",
    "              [7, 8]])\n",
    "\n",
    "# Multiplicación\n",
    "C = np.dot(A, B)  # o A @ B\n",
    "print(\"Multiplicación A · B:\")\n",
    "print(C)\n",
    "\n",
    "# Ejemplo Deep Learning: Capa lineal\n",
    "X = np.array([[0.1], [0.2]])  # Entrada (2 características)\n",
    "W = np.array([[0.5, 0.3],     # Pesos (2 entradas, 2 salidas)\n",
    "              [0.4, 0.6]])\n",
    "salida = np.dot(W, X)\n",
    "print(\"\\nSalida de capa lineal W · X:\")\n",
    "print(salida)"
   ]
  },
  {
   "cell_type": "markdown",
   "metadata": {},
   "source": [
    "## 6. Transpuesta de una Matriz\n",
    "\n",
    "La **transpuesta** de una matriz $A$, denotada $A^T$, intercambia filas por columnas:\n",
    "$$\n",
    "(A^T)_{ij} = A_{ji}\n",
    "$$\n",
    "\n",
    "### Propiedades\n",
    "- $(A^T)^T = A$\n",
    "- $(A + B)^T = A^T + B^T$\n",
    "\n",
    "### Ejemplo\n",
    "$$\n",
    "A = \\begin{bmatrix} 1 & 2 \\\\ 3 & 4 \\\\ 5 & 6 \\end{bmatrix}, \\quad\n",
    "A^T = \\begin{bmatrix} 1 & 3 & 5 \\\\ 2 & 4 & 6 \\end{bmatrix}\n",
    "$$"
   ]
  },
  {
   "cell_type": "code",
   "execution_count": 9,
   "metadata": {},
   "outputs": [
    {
     "name": "stdout",
     "output_type": "stream",
     "text": [
      "Matriz A:\n",
      "[[1 2]\n",
      " [3 4]\n",
      " [5 6]]\n",
      "\n",
      "Transpuesta A^T:\n",
      "[[1 3 5]\n",
      " [2 4 6]]\n",
      "\n",
      "Producto X^T · X (covarianza aproximada):\n",
      "[[0.05 0.11]\n",
      " [0.11 0.34]]\n"
     ]
    }
   ],
   "source": [
    "# Matriz 3x2\n",
    "A = np.array([[1, 2],\n",
    "              [3, 4],\n",
    "              [5, 6]])\n",
    "\n",
    "# Transpuesta\n",
    "A_T = A.T  # o np.transpose(A)\n",
    "print(\"Matriz A:\")\n",
    "print(A)\n",
    "print(\"\\nTranspuesta A^T:\")\n",
    "print(A_T)\n",
    "\n",
    "# Ejemplo en IA: Producto X^T · X\n",
    "X = np.array([[0.1, 0.5],\n",
    "              [0.2, 0.3]])\n",
    "X_T = X.T\n",
    "resultado = np.dot(X_T, X)\n",
    "print(\"\\nProducto X^T · X (covarianza aproximada):\")\n",
    "print(resultado)"
   ]
  },
  {
   "cell_type": "markdown",
   "metadata": {},
   "source": [
    "## 7. Producto Escalar (de Vectores)\n",
    "\n",
    "El **producto escalar** entre dos vectores $ \\mathbf{u} $ y $ \\mathbf{v} $ de igual longitud $ n $ se define como:\n",
    "\n",
    "$$\n",
    "\\mathbf{u} \\cdot \\mathbf{v} = u_1 v_1 + u_2 v_2 + \\cdots + u_n v_n = \\sum_{i=1}^{n} u_i v_i\n",
    "$$\n",
    "\n",
    "En términos de matrices, si $ \\mathbf{u} $ es un vector fila ($ 1 \\times n $) y $ \\mathbf{v} $ es un vector columna ($ n \\times 1 $), el producto escalar es $ \\mathbf{u} \\cdot \\mathbf{v} $.\n",
    "\n",
    "### Propiedades\n",
    "- Conmutativa: $ \\mathbf{u} \\cdot \\mathbf{v} = \\mathbf{v} \\cdot \\mathbf{u} $.\n",
    "- Distributiva: $ \\mathbf{u} \\cdot (\\mathbf{v} + \\mathbf{w}) = \\mathbf{u} \\cdot \\mathbf{v} + \\mathbf{u} \\cdot \\mathbf{w} $.\n",
    "\n",
    "### Ejemplo\n",
    "Para $ \\mathbf{u} = [1, 2, 3] $ y $ \\mathbf{v} = [4, 5, 6] $:\n",
    "$$\n",
    "\\mathbf{u} \\cdot \\mathbf{v} = 1 \\cdot 4 + 2 \\cdot 5 + 3 \\cdot 6 = 4 + 10 + 18 = 32\n",
    "$$"
   ]
  },
  {
   "cell_type": "code",
   "execution_count": 10,
   "metadata": {},
   "outputs": [
    {
     "name": "stdout",
     "output_type": "stream",
     "text": [
      "Producto escalar: u · v = 32\n"
     ]
    }
   ],
   "source": [
    "import numpy as np\n",
    "\n",
    "# Vectores\n",
    "u = np.array([1, 2, 3])\n",
    "v = np.array([4, 5, 6])\n",
    "\n",
    "# Producto escalar\n",
    "producto_escalar = np.dot(u, v)\n",
    "print(\"Producto escalar: u · v =\", producto_escalar)"
   ]
  },
  {
   "cell_type": "markdown",
   "metadata": {},
   "source": [
    "## 8. Norma de un Vector y de una Matriz\n",
    "\n",
    "La **norma** mide la \"longitud\" o \"magnitud\" de un vector o matriz.\n",
    "\n",
    "### Norma de un Vector\n",
    "La norma más común es la norma euclidiana (L2):\n",
    "$$\n",
    "||\\mathbf{u}|| = \\sqrt{u_1^2 + u_2^2 + \\cdots + u_n^2} = \\sqrt{\\sum_{i=1}^{n} u_i^2}\n",
    "$$\n",
    "\n",
    "### Norma de una Matriz\n",
    "La norma de Frobenius de una matriz $ A $ es:\n",
    "$$\n",
    "||A||_F = \\sqrt{\\sum_{i=1}^{m} \\sum_{j=1}^{n} a_{ij}^2}\n",
    "$$\n",
    "\n",
    "### Ejemplo\n",
    "- Vector $ \\mathbf{u} = [3, 4] $:\n",
    "$$\n",
    "||\\mathbf{u}|| = \\sqrt{3^2 + 4^2} = \\sqrt{25} = 5\n",
    "$$\n",
    "- Matriz $ A = \\begin{bmatrix} 1 & 2 \\\\ 3 & 4 \\end{bmatrix} $:\n",
    "$$\n",
    "||A||_F = \\sqrt{1^2 + 2^2 + 3^2 + 4^2} = \\sqrt{30} \\approx 5.477\n",
    "$$"
   ]
  },
  {
   "cell_type": "code",
   "execution_count": 11,
   "metadata": {},
   "outputs": [
    {
     "name": "stdout",
     "output_type": "stream",
     "text": [
      "Norma de u:\n",
      "5.0\n",
      "\n",
      "Norma de Frobenius de A:\n",
      "5.477225575051661\n"
     ]
    }
   ],
   "source": [
    "# Norma de un vector\n",
    "u = np.array([3, 4])\n",
    "norma_u = np.linalg.norm(u)\n",
    "print(\"Norma de u:\")\n",
    "print(norma_u)\n",
    "\n",
    "# Norma de Frobenius de una matriz\n",
    "A = np.array([[1, 2],\n",
    "              [3, 4]])\n",
    "norma_A = np.linalg.norm(A)\n",
    "print(\"\\nNorma de Frobenius de A:\")\n",
    "print(norma_A)"
   ]
  },
  {
   "cell_type": "markdown",
   "metadata": {},
   "source": [
    "## 9. Coseno de Similitud\n",
    "\n",
    "El **coseno** entre dos vectores $ \\mathbf{u} $ y $ \\mathbf{v} $ mide el ángulo entre ellos:\n",
    "$$\n",
    "\\cos(\\theta) = \\frac{\\mathbf{u} \\cdot \\mathbf{v}}{||\\mathbf{u}|| \\cdot ||\\mathbf{v}||}\n",
    "$$\n",
    "\n",
    "### Interpretación\n",
    "- $ \\cos(\\theta) = 1 $: Vectores paralelos en la misma dirección.\n",
    "- $ \\cos(\\theta) = 0 $: Vectores perpendiculares.\n",
    "- $ \\cos(\\theta) = -1 $: Vectores en direcciones opuestas.\n",
    "\n",
    "### Ejemplo\n",
    "Para $ \\mathbf{u} = [1, 0] $ y $ \\mathbf{v} = [0, 1] $:\n",
    "$$\n",
    "\\cos(\\theta) = \\frac{1 \\cdot 0 + 0 \\cdot 1}{\\sqrt{1^2 + 0^2} \\cdot \\sqrt{0^2 + 1^2}} = \\frac{0}{1 \\cdot 1} = 0\n",
    "$$"
   ]
  },
  {
   "cell_type": "code",
   "execution_count": 12,
   "metadata": {},
   "outputs": [
    {
     "name": "stdout",
     "output_type": "stream",
     "text": [
      "Coseno entre u y v:\n",
      "0.0\n"
     ]
    }
   ],
   "source": [
    "# Vectores\n",
    "u = np.array([1, 0])\n",
    "v = np.array([0, 1])\n",
    "\n",
    "# Coseno\n",
    "coseno = np.dot(u, v) / (np.linalg.norm(u) * np.linalg.norm(v))\n",
    "print(\"Coseno entre u y v:\")\n",
    "print(coseno)"
   ]
  },
  {
   "cell_type": "markdown",
   "metadata": {},
   "source": [
    "## 10. Producto cruz\n",
    "El **producto cruz** (o producto vectorial) de dos vectores $\\mathbf{u}$ y $\\mathbf{v}$ en $\\mathbb{R}^3$ produce un vector perpendicular a ambos. Se denota como $\\mathbf{u} \\times \\mathbf{v}$ y se define como:\n",
    "\n",
    "$$\n",
    "\\mathbf{u} \\times \\mathbf{v} = (u_y v_z - u_z v_y, u_z v_x - u_x v_z, u_x v_y - u_y v_x)\n",
    "$$\n",
    "\n",
    "Donde $\\mathbf{u} = (u_x, u_y, u_z)$ y $\\mathbf{v} = (v_x, v_y, v_z)$.\n",
    "\n",
    "### Propiedades\n",
    "- El resultado es ortogonal a $\\mathbf{u}$ y $\\mathbf{v}$.\n",
    "- Su magnitud es $||\\mathbf{u} \\times \\mathbf{v}|| = ||\\mathbf{u}|| ||\\mathbf{v}|| \\sin(\\theta)$, donde $\\theta$ es el ángulo entre los vectores.\n",
    "- Es anticommutativo: $\\mathbf{u} \\times \\mathbf{v} = -(\\mathbf{v} \\times \\mathbf{u})$.\n",
    "\n",
    "### Fórmula matricial\n",
    "Puede calcularse como el determinante de una matriz:\n",
    "\n",
    "$$\n",
    "\\mathbf{u} \\times \\mathbf{v} = \\det \\begin{bmatrix} \\mathbf{i} & \\mathbf{j} & \\mathbf{k} \\\\ u_x & u_y & u_z \\\\ v_x & v_y & v_z \\end{bmatrix}\n",
    "$$\n",
    "\n",
    "Donde $\\mathbf{i}, \\mathbf{j}, \\mathbf{k}$ son los vectores unitarios en $x, y, z$.\n",
    "\n",
    "---\n",
    "\n",
    "## Ejemplo resuelto\n",
    "\n",
    "Calculemos $\\mathbf{u} \\times \\mathbf{v}$ para:\n",
    "\n",
    "- $\\mathbf{u} = (1, 2, 3)$\n",
    "- $\\mathbf{v} = (4, 5, 6)$\n",
    "\n",
    "### Cálculo manual\n",
    "Usamos la fórmula:\n",
    "\n",
    "$$\n",
    "\\mathbf{u} \\times \\mathbf{v} = (u_y v_z - u_z v_y, u_z v_x - u_x v_z, u_x v_y - u_y v_x)\n",
    "$$\n",
    "\n",
    "- Componente $x$: $u_y v_z - u_z v_y = 2 \\cdot 6 - 3 \\cdot 5 = 12 - 15 = -3$\n",
    "- Componente $y$: $u_z v_x - u_x v_z = 3 \\cdot 4 - 1 \\cdot 6 = 12 - 6 = 6$\n",
    "- Componente $z$: $u_x v_y - u_y v_x = 1 \\cdot 5 - 2 \\cdot 4 = 5 - 8 = -3$\n",
    "\n",
    "Resultado: $\\mathbf{u} \\times \\mathbf{v} = (-3, 6, -3)$\n",
    "\n",
    "**Verificación**\n",
    "\n",
    "El vector $[-3, 6, -3]$ es perpendicular a $\\mathbf{u}$ y $\\mathbf{v}$. Podemos confirmarlo con el producto escalar:\n",
    "\n",
    "- $\\mathbf{u} \\cdot (\\mathbf{u} \\times \\mathbf{v}) = 1 \\cdot (-3) + 2 \\cdot 6 + 3 \\cdot (-3) = -3 + 12 - 9 = 0$\n",
    "- $\\mathbf{v} \\cdot (\\mathbf{u} \\times \\mathbf{v}) = 4 \\cdot (-3) + 5 \\cdot 6 + 6 \\cdot (-3) = -12 + 30 - 18 = 0$\n",
    "\n",
    "Ambos son 0, lo que confirma la ortogonalidad."
   ]
  },
  {
   "cell_type": "code",
   "execution_count": 13,
   "metadata": {},
   "outputs": [
    {
     "name": "stdout",
     "output_type": "stream",
     "text": [
      "Producto cruz u × v: [-3  6 -3]\n"
     ]
    }
   ],
   "source": [
    "import numpy as np\n",
    "\n",
    "# Definimos los vectores\n",
    "u = np.array([1, 2, 3])\n",
    "v = np.array([4, 5, 6])\n",
    "\n",
    "# Producto cruz con NumPy\n",
    "resultado = np.cross(u, v)\n",
    "\n",
    "print(\"Producto cruz u × v:\", resultado)"
   ]
  },
  {
   "cell_type": "markdown",
   "metadata": {},
   "source": [
    "## 11. Traza de una Matriz\n",
    "\n",
    "La **traza** de una matriz cuadrada $ A $ de orden $ n \\times n $ es la suma de los elementos de su diagonal principal:\n",
    "$$\n",
    "\\text{tr}(A) = a_{11} + a_{22} + \\cdots + a_{nn} = \\sum_{i=1}^{n} a_{ii}\n",
    "$$\n",
    "\n",
    "### Ejemplo\n",
    "Para $ A = \\begin{bmatrix} 1 & 2 & 3 \\\\ 4 & 5 & 6 \\\\ 7 & 8 & 9 \\end{bmatrix} $:\n",
    "$$\n",
    "\\text{tr}(A) = 1 + 5 + 9 = 15\n",
    "$$"
   ]
  },
  {
   "cell_type": "code",
   "execution_count": 14,
   "metadata": {},
   "outputs": [
    {
     "name": "stdout",
     "output_type": "stream",
     "text": [
      "Traza de A:\n",
      "15\n"
     ]
    }
   ],
   "source": [
    "# Matriz cuadrada\n",
    "A = np.array([[1, 2, 3],\n",
    "              [4, 5, 6],\n",
    "              [7, 8, 9]])\n",
    "\n",
    "# Traza\n",
    "traza = np.trace(A)\n",
    "print(\"Traza de A:\")\n",
    "print(traza)"
   ]
  },
  {
   "cell_type": "markdown",
   "metadata": {},
   "source": [
    "## 12. Determinante\n",
    "\n",
    "El **determinante** de una matriz cuadrada mide su \"volumen\" o si es invertible. Para una matriz $ 2 \\times 2 $:\n",
    "$$\n",
    "A = \\begin{bmatrix} a & b \\\\ c & d \\end{bmatrix}, \\quad \\det(A) = ad - bc\n",
    "$$\n",
    "\n",
    "### Ejemplo\n",
    "Para $ A = \\begin{bmatrix} 1 & 2 \\\\ 3 & 4 \\end{bmatrix} $:\n",
    "$$\n",
    "\\det(A) = 1 \\cdot 4 - 2 \\cdot 3 = 4 - 6 = -2\n",
    "$$"
   ]
  },
  {
   "cell_type": "code",
   "execution_count": 15,
   "metadata": {},
   "outputs": [
    {
     "name": "stdout",
     "output_type": "stream",
     "text": [
      "Determinante de A:\n",
      "-2.0000000000000004\n"
     ]
    }
   ],
   "source": [
    "# Matriz 2x2\n",
    "A = np.array([[1, 2],\n",
    "              [3, 4]])\n",
    "\n",
    "# Determinante\n",
    "det = np.linalg.det(A)\n",
    "print(\"Determinante de A:\")\n",
    "print(det)"
   ]
  },
  {
   "cell_type": "markdown",
   "metadata": {},
   "source": [
    "## 13. Matriz Inversa\n",
    "\n",
    "La **inversa** de una matriz cuadrada $ A $, denotada $ A^{-1} $, satisface:\n",
    "$$\n",
    "A \\cdot A^{-1} = I\n",
    "$$\n",
    "Existe si $ \\det(A) \\neq 0 $. Para $ 2 \\times 2 $:\n",
    "$$\n",
    "A = \\begin{bmatrix} a & b \\\\ c & d \\end{bmatrix}, \\quad A^{-1} = \\frac{1}{\\det(A)} \\begin{bmatrix} d & -b \\\\ -c & a \\end{bmatrix}\n",
    "$$\n",
    "\n",
    "### Ejemplo\n",
    "Para $ A = \\begin{bmatrix} 1 & 2 \\\\ 3 & 4 \\end{bmatrix} $:\n",
    "$$\n",
    "A^{-1} = \\frac{1}{-2} \\begin{bmatrix} 4 & -2 \\\\ -3 & 1 \\end{bmatrix} = \\begin{bmatrix} -2 & 1 \\\\ 1.5 & -0.5 \\end{bmatrix}\n",
    "$$\n",
    "\n",
    "Comprobación de que $A \\cdot A^{-1} = I$\n",
    "\n",
    "$$\n",
    "A \\cdot A^{-1} = \\begin{bmatrix} 1 & 2 \\\\ 3 & 4 \\end{bmatrix} \\cdot \\begin{bmatrix} -2 & 1 \\\\ 1.5 & -0.5 \\end{bmatrix} = \\begin{bmatrix} 1 & 0 \\\\ 0 & 1 \\end{bmatrix} = I\n",
    "$$\n"
   ]
  },
  {
   "cell_type": "code",
   "execution_count": 16,
   "metadata": {},
   "outputs": [
    {
     "name": "stdout",
     "output_type": "stream",
     "text": [
      "Inversa de A:\n",
      "[[-2.   1. ]\n",
      " [ 1.5 -0.5]]\n",
      "\n",
      "Verificación A · A^(-1):\n",
      "[[1.0000000e+00 0.0000000e+00]\n",
      " [8.8817842e-16 1.0000000e+00]]\n",
      "\n",
      "Resultado de A · A^(-1) (redondeado):\n",
      "[[1. 0.]\n",
      " [0. 1.]]\n"
     ]
    }
   ],
   "source": [
    "# Matriz 2x2\n",
    "A = np.array([[1, 2],\n",
    "              [3, 4]])\n",
    "\n",
    "# Inversa\n",
    "A_inv = np.linalg.inv(A)\n",
    "print(\"Inversa de A:\")\n",
    "print(A_inv)\n",
    "\n",
    "# Verificación: A · A^-1 = I\n",
    "print(\"\\nVerificación A · A^(-1):\")\n",
    "resultado = np.dot(A, A_inv)\n",
    "print(resultado)\n",
    "print()\n",
    "\n",
    "# Redondeamos a 10 decimales\n",
    "resultado_redondeado = np.round(resultado, decimals=10)\n",
    "\n",
    "print(\"Resultado de A · A^(-1) (redondeado):\")\n",
    "print(resultado_redondeado)"
   ]
  },
  {
   "cell_type": "markdown",
   "metadata": {},
   "source": [
    "## 14. Sistemas de Ecuaciones Lineales\n",
    "\n",
    "Un sistema de ecuaciones lineales se escribe como $ A \\mathbf{x} = \\mathbf{b} $, donde $ A $ es la matriz de coeficientes, $ \\mathbf{x} $ el vector de incógnitas y $ \\mathbf{b} $ el vector de términos independientes.\n",
    "\n",
    "### Ejemplo\n",
    "$$\n",
    "\\begin{cases}\n",
    "2x + 3y = 8 \\\\\n",
    "x - y = 1\n",
    "\\end{cases}\n",
    "$$\n",
    "En forma matricial:\n",
    "$$\n",
    "\\begin{bmatrix} 2 & 3 \\\\ 1 & -1 \\end{bmatrix} \\begin{bmatrix} x \\\\ y \\end{bmatrix} = \\begin{bmatrix} 8 \\\\ 1 \\end{bmatrix}\n",
    "$$\n",
    "\n",
    "Solución con inversa: $$ \\mathbf{x} = A^{-1} \\cdot \\mathbf{b} $$\n",
    "\n",
    "**_Demostración_**\n",
    "\n",
    "Partimos de la expresión matricial del sistema de ecuaciones y queremos despejar $\\mathbf{x}$:\n",
    "\n",
    "$$ A \\mathbf{x} = \\mathbf{b} $$\n",
    "\n",
    "Premultiplicamos por la inversa de $A$ en ambos lados de la ecuación:\n",
    "\n",
    "$$ A^{-1} \\cdot A \\cdot \\mathbf{x} = A^{-1} \\cdot \\mathbf{b} $$\n",
    "\n",
    "Sabemos que la inversa de $A$ por $A$ es la matriz identidad $I$.\n",
    "\n",
    "$ A^{-1} \\cdot A = I$\n",
    "\n",
    "Nos ha quedado lo siguiente:\n",
    "\n",
    "$$ I \\cdot \\mathbf{x} = A^{-1} \\cdot \\mathbf{b} $$\n",
    "\n",
    "También sabemos que la matriz identidad $I$ por $\\mathbf{x}$ es igual a $\\mathbf{x}$.\n",
    "\n",
    "$ I \\cdot \\mathbf{x} = x$\n",
    "\n",
    "Con esto ya hemos conseguido despejar $\\mathbf{x}$:\n",
    "\n",
    "$$ \\mathbf{x} = A^{-1} \\cdot \\mathbf{b} $$"
   ]
  },
  {
   "cell_type": "code",
   "execution_count": 17,
   "metadata": {},
   "outputs": [
    {
     "name": "stdout",
     "output_type": "stream",
     "text": [
      "Solución x, y:\n",
      "[2.2 1.2]\n"
     ]
    }
   ],
   "source": [
    "# Matriz de coeficientes y vector b\n",
    "A = np.array([[2, 3],\n",
    "              [1, -1]])\n",
    "b = np.array([8, 1])\n",
    "\n",
    "# Solución\n",
    "#x = np.linalg.solve(A, b)  # o mejor con np.dot(np.linalg.inv(A), b)\n",
    "x = np.dot(np.linalg.inv(A), b)\n",
    "\n",
    "print(\"Solución x, y:\")\n",
    "print(x)"
   ]
  },
  {
   "cell_type": "markdown",
   "metadata": {},
   "source": [
    "## 15. Forma Escalonada y Reducción\n",
    "\n",
    "La **forma escalonada** de una matriz se obtiene aplicando eliminación gaussiana. Una matriz está en forma escalonada si:\n",
    "- Las filas no nulas están sobre las filas de ceros.\n",
    "- El primer elemento no nulo de cada fila (pivote) está a la derecha del pivote de la fila anterior.\n",
    "\n",
    "### Ejemplo\n",
    "Matriz $ A = \\begin{bmatrix} 1 & 2 & 3 \\\\ 2 & 4 & 5 \\end{bmatrix} $ se reduce a:\n",
    "$$\n",
    "\\begin{bmatrix} 1 & 2 & 0 \\\\ 0 & 0 & 1 \\end{bmatrix}\n",
    "$$\n",
    "\n",
    "Nota:  \n",
    "NumPy no tiene una función directa para forma escalonada; usamos eliminación manual o bibliotecas como SymPy para ejemplos básicos"
   ]
  },
  {
   "cell_type": "code",
   "execution_count": 18,
   "metadata": {},
   "outputs": [
    {
     "name": "stdout",
     "output_type": "stream",
     "text": [
      "Forma escalonada de A:\n",
      "[[1 2 0]\n",
      " [0 0 1]]\n"
     ]
    }
   ],
   "source": [
    "# Usamos SymPy para reducción\n",
    "from sympy import Matrix\n",
    "\n",
    "A = Matrix([[1, 2, 3],\n",
    "            [2, 4, 5]])\n",
    "escalonada, _ = A.rref()\n",
    "print(\"Forma escalonada de A:\")\n",
    "print(np.array(escalonada))"
   ]
  },
  {
   "cell_type": "code",
   "execution_count": 19,
   "metadata": {},
   "outputs": [
    {
     "name": "stdout",
     "output_type": "stream",
     "text": [
      "Forma escalonada de A:\n",
      "[[1 0 0 5]\n",
      " [0 1 0 -1]\n",
      " [0 0 1 -1]]\n"
     ]
    }
   ],
   "source": [
    "A = Matrix([[1, 1, 1, 3],\n",
    "            [1, 2, 3, 0],\n",
    "            [1, 3, 4, -2]])\n",
    "escalonada, _ = A.rref()\n",
    "print(\"Forma escalonada de A:\")\n",
    "print(np.array(escalonada))"
   ]
  },
  {
   "cell_type": "markdown",
   "metadata": {},
   "source": [
    "## 16. Rango de una Matriz\n",
    "\n",
    "El **rango** de una matriz es el número de filas o columnas linealmente independientes, equivalente al número de pivotes en su forma escalonada.\n",
    "\n",
    "### Ejemplo\n",
    "Para $ A = \\begin{bmatrix} 1 & 2 \\\\ 2 & 4 \\end{bmatrix} $, la forma escalonada es:\n",
    "$$\n",
    "\\begin{bmatrix} 1 & 2 \\\\ 0 & 0 \\end{bmatrix}\n",
    "$$\n",
    "Rango = 1."
   ]
  },
  {
   "cell_type": "code",
   "execution_count": 20,
   "metadata": {},
   "outputs": [
    {
     "name": "stdout",
     "output_type": "stream",
     "text": [
      "Rango de A: 1\n"
     ]
    }
   ],
   "source": [
    "# Matriz\n",
    "A = np.array([[1, 2],\n",
    "              [2, 4]])\n",
    "\n",
    "# Rango\n",
    "rango = np.linalg.matrix_rank(A)\n",
    "print(\"Rango de A:\", rango)"
   ]
  },
  {
   "cell_type": "markdown",
   "metadata": {},
   "source": [
    "## 17. Transformaciones Lineales\n",
    "\n",
    "Una matriz $ A $ define una transformación lineal $ T(\\mathbf{x}) = A \\mathbf{x} $. Ejemplo: Rotación, escalado.\n",
    "\n",
    "### Ejemplo\n",
    "Rotación 90° en 2D:\n",
    "$$\n",
    "A = \\begin{bmatrix} 0 & -1 \\\\ 1 & 0 \\end{bmatrix}, \\quad T\\left(\\begin{bmatrix} 1 \\\\ 0 \\end{bmatrix}\\right) = \\begin{bmatrix} 0 \\\\ 1 \\end{bmatrix}\n",
    "$$"
   ]
  },
  {
   "cell_type": "code",
   "execution_count": 21,
   "metadata": {},
   "outputs": [
    {
     "name": "stdout",
     "output_type": "stream",
     "text": [
      "Transformación de x: [0 1]\n"
     ]
    }
   ],
   "source": [
    "# Matriz de rotación\n",
    "A = np.array([[0, -1],\n",
    "              [1, 0]])\n",
    "x = np.array([1, 0])\n",
    "\n",
    "# Transformación\n",
    "T_x = np.dot(A, x)\n",
    "print(\"Transformación de x:\", T_x)"
   ]
  },
  {
   "cell_type": "markdown",
   "metadata": {},
   "source": []
  }
 ],
 "metadata": {
  "colab": {
   "include_colab_link": true,
   "provenance": []
  },
  "kernelspec": {
   "display_name": "Python 3 (ipykernel)",
   "language": "python",
   "name": "python3"
  },
  "language_info": {
   "codemirror_mode": {
    "name": "ipython",
    "version": 3
   },
   "file_extension": ".py",
   "mimetype": "text/x-python",
   "name": "python",
   "nbconvert_exporter": "python",
   "pygments_lexer": "ipython3",
   "version": "3.12.2"
  }
 },
 "nbformat": 4,
 "nbformat_minor": 4
}
