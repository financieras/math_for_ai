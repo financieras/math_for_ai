{
  "nbformat": 4,
  "nbformat_minor": 0,
  "metadata": {
    "colab": {
      "provenance": [],
      "authorship_tag": "ABX9TyOVXmUZqtP03JouOZgXrasG",
      "include_colab_link": true
    },
    "kernelspec": {
      "name": "python3",
      "display_name": "Python 3"
    },
    "language_info": {
      "name": "python"
    }
  },
  "cells": [
    {
      "cell_type": "markdown",
      "metadata": {
        "id": "view-in-github",
        "colab_type": "text"
      },
      "source": [
        "<a href=\"https://colab.research.google.com/github/financieras/math_for_ai/blob/main/220_matrices.ipynb\" target=\"_parent\"><img src=\"https://colab.research.google.com/assets/colab-badge.svg\" alt=\"Open In Colab\"/></a>"
      ]
    },
    {
      "cell_type": "markdown",
      "source": [
        "# Conceptos fundamentales de matrices"
      ],
      "metadata": {
        "id": "DCxoTFZUhv3H"
      }
    },
    {
      "cell_type": "markdown",
      "metadata": {
        "id": "emtHNuAKmAMF"
      },
      "source": [
        "## 1. Definición de matriz\n",
        "\n",
        "Una matriz es una estructura rectangular de datos ordenados en filas y columnas. Matemáticamente, una matriz se puede representar como:\n",
        "\n",
        "$$A = \\begin{pmatrix}\n",
        "a_{11} & a_{12} & \\cdots & a_{1n} \\\\\n",
        "a_{21} & a_{22} & \\cdots & a_{2n} \\\\\n",
        "\\vdots & \\vdots & \\ddots & \\vdots \\\\\n",
        "a_{m1} & a_{m2} & \\cdots & a_{mn}\n",
        "\\end{pmatrix}$$\n",
        "\n",
        "Donde:\n",
        "- $a_{ij}$ representa el elemento ubicado en la fila $i$ y columna $j$.\n",
        "- $m$ es el número de filas.\n",
        "- $n$ es el número de columnas.\n",
        "- La matriz anterior es de dimensión  $ m \\times n $, con $m$ filas y $n$ columnas.\n",
        "\n",
        "En Python, podemos representar matrices utilizando la biblioteca NumPy:"
      ]
    },
    {
      "cell_type": "code",
      "execution_count": null,
      "metadata": {
        "id": "wESHaXUMmAMG",
        "outputId": "014fd471-548a-4d7d-950b-a2fa8a07a16f"
      },
      "outputs": [
        {
          "name": "stdout",
          "output_type": "stream",
          "text": [
            "Matriz A:\n",
            "[[1 2 3]\n",
            " [4 5 6]\n",
            " [7 8 9]]\n"
          ]
        }
      ],
      "source": [
        "import numpy as np\n",
        "\n",
        "# Crear una matriz de 3x3\n",
        "A = np.array([\n",
        "    [1, 2, 3],\n",
        "    [4, 5, 6],\n",
        "    [7, 8, 9]\n",
        "])\n",
        "\n",
        "print(\"Matriz A:\")\n",
        "print(A)"
      ]
    },
    {
      "cell_type": "markdown",
      "metadata": {
        "id": "tOD8-eKUmAMG"
      },
      "source": [
        "### Acceder a los elementos de una matriz\n",
        "En Python podemos acceder a elementos específicos de una matriz utilizando índices."
      ]
    },
    {
      "cell_type": "code",
      "execution_count": null,
      "metadata": {
        "id": "2HI5xzYlmAMG",
        "outputId": "74639e2d-3bb6-4f83-9635-88cd56dbed1c"
      },
      "outputs": [
        {
          "name": "stdout",
          "output_type": "stream",
          "text": [
            "Elemento A[0,0]: 1\n",
            "Elemento A[1,2]: 6\n",
            "Dimensiones de A: 3×3\n",
            "Número total de elementos: 9\n"
          ]
        }
      ],
      "source": [
        "# Accediendo a elementos de la matriz\n",
        "print(f\"Elemento A[0,0]: {A[0,0]}\")  # Equivalente a a_{11}\n",
        "print(f\"Elemento A[1,2]: {A[1,2]}\")  # Equivalente a a_{23}\n",
        "\n",
        "# Obteniendo dimensiones\n",
        "filas, columnas = A.shape\n",
        "print(f\"Dimensiones de A: {filas}×{columnas}\")\n",
        "print(f\"Número total de elementos: {A.size}\")"
      ]
    },
    {
      "cell_type": "markdown",
      "metadata": {
        "id": "Z_f_t872mAMG"
      },
      "source": [
        "### Submatrices\n",
        "Una submatriz es una porción de una matriz original.  \n",
        "En Python, podemos extraer submatrices utilizando el sistema de indexación de NumPy:"
      ]
    },
    {
      "cell_type": "code",
      "execution_count": null,
      "metadata": {
        "id": "KPashBQ1mAMG",
        "outputId": "6cbd024e-b0f1-4d81-afab-379105284c94"
      },
      "outputs": [
        {
          "name": "stdout",
          "output_type": "stream",
          "text": [
            "Submatriz de A (primeras 2 filas y columnas):\n",
            "[[1 2]\n",
            " [4 5]]\n"
          ]
        }
      ],
      "source": [
        "# Extraer una submatriz (las primeras 2 filas y 2 columnas)\n",
        "submatriz = A[0:2, 0:2]\n",
        "print(\"Submatriz de A (primeras 2 filas y columnas):\")\n",
        "print(submatriz)"
      ]
    },
    {
      "cell_type": "markdown",
      "metadata": {
        "id": "Xa1e0y7DmAMH"
      },
      "source": [
        "## 2. Tipos de Matrices\n",
        "\n",
        "Existen varios tipos de matrices según su estructura o propiedades:\n",
        "\n",
        "1. **Matriz cuadrada**: $m = n$ (mismo número de filas y columnas).\n",
        "2. **Matriz fila**: $m = 1$ (una sola fila).\n",
        "3. **Matriz columna**: n = 1 (una sola columna).\n",
        "4. **Matriz nula**: Todos sus elementos son 0.\n",
        "5. **Matriz identidad**: Matriz cuadrada con 1s en la diagonal principal y 0s fuera de ella, denotada $I$.\n",
        "6. **Matriz diagonal**: Solo tiene elementos en la diagonal principal.\n",
        "\n",
        "### Ejemplos\n",
        "\n",
        "$$\n",
        "\\text{Matriz cuadrada } (3 \\times 3) \\quad \\rightarrow \\quad\n",
        "M = \\begin{bmatrix}\n",
        "1 & 2 & 3 \\\\\n",
        "4 & 5 & 6 \\\\\n",
        "7 & 8 & 9\n",
        "\\end{bmatrix}\n",
        "$$\n",
        "\n",
        "$$\n",
        "\\text{Matriz identidad } (3 \\times 3) \\quad \\rightarrow \\quad\n",
        "I_3 = \\begin{bmatrix}\n",
        "1 & 0 & 0 \\\\\n",
        "0 & 1 & 0 \\\\\n",
        "0 & 0 & 1\n",
        "\\end{bmatrix}\n",
        "$$\n",
        "\n",
        "$$\n",
        "\\text{Matriz fila } (1 \\times 3) \\quad \\rightarrow \\quad\n",
        "F = \\begin{bmatrix}\n",
        "1 & 2 & 3\n",
        "\\end{bmatrix}\n",
        "$$\n",
        "\n",
        "$$\n",
        "\\text{Matriz columna } (3 \\times 1) \\quad \\rightarrow \\quad\n",
        "C = \\begin{bmatrix}\n",
        "4 \\\\\n",
        "5 \\\\\n",
        "6\n",
        "\\end{bmatrix}\n",
        "$$\n",
        "\n",
        "$$\n",
        "\\text{Matriz nula } (2 \\times 2) \\quad \\rightarrow \\quad\n",
        "N = \\begin{bmatrix}\n",
        "0 & 0 \\\\\n",
        "0 & 0\n",
        "\\end{bmatrix}\n",
        "$$\n"
      ]
    },
    {
      "cell_type": "code",
      "execution_count": null,
      "metadata": {
        "id": "aRP0yUR6mAMH",
        "outputId": "6067c08c-8adf-469f-cfce-01795fe23397"
      },
      "outputs": [
        {
          "name": "stdout",
          "output_type": "stream",
          "text": [
            "Matriz cuadrada 3x3:\n",
            "[[1 2 3]\n",
            " [4 5 6]\n",
            " [7 8 9]]\n",
            "\n",
            "Matriz identidad 3x3:\n",
            "[[1. 0. 0.]\n",
            " [0. 1. 0.]\n",
            " [0. 0. 1.]]\n",
            "\n",
            "Matriz fila (1x3):\n",
            "[[1 2 3]]\n",
            "\n",
            "Matriz columna (3x1):\n",
            "[[4]\n",
            " [5]\n",
            " [6]]\n",
            "\n",
            "Matriz nula 2x2:\n",
            "[[0. 0.]\n",
            " [0. 0.]]\n"
          ]
        }
      ],
      "source": [
        "# Matriz cuadrada 3x3\n",
        "cuadrada = np.array([[1, 2, 3],\n",
        "                     [4, 5, 6],\n",
        "                     [7, 8, 9]])\n",
        "print(\"Matriz cuadrada 3x3:\")\n",
        "print(cuadrada)\n",
        "\n",
        "# Matriz identidad 3x3\n",
        "identidad = np.eye(3)\n",
        "print(\"\\nMatriz identidad 3x3:\")\n",
        "print(identidad)\n",
        "\n",
        "# Matriz fila y columna\n",
        "fila = np.array([[1, 2, 3]])\n",
        "columna = np.array([[4], [5], [6]])\n",
        "print(\"\\nMatriz fila (1x3):\")\n",
        "print(fila)\n",
        "print(\"\\nMatriz columna (3x1):\")\n",
        "print(columna)\n",
        "\n",
        "# Matriz nula 2x2\n",
        "nula = np.zeros((2, 2))\n",
        "print(\"\\nMatriz nula 2x2:\")\n",
        "print(nula)"
      ]
    },
    {
      "cell_type": "markdown",
      "metadata": {
        "id": "6TaqMlFumAMH"
      },
      "source": [
        "## 3. Operaciones Básicas con Matrices\n",
        "\n",
        "### Suma y Resta\n",
        "Dos matrices $A$ y $B$ de las mismas dimensiones se suman/restan elemento a elemento:\n",
        "$$\n",
        "C = A + B, \\quad c_{ij} = a_{ij} + b_{ij}\n",
        "$$\n",
        "\n",
        "### Multiplicación por Escalar\n",
        "Un escalar $k$ multiplica cada elemento de la matriz:\n",
        "$$\n",
        "C = kA, \\quad c_{ij} = k \\cdot a_{ij}\n",
        "$$"
      ]
    },
    {
      "cell_type": "code",
      "execution_count": null,
      "metadata": {
        "id": "2NC-K26zmAMH",
        "outputId": "16ae6331-843c-4d76-e912-a2e971772ec5"
      },
      "outputs": [
        {
          "name": "stdout",
          "output_type": "stream",
          "text": [
            "Suma A + B:\n",
            "[[ 6  8]\n",
            " [10 12]]\n",
            "\n",
            "Resta A - B:\n",
            "[[-4 -4]\n",
            " [-4 -4]]\n",
            "\n",
            "Multiplicación de A por escalar 0.5:\n",
            "[[0.5 1. ]\n",
            " [1.5 2. ]]\n"
          ]
        }
      ],
      "source": [
        "# Definimos dos matrices 2x2\n",
        "A = np.array([[1, 2],\n",
        "              [3, 4]])\n",
        "\n",
        "B = np.array([[5, 6],\n",
        "              [7, 8]])\n",
        "\n",
        "# Suma\n",
        "suma = A + B\n",
        "print(\"Suma A + B:\")\n",
        "print(suma)\n",
        "\n",
        "# Resta\n",
        "resta = A - B\n",
        "print(\"\\nResta A - B:\")\n",
        "print(resta)\n",
        "\n",
        "# Multiplicación por escalar (normalización simple)\n",
        "k = 0.5\n",
        "escalada = k * A\n",
        "print(\"\\nMultiplicación de A por escalar 0.5:\")\n",
        "print(escalada)"
      ]
    },
    {
      "cell_type": "markdown",
      "metadata": {
        "id": "AwB_sJtImAMH"
      },
      "source": [
        "## 4. Combinación Lineal\n",
        "\n",
        "Una **combinación lineal** de vectores $ \\mathbf{v_1}, \\mathbf{v_2}, \\ldots, \\mathbf{v_n} $ es:\n",
        "$$\n",
        "\\mathbf{w} = c_1 \\mathbf{v_1} + c_2 \\mathbf{v_2} + \\cdots + c_n \\mathbf{v_n}\n",
        "$$\n",
        "El espacio generado es el conjunto de todas las combinaciones lineales.\n",
        "\n",
        "### Ejemplo\n",
        "Para $ \\mathbf{v_1} = [1, 0] $, $ \\mathbf{v_2} = [0, 1] $:\n",
        "$$\n",
        "\\mathbf{w} = 2 \\mathbf{v_1} + 3 \\mathbf{v_2} = [2, 3]\n",
        "$$"
      ]
    },
    {
      "cell_type": "code",
      "execution_count": null,
      "metadata": {
        "id": "YNZhI95RmAMH",
        "outputId": "2adccbe6-b537-4223-dd00-ec191bf9df5b"
      },
      "outputs": [
        {
          "name": "stdout",
          "output_type": "stream",
          "text": [
            "Combinación lineal w: [2 3]\n"
          ]
        }
      ],
      "source": [
        "# Vectores base\n",
        "v1 = np.array([1, 0])\n",
        "v2 = np.array([0, 1])\n",
        "\n",
        "# Combinación lineal\n",
        "w = 2 * v1 + 3 * v2\n",
        "print(\"Combinación lineal w:\", w)"
      ]
    },
    {
      "cell_type": "markdown",
      "metadata": {
        "id": "NKtMExgpmAMH"
      },
      "source": [
        "## 5. Multiplicación de Matrices\n",
        "\n",
        "La multiplicación de matrices $A$ (de $m \\times p $) y $ B $ (de $p \\times n$) produce una matriz $C$ de $m \\times n$). El elemento $c_{ij}$ se calcula como:\n",
        "$$\n",
        "c_{ij} = \\sum_{k=1}^{p} a_{ik} \\cdot b_{kj}\n",
        "$$\n",
        "\n",
        "### Condición\n",
        "Las columnas de $A$ deben igualar las filas de $B$.\n",
        "\n",
        "### Aplicación en Deep Learning\n",
        "- Capas lineales: $W \\cdot X$, donde $W$ es la matriz de pesos y $X$ el vector de entrada.\n",
        "\n",
        "### Ejemplo\n",
        "$$\n",
        "A = \\begin{bmatrix} 1 & 2 \\\\ 3 & 4 \\end{bmatrix}, \\quad\n",
        "B = \\begin{bmatrix} 5 & 6 \\\\ 7 & 8 \\end{bmatrix}, \\quad\n",
        "A \\cdot B = \\begin{bmatrix} 19 & 22 \\\\ 43 & 50 \\end{bmatrix}\n",
        "$$\n"
      ]
    },
    {
      "cell_type": "code",
      "execution_count": null,
      "metadata": {
        "id": "uEBgPz6smAMH",
        "outputId": "911ffca3-b930-4fd6-ed46-70d2015019d9",
        "colab": {
          "base_uri": "https://localhost:8080/"
        }
      },
      "outputs": [
        {
          "output_type": "stream",
          "name": "stdout",
          "text": [
            "Multiplicación A · B:\n",
            "[[19 22]\n",
            " [43 50]]\n",
            "\n",
            "Salida de capa lineal W · X:\n",
            "[[0.11]\n",
            " [0.16]]\n",
            "\n",
            "Usando @ para multiplicar matrices:\n",
            "\n"
          ]
        },
        {
          "output_type": "execute_result",
          "data": {
            "text/plain": [
              "array([[0.11],\n",
              "       [0.16]])"
            ]
          },
          "metadata": {},
          "execution_count": 7
        }
      ],
      "source": [
        "# Matrices 2x2\n",
        "A = np.array([[1, 2],\n",
        "              [3, 4]])\n",
        "\n",
        "B = np.array([[5, 6],\n",
        "              [7, 8]])\n",
        "\n",
        "# Multiplicación\n",
        "C = np.dot(A, B)  # o también se puede usar:  A @ B\n",
        "print(\"Multiplicación A · B:\")\n",
        "print(C)\n",
        "\n",
        "# Ejemplo Deep Learning: Capa lineal\n",
        "X = np.array([[0.1], [0.2]])  # Entrada (2 características)\n",
        "W = np.array([[0.5, 0.3],     # Pesos (2 entradas, 2 salidas)\n",
        "              [0.4, 0.6]])\n",
        "salida = np.dot(W, X)\n",
        "print(\"\\nSalida de capa lineal W · X:\")\n",
        "print(salida)\n",
        "\n",
        "print(\"\\nUsando @ para multiplicar matrices:\\n\")\n",
        "W@X"
      ]
    },
    {
      "cell_type": "markdown",
      "metadata": {
        "id": "57y5-SxwmAMH"
      },
      "source": [
        "## 6. Transpuesta de una Matriz\n",
        "\n",
        "La **transpuesta** de una matriz $A$, denotada $A^T$, intercambia filas por columnas:\n",
        "$$\n",
        "(A^T)_{ij} = A_{ji}\n",
        "$$\n",
        "\n",
        "### Propiedades\n",
        "- $(A^T)^T = A$\n",
        "- $(A + B)^T = A^T + B^T$\n",
        "\n",
        "### Ejemplo\n",
        "$$\n",
        "A = \\begin{bmatrix} 1 & 2 \\\\ 3 & 4 \\\\ 5 & 6 \\end{bmatrix}, \\quad\n",
        "A^T = \\begin{bmatrix} 1 & 3 & 5 \\\\ 2 & 4 & 6 \\end{bmatrix}\n",
        "$$"
      ]
    },
    {
      "cell_type": "code",
      "execution_count": null,
      "metadata": {
        "id": "Da-cCLAEmAMH",
        "outputId": "41278d1a-7887-4e89-ea34-2911d319bcc4"
      },
      "outputs": [
        {
          "name": "stdout",
          "output_type": "stream",
          "text": [
            "Matriz A:\n",
            "[[1 2]\n",
            " [3 4]\n",
            " [5 6]]\n",
            "\n",
            "Transpuesta A^T:\n",
            "[[1 3 5]\n",
            " [2 4 6]]\n",
            "\n",
            "Producto X^T · X (covarianza aproximada):\n",
            "[[0.05 0.11]\n",
            " [0.11 0.34]]\n"
          ]
        }
      ],
      "source": [
        "# Matriz 3x2\n",
        "A = np.array([[1, 2],\n",
        "              [3, 4],\n",
        "              [5, 6]])\n",
        "\n",
        "# Transpuesta\n",
        "A_T = A.T  # o np.transpose(A)\n",
        "print(\"Matriz A:\")\n",
        "print(A)\n",
        "print(\"\\nTranspuesta A^T:\")\n",
        "print(A_T)\n",
        "\n",
        "# Ejemplo en IA: Producto X^T · X\n",
        "X = np.array([[0.1, 0.5],\n",
        "              [0.2, 0.3]])\n",
        "X_T = X.T\n",
        "resultado = np.dot(X_T, X)\n",
        "print(\"\\nProducto X^T · X (covarianza aproximada):\")\n",
        "print(resultado)"
      ]
    },
    {
      "cell_type": "code",
      "source": [
        "import numpy as np\n",
        "\n",
        "# Matriz 3x3\n",
        "A = np.array([[1, 2, -3],\n",
        "              [-3, -1, -2],\n",
        "              [-2, -1, 2]])\n",
        "\n",
        "print(\"Matriz original:\")\n",
        "print(A)\n",
        "\n",
        "print(\"\\nMatriz transpuesta:\")\n",
        "print(A @ A.T)  # .T calcula la transpuesta"
      ],
      "metadata": {
        "id": "ThKoXPVyfNTV",
        "outputId": "d25b7c24-bd86-4a7e-e450-ae24533fb8bc",
        "colab": {
          "base_uri": "https://localhost:8080/"
        }
      },
      "execution_count": 17,
      "outputs": [
        {
          "output_type": "stream",
          "name": "stdout",
          "text": [
            "Matriz original:\n",
            "[[ 1  2 -3]\n",
            " [-3 -1 -2]\n",
            " [-2 -1  2]]\n",
            "\n",
            "Matriz transpuesta:\n",
            "[[ 14   1 -10]\n",
            " [  1  14   3]\n",
            " [-10   3   9]]\n"
          ]
        }
      ]
    },
    {
      "cell_type": "markdown",
      "source": [
        "### Matriz Simétrica\n",
        "Al multiplicar una matriz $A$ por su Transpuesta $A^T$ se obtiene una matriz simétrica.\n",
        "\n",
        "**En resumen:**\n",
        "1. **Transpuesta**: Cambia filas por columnas\n",
        "2. **A @ A^T**: Siempre produce una matriz simétrica\n",
        "3. **Matriz simétrica**: Es como un espejo respecto a la diagonal principal"
      ],
      "metadata": {
        "id": "d9CSnE4LqMCX"
      }
    },
    {
      "cell_type": "code",
      "source": [
        "# El producto de A por su Transpuesta genera una matriz Simétrica\n",
        "A @ A.T"
      ],
      "metadata": {
        "id": "WmeP4rBNq0ZF",
        "outputId": "af74eb36-608c-49d7-b570-446e564c9952",
        "colab": {
          "base_uri": "https://localhost:8080/"
        }
      },
      "execution_count": 19,
      "outputs": [
        {
          "output_type": "execute_result",
          "data": {
            "text/plain": [
              "array([[ 14,   1, -10],\n",
              "       [  1,  14,   3],\n",
              "       [-10,   3,   9]])"
            ]
          },
          "metadata": {},
          "execution_count": 19
        }
      ]
    },
    {
      "cell_type": "markdown",
      "metadata": {
        "id": "U_0OOufpmAMI"
      },
      "source": [
        "## 7. Traza de una Matriz\n",
        "\n",
        "La **traza** de una matriz cuadrada $ A $ de orden $ n \\times n $ es la suma de los elementos de su diagonal principal:\n",
        "$$\n",
        "\\text{tr}(A) = a_{11} + a_{22} + \\cdots + a_{nn} = \\sum_{i=1}^{n} a_{ii}\n",
        "$$\n",
        "\n",
        "### Ejemplo\n",
        "Para $ A = \\begin{bmatrix} 1 & 2 & 3 \\\\ 4 & 5 & 6 \\\\ 7 & 8 & 9 \\end{bmatrix} $\n",
        "$$\n",
        "\\text{tr}(A) = 1 + 5 + 9 = 15\n",
        "$$"
      ]
    },
    {
      "cell_type": "code",
      "execution_count": null,
      "metadata": {
        "id": "IEXQyUfOmAMI",
        "outputId": "140f7391-2af8-460f-9ad2-38b1875a0b62"
      },
      "outputs": [
        {
          "name": "stdout",
          "output_type": "stream",
          "text": [
            "Traza de A:\n",
            "15\n"
          ]
        }
      ],
      "source": [
        "# Matriz cuadrada\n",
        "A = np.array([[1, 2, 3],\n",
        "              [4, 5, 6],\n",
        "              [7, 8, 9]])\n",
        "\n",
        "# Traza\n",
        "traza = np.trace(A)\n",
        "print(\"Traza de A:\")\n",
        "print(traza)"
      ]
    },
    {
      "cell_type": "markdown",
      "metadata": {
        "id": "GzqLWmQvmAMI"
      },
      "source": [
        "## 8. Determinante\n",
        "\n",
        "El **determinante** de una matriz cuadrada mide su \"volumen\" o si es invertible. Para una matriz $ 2 \\times 2 $:\n",
        "$$\n",
        "A = \\begin{bmatrix} a & b \\\\ c & d \\end{bmatrix}, \\quad \\det(A) = ad - bc\n",
        "$$\n",
        "\n",
        "### Ejemplo\n",
        "Para $ A = \\begin{bmatrix} 1 & 2 \\\\ 3 & 4 \\end{bmatrix} $:\n",
        "$$\n",
        "\\det(A) = 1 \\cdot 4 - 2 \\cdot 3 = 4 - 6 = -2\n",
        "$$"
      ]
    },
    {
      "cell_type": "code",
      "execution_count": null,
      "metadata": {
        "id": "VFy0BPESmAMI",
        "outputId": "f11ba894-edfc-4ffd-b500-5f6bb086ac22"
      },
      "outputs": [
        {
          "name": "stdout",
          "output_type": "stream",
          "text": [
            "Determinante de A:\n",
            "-2.0000000000000004\n"
          ]
        }
      ],
      "source": [
        "# Matriz 2x2\n",
        "A = np.array([[1, 2],\n",
        "              [3, 4]])\n",
        "\n",
        "# Determinante\n",
        "det = np.linalg.det(A)\n",
        "print(\"Determinante de A:\")\n",
        "print(det)"
      ]
    },
    {
      "cell_type": "markdown",
      "metadata": {
        "id": "XawI03AImAMI"
      },
      "source": [
        "## 9. Matriz Inversa\n",
        "\n",
        "La **inversa** de una matriz cuadrada $ A $, denotada $ A^{-1} $, satisface:\n",
        "$$\n",
        "A \\cdot A^{-1} = I\n",
        "$$\n",
        "Existe si $ \\det(A) \\neq 0 $. Para $ 2 \\times 2 $:\n",
        "$$\n",
        "A = \\begin{bmatrix} a & b \\\\ c & d \\end{bmatrix}, \\quad A^{-1} = \\frac{1}{\\det(A)} \\begin{bmatrix} d & -b \\\\ -c & a \\end{bmatrix}\n",
        "$$\n",
        "\n",
        "### Ejemplo\n",
        "Para $ A = \\begin{bmatrix} 1 & 2 \\\\ 3 & 4 \\end{bmatrix} $:\n",
        "$$\n",
        "A^{-1} = \\frac{1}{-2} \\begin{bmatrix} 4 & -2 \\\\ -3 & 1 \\end{bmatrix} = \\begin{bmatrix} -2 & 1 \\\\ 1.5 & -0.5 \\end{bmatrix}\n",
        "$$\n",
        "\n",
        "Comprobación de que $A \\cdot A^{-1} = I$\n",
        "\n",
        "$$\n",
        "A \\cdot A^{-1} = \\begin{bmatrix} 1 & 2 \\\\ 3 & 4 \\end{bmatrix} \\cdot \\begin{bmatrix} -2 & 1 \\\\ 1.5 & -0.5 \\end{bmatrix} = \\begin{bmatrix} 1 & 0 \\\\ 0 & 1 \\end{bmatrix} = I\n",
        "$$\n"
      ]
    },
    {
      "cell_type": "code",
      "execution_count": null,
      "metadata": {
        "id": "V4pQSYnjmAMI",
        "outputId": "5be0060b-0cb1-4926-c5c8-01967c29517f"
      },
      "outputs": [
        {
          "name": "stdout",
          "output_type": "stream",
          "text": [
            "Inversa de A:\n",
            "[[-2.   1. ]\n",
            " [ 1.5 -0.5]]\n",
            "\n",
            "Verificación A · A^(-1):\n",
            "[[1.0000000e+00 0.0000000e+00]\n",
            " [8.8817842e-16 1.0000000e+00]]\n",
            "\n",
            "Resultado de A · A^(-1) (redondeado):\n",
            "[[1. 0.]\n",
            " [0. 1.]]\n"
          ]
        }
      ],
      "source": [
        "# Matriz 2x2\n",
        "A = np.array([[1, 2],\n",
        "              [3, 4]])\n",
        "\n",
        "# Inversa\n",
        "A_inv = np.linalg.inv(A)\n",
        "print(\"Inversa de A:\")\n",
        "print(A_inv)\n",
        "\n",
        "# Verificación: A · A^-1 = I\n",
        "print(\"\\nVerificación A · A^(-1):\")\n",
        "resultado = np.dot(A, A_inv)\n",
        "print(resultado)\n",
        "print()\n",
        "\n",
        "# Redondeamos a 10 decimales\n",
        "resultado_redondeado = np.round(resultado, decimals=10)\n",
        "\n",
        "print(\"Resultado de A · A^(-1) (redondeado):\")\n",
        "print(resultado_redondeado)"
      ]
    },
    {
      "cell_type": "markdown",
      "metadata": {
        "id": "cp4C-UDumAMI"
      },
      "source": [
        "## 10. Sistemas de Ecuaciones Lineales\n",
        "\n",
        "Un sistema de ecuaciones lineales se escribe como $ A \\mathbf{x} = \\mathbf{b} $, donde $ A $ es la matriz de coeficientes, $ \\mathbf{x} $ el vector de incógnitas y $ \\mathbf{b} $ el vector de términos independientes.\n",
        "\n",
        "### Ejemplo\n",
        "$$\n",
        "\\begin{cases}\n",
        "2x + 3y = 8 \\\\\n",
        "x - y = 1\n",
        "\\end{cases}\n",
        "$$\n",
        "En forma matricial:\n",
        "$$\n",
        "\\begin{bmatrix} 2 & 3 \\\\ 1 & -1 \\end{bmatrix} \\begin{bmatrix} x \\\\ y \\end{bmatrix} = \\begin{bmatrix} 8 \\\\ 1 \\end{bmatrix}\n",
        "$$\n",
        "\n",
        "Solución con inversa: $$ \\mathbf{x} = A^{-1} \\cdot \\mathbf{b} $$\n",
        "\n",
        "**_Demostración_**\n",
        "\n",
        "Partimos de la expresión matricial del sistema de ecuaciones y queremos despejar $\\mathbf{x}$:\n",
        "\n",
        "$$ A \\mathbf{x} = \\mathbf{b} $$\n",
        "\n",
        "Premultiplicamos por la inversa de $A$ en ambos lados de la ecuación:\n",
        "\n",
        "$$ A^{-1} \\cdot A \\cdot \\mathbf{x} = A^{-1} \\cdot \\mathbf{b} $$\n",
        "\n",
        "Sabemos que la inversa de $A$ por $A$ es la matriz identidad $I$.\n",
        "\n",
        "$ A^{-1} \\cdot A = I$\n",
        "\n",
        "Nos ha quedado lo siguiente:\n",
        "\n",
        "$$ I \\cdot \\mathbf{x} = A^{-1} \\cdot \\mathbf{b} $$\n",
        "\n",
        "También sabemos que la matriz identidad $I$ por $\\mathbf{x}$ es igual a $\\mathbf{x}$.\n",
        "\n",
        "$ I \\cdot \\mathbf{x} = x$\n",
        "\n",
        "Con esto ya hemos conseguido despejar $\\mathbf{x}$:\n",
        "\n",
        "$$ \\mathbf{x} = A^{-1} \\cdot \\mathbf{b} $$"
      ]
    },
    {
      "cell_type": "code",
      "execution_count": null,
      "metadata": {
        "id": "LntgbWrTmAMJ",
        "outputId": "d94bba6f-ee78-4e73-f3dc-affc4a803ed0"
      },
      "outputs": [
        {
          "name": "stdout",
          "output_type": "stream",
          "text": [
            "Solución x, y:\n",
            "[2.2 1.2]\n"
          ]
        }
      ],
      "source": [
        "# Matriz de coeficientes y vector b\n",
        "A = np.array([[2, 3],\n",
        "              [1, -1]])\n",
        "b = np.array([8, 1])\n",
        "\n",
        "# Solución\n",
        "#x = np.linalg.solve(A, b)  # o mejor con np.dot(np.linalg.inv(A), b)\n",
        "x = np.dot(np.linalg.inv(A), b)\n",
        "\n",
        "print(\"Solución x, y:\")\n",
        "print(x)"
      ]
    },
    {
      "cell_type": "markdown",
      "source": [
        "### **Ejemplo** con un Sistema de Ecuaciones 3×3\n",
        "$$\n",
        "\\begin{cases}\n",
        "-2x - 2y - z = 1 \\\\\n",
        "-2x - y - 2z = -3 \\\\\n",
        "-x - 2y + 3z = 7\n",
        "\\end{cases}\n",
        "$$\n",
        "\n",
        "### Forma Matricial:\n",
        "\n",
        "$$\n",
        "A\\mathbf{x} = \\mathbf{b} \\quad \\Rightarrow \\quad\n",
        "\\begin{bmatrix} -2 & -2 & -1 \\\\ -2 & -1 & -2 \\\\ -1 & -2 & 3 \\end{bmatrix}\n",
        "\\begin{bmatrix} x \\\\ y \\\\ z \\end{bmatrix} =\n",
        "\\begin{bmatrix} 1 \\\\ -3 \\\\ 7 \\end{bmatrix}\n",
        "$$\n",
        "\n",
        "Donde:\n",
        "\n",
        "$$\n",
        "A = \\begin{bmatrix} -2 & -2 & -1 \\\\ -2 & -1 & -2 \\\\ -1 & -2 & 3 \\end{bmatrix}, \\quad\n",
        "\\mathbf{x} = \\begin{bmatrix} x \\\\ y \\\\ z \\end{bmatrix}, \\quad\n",
        "\\mathbf{b} = \\begin{bmatrix} 1 \\\\ -3 \\\\ 7 \\end{bmatrix}\n",
        "$$\n",
        "\n",
        "El determinante de $A$ es $-5$ y su inversa es:\n",
        "\n",
        "$$A^{-1} = \\frac{1}{\\det(A)} \\cdot \\text{adj}(A) = \\frac{1}{-5} \\cdot \\begin{bmatrix}\n",
        "-7 & 8 & 3 \\\\\n",
        "8 & -7 & -2 \\\\\n",
        "3 & -2 & -2\n",
        "\\end{bmatrix}\n",
        "= \\begin{bmatrix}\n",
        "1.4 & -1.6 & -0.6 \\\\\n",
        "-1.6 & 1.4 & 0.4 \\\\\n",
        "-0.6 & 0.4 & 0.4\n",
        "\\end{bmatrix}$$\n",
        "\n",
        "Solución matricial:\n",
        "\n",
        "$$\n",
        "\\mathbf{x} = A^{-1} \\cdot \\mathbf{b} = \\begin{bmatrix}\n",
        "1.4 & -1.6 & -0.6 \\\\\n",
        "-1.6 & 1.4 & 0.4 \\\\\n",
        "-0.6 & 0.4 & 0.4\n",
        "\\end{bmatrix} \\cdot \\begin{bmatrix} 1 \\\\ -3 \\\\ 7 \\end{bmatrix} = \\begin{bmatrix} 2 \\\\ -3 \\\\ 1 \\end{bmatrix}\n",
        "\\quad \\Rightarrow \\quad\n",
        "\\begin{cases}\n",
        "x = 2 \\\\\n",
        "y = -3 \\\\\n",
        "z = 1\n",
        "\\end{cases}\n",
        "$$"
      ],
      "metadata": {
        "id": "Ex89PS82sk5W"
      }
    },
    {
      "cell_type": "code",
      "source": [
        "import numpy as np\n",
        "\n",
        "A = np.array([[-2, -2, -1],\n",
        "              [-2, -1, -2],\n",
        "              [-1, -2,  3]])\n",
        "\n",
        "b = np.array([1, -3, 7])\n",
        "\n",
        "det_A = np.linalg.det(A)\n",
        "x = np.linalg.solve(A, b)\n",
        "\n",
        "print(f\"Determinante de A: {det_A:.0f}\")\n",
        "\n",
        "print(f\"\\nSolución: x = {x[0]:.0f}, y = {x[1]:.0f}, z = {x[2]:.0f}\")"
      ],
      "metadata": {
        "colab": {
          "base_uri": "https://localhost:8080/"
        },
        "id": "C62gAovLugQI",
        "outputId": "470ce3e4-91c2-4d87-bc6e-d72606404af7"
      },
      "execution_count": 45,
      "outputs": [
        {
          "output_type": "stream",
          "name": "stdout",
          "text": [
            "Determinante de A: -5\n",
            "\n",
            "Solución: x = 2, y = -3, z = 1\n"
          ]
        }
      ]
    },
    {
      "cell_type": "markdown",
      "metadata": {
        "id": "Rd-RtLuymAMJ"
      },
      "source": [
        "## 11. Forma Escalonada y Reducción\n",
        "\n",
        "La **forma escalonada** de una matriz se obtiene aplicando eliminación gaussiana. Una matriz está en forma escalonada si:\n",
        "- Las filas no nulas están sobre las filas de ceros.\n",
        "- El primer elemento no nulo de cada fila (pivote) está a la derecha del pivote de la fila anterior.\n",
        "\n",
        "### Ejemplo\n",
        "Matriz $ A = \\begin{bmatrix} 1 & 2 & 3 \\\\ 2 & 4 & 5 \\end{bmatrix} $ se reduce a:\n",
        "$$\n",
        "\\begin{bmatrix} 1 & 2 & 0 \\\\ 0 & 0 & 1 \\end{bmatrix}\n",
        "$$\n",
        "\n",
        "Nota:  \n",
        "NumPy no tiene una función directa para forma escalonada; usamos eliminación manual o bibliotecas como SymPy para ejemplos básicos"
      ]
    },
    {
      "cell_type": "code",
      "execution_count": null,
      "metadata": {
        "id": "heqUUU1lmAMJ",
        "outputId": "8da77416-d7cb-4a75-9bcb-6866abf5e614"
      },
      "outputs": [
        {
          "name": "stdout",
          "output_type": "stream",
          "text": [
            "Forma escalonada de A:\n",
            "[[1 2 0]\n",
            " [0 0 1]]\n"
          ]
        }
      ],
      "source": [
        "# Usamos SymPy para reducción\n",
        "from sympy import Matrix\n",
        "\n",
        "A = Matrix([[1, 2, 3],\n",
        "            [2, 4, 5]])\n",
        "escalonada, _ = A.rref()\n",
        "print(\"Forma escalonada de A:\")\n",
        "print(np.array(escalonada))"
      ]
    },
    {
      "cell_type": "code",
      "execution_count": null,
      "metadata": {
        "id": "V6F7We6EmAMJ",
        "outputId": "deb3efa1-784c-4f51-feb9-cbf8aef73244"
      },
      "outputs": [
        {
          "name": "stdout",
          "output_type": "stream",
          "text": [
            "Forma escalonada de A:\n",
            "[[1 0 0 5]\n",
            " [0 1 0 -1]\n",
            " [0 0 1 -1]]\n"
          ]
        }
      ],
      "source": [
        "A = Matrix([[1, 1, 1, 3],\n",
        "            [1, 2, 3, 0],\n",
        "            [1, 3, 4, -2]])\n",
        "escalonada, _ = A.rref()\n",
        "print(\"Forma escalonada de A:\")\n",
        "print(np.array(escalonada))"
      ]
    },
    {
      "cell_type": "markdown",
      "metadata": {
        "id": "DM1LilH3mAMJ"
      },
      "source": [
        "## 12. Rango de una Matriz\n",
        "\n",
        "El **rango** de una matriz es el número de filas (o columnas) linealmente independientes, equivalente al número de pivotes en su forma escalonada.\n",
        "\n",
        "### Ejemplo\n",
        "Para $ A = \\begin{bmatrix} 1 & 2 \\\\ 2 & 4 \\end{bmatrix} $, la forma escalonada es:\n",
        "$$\n",
        "\\begin{bmatrix} 1 & 2 \\\\ 0 & 0 \\end{bmatrix}\n",
        "$$\n",
        "Rango = 1."
      ]
    },
    {
      "cell_type": "code",
      "execution_count": null,
      "metadata": {
        "id": "aPuYTyNZmAMJ",
        "outputId": "bdb785f9-40f6-4f04-f547-0d66ec19bae9"
      },
      "outputs": [
        {
          "name": "stdout",
          "output_type": "stream",
          "text": [
            "Rango de A: 1\n"
          ]
        }
      ],
      "source": [
        "# Matriz\n",
        "A = np.array([[1, 2],\n",
        "              [2, 4]])\n",
        "\n",
        "# Rango\n",
        "rango = np.linalg.matrix_rank(A)\n",
        "print(\"Rango de A:\", rango)"
      ]
    },
    {
      "cell_type": "markdown",
      "source": [
        "## 13. Transformaciones Lineales\n",
        "\n",
        "Una transformación lineal permite transformar un vector conservando sus propiedades fundamentales: suma y multiplicación por escalares.\n",
        "\n",
        "Si tenemos un vector $\\mathbf{x}$ y lo multiplicas por una matriz cuadrada $A$, obtenemos otro vector $T(\\mathbf{x})$ que es una transformación lineal del original.\n",
        "\n",
        "$$T(\\mathbf{x}) = A\\mathbf{x}$$\n",
        "\n",
        "Esto significa que, cualquiera que sea la matriz $A$, la imagen de la suma de dos vectores es la suma de las imágenes, y multiplicar un vector por un escalar antes o después de la transformación da el mismo resultado.\n",
        "\n",
        "Se cumplen estas dos propiedades de linealidad, para todo vector $\\mathbf{u}, \\mathbf{v}$ y escalar $c$:\n",
        "1. $T(\\mathbf{u} + \\mathbf{v}) = T(\\mathbf{u}) + T(\\mathbf{v})$\n",
        "2. $T(c\\mathbf{u}) = cT(\\mathbf{u})$\n",
        "\n",
        "### Transformación Lineal de Rotación\n",
        "Por ejemplo, vamos a ver cómo un vector en $\\mathbb{R}^2$ se puede rotar 90º usando la matriz:\n",
        "\n",
        "$$\n",
        "A = \\begin{bmatrix} 0 & -1 \\\\ 1 & 0 \\end{bmatrix}\n",
        "$$\n",
        "\n",
        "Si partimos del vector $\\mathbf{x} = \\begin{bmatrix}1 \\\\ 0 \\end{bmatrix}$, su transformación es:\n",
        "\n",
        "$$\n",
        "T(\\mathbf{x}) = A \\mathbf{x} = \\begin{bmatrix} 0 & -1 \\\\ 1 & 0 \\end{bmatrix}  \\begin{bmatrix}1 \\\\ 0 \\end{bmatrix} = \\begin{bmatrix} 0 \\\\ 1 \\end{bmatrix},\n",
        "$$\n",
        "lo que corresponde a rotar $\\mathbf{x}$ 90º hacia arriba."
      ],
      "metadata": {
        "id": "FpeW6IA5c3LI"
      }
    },
    {
      "cell_type": "code",
      "execution_count": null,
      "metadata": {
        "id": "1QjUHLYpmAMN",
        "outputId": "ee12bd8e-a322-4954-f54c-a6f7e16b36e4"
      },
      "outputs": [
        {
          "name": "stdout",
          "output_type": "stream",
          "text": [
            "Transformación de x: [0 1]\n"
          ]
        }
      ],
      "source": [
        "# Matriz de rotación\n",
        "A = np.array([[0, -1],\n",
        "              [1, 0]])\n",
        "x = np.array([1, 0])\n",
        "\n",
        "# Transformación\n",
        "T_x = np.dot(A, x)\n",
        "print(\"Transformación de x:\", T_x)"
      ]
    },
    {
      "cell_type": "markdown",
      "source": [
        "### Transformación Lineal de Escalado\n",
        "\n",
        "Un ejemplo sencillo de escalado en $\\mathbb{R}^2$ es la siguiente transformación lineal:\n",
        "\n",
        "$$\n",
        "T(\\mathbf{x}) = A \\mathbf{x} = \\begin{bmatrix} 2 & 0 \\\\ 0 & 3 \\end{bmatrix} \\begin{bmatrix} 1 \\\\ 1 \\end{bmatrix} = \\begin{bmatrix} 2 \\\\ 3 \\end{bmatrix},\n",
        "$$\n",
        "\n",
        "Aquí, el vector original $\\mathbf{x} = \\begin{bmatrix} 1 \\\\ 1 \\end{bmatrix}$ se escala multiplicando su componente $x$ por 2 y su componente $y$ por 3, obteniendo el vector $\\begin{bmatrix} 2 \\\\ 3 \\end{bmatrix}$.\n",
        "\n",
        "***\n",
        "\n",
        "### Transformación Lineal de Proyección\n",
        "\n",
        "Consideremos la proyección ortogonal sobre el eje $x$ en $\\mathbb{R}^2$, que \"aplasta\" el vector sobre ese eje eliminando la componente vertical:\n",
        "\n",
        "$$\n",
        "T(\\mathbf{v}) = P \\mathbf{v} = \\begin{bmatrix} 1 & 0 \\\\ 0 & 0 \\end{bmatrix} \\begin{bmatrix} x \\\\ y \\end{bmatrix} = \\begin{bmatrix} x \\\\ 0 \\end{bmatrix}.\n",
        "$$\n",
        "\n",
        "Por ejemplo, proyectando $\\mathbf{v} = \\begin{bmatrix} 3 \\\\ 5 \\end{bmatrix}$, obtenemos:\n",
        "\n",
        "$$\n",
        "T\\left(\\begin{bmatrix} 3 \\\\ 5 \\end{bmatrix}\\right) = \\begin{bmatrix} 3 \\\\ 0 \\end{bmatrix}.\n",
        "$$\n",
        "\n",
        "***\n",
        "\n",
        "### Transformación Lineal de Reflexión\n",
        "\n",
        "La reflexión respecto al eje $x$ cambia el signo de la componente $y$ manteniendo la de $x$. La matriz asociada es:\n",
        "\n",
        "$$\n",
        "T(\\mathbf{w}) = R \\mathbf{w} = \\begin{bmatrix} 1 & 0 \\\\ 0 & -1 \\end{bmatrix} \\begin{bmatrix} 3 \\\\ 4 \\end{bmatrix} = \\begin{bmatrix} 3 \\\\ -4 \\end{bmatrix}.\n",
        "$$\n",
        "\n",
        "Aquí, el vector $\\mathbf{w}$ se refleja respecto al eje $x$ invirtiendo su componente vertical.\n",
        "\n",
        "---\n"
      ],
      "metadata": {
        "id": "vxHpJ22jhdQO"
      }
    }
  ]
}